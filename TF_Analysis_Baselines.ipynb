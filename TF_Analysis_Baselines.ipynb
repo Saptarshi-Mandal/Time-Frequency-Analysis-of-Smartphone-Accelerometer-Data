{
  "nbformat": 4,
  "nbformat_minor": 0,
  "metadata": {
    "colab": {
      "name": "TF Analysis - Baselines.ipynb",
      "provenance": [],
      "collapsed_sections": [
        "FhG4o7iGzE0C",
        "frCz72VEz2rV",
        "MZIPYxmUz6CD",
        "gdyFjp0w0CD-",
        "ZfD8YVyP0GY6",
        "wbLwLcbv0RIm",
        "-6HFlvNk0W3i",
        "xWUhELR10cB7",
        "x8MZI0jn1YYj",
        "xMwxz2c917-K",
        "yWW6cXWB2R3-"
      ]
    },
    "kernelspec": {
      "display_name": "Python 3",
      "name": "python3"
    }
  },
  "cells": [
    {
      "cell_type": "markdown",
      "metadata": {
        "id": "FhG4o7iGzE0C"
      },
      "source": [
        "# Importing Libraries"
      ]
    },
    {
      "cell_type": "code",
      "metadata": {
        "id": "J99r04M8y8oT"
      },
      "source": [
        "import pandas as pd\n",
        "import numpy as np\n",
        "import matplotlib\n",
        "import matplotlib.pyplot as plt\n",
        "import tensorflow\n",
        "from tensorflow import keras\n",
        "import scipy as sc\n",
        "from scipy import signal"
      ],
      "execution_count": null,
      "outputs": []
    },
    {
      "cell_type": "markdown",
      "metadata": {
        "id": "frCz72VEz2rV"
      },
      "source": [
        "# Data Preprocessing"
      ]
    },
    {
      "cell_type": "markdown",
      "metadata": {
        "id": "MZIPYxmUz6CD"
      },
      "source": [
        "## Raw Dataset"
      ]
    },
    {
      "cell_type": "code",
      "metadata": {
        "colab": {
          "base_uri": "https://localhost:8080/"
        },
        "id": "XigVxXe6zNMH",
        "outputId": "8370c32a-7fb5-42be-9293-13ff342a115b"
      },
      "source": [
        "df = pd.read_csv(\"/content/230_Users_Acceleromter_Data.csv\")\n",
        "df"
      ],
      "execution_count": null,
      "outputs": [
        {
          "output_type": "execute_result",
          "data": {
            "text/html": [
              "<div>\n",
              "<style scoped>\n",
              "    .dataframe tbody tr th:only-of-type {\n",
              "        vertical-align: middle;\n",
              "    }\n",
              "\n",
              "    .dataframe tbody tr th {\n",
              "        vertical-align: top;\n",
              "    }\n",
              "\n",
              "    .dataframe thead th {\n",
              "        text-align: right;\n",
              "    }\n",
              "</style>\n",
              "<table border=\"1\" class=\"dataframe\">\n",
              "  <thead>\n",
              "    <tr style=\"text-align: right;\">\n",
              "      <th></th>\n",
              "      <th>Unnamed: 0</th>\n",
              "      <th>X</th>\n",
              "      <th>Y</th>\n",
              "      <th>Z</th>\n",
              "      <th>Label</th>\n",
              "    </tr>\n",
              "  </thead>\n",
              "  <tbody>\n",
              "    <tr>\n",
              "      <th>0</th>\n",
              "      <td>0</td>\n",
              "      <td>0.340509</td>\n",
              "      <td>8.308413</td>\n",
              "      <td>4.140585</td>\n",
              "      <td>0.0</td>\n",
              "    </tr>\n",
              "    <tr>\n",
              "      <th>1</th>\n",
              "      <td>1</td>\n",
              "      <td>0.381370</td>\n",
              "      <td>8.390134</td>\n",
              "      <td>4.249548</td>\n",
              "      <td>0.0</td>\n",
              "    </tr>\n",
              "    <tr>\n",
              "      <th>2</th>\n",
              "      <td>2</td>\n",
              "      <td>0.272407</td>\n",
              "      <td>8.471856</td>\n",
              "      <td>4.018002</td>\n",
              "      <td>0.0</td>\n",
              "    </tr>\n",
              "    <tr>\n",
              "      <th>3</th>\n",
              "      <td>3</td>\n",
              "      <td>0.149824</td>\n",
              "      <td>8.430995</td>\n",
              "      <td>4.290409</td>\n",
              "      <td>0.0</td>\n",
              "    </tr>\n",
              "    <tr>\n",
              "      <th>4</th>\n",
              "      <td>4</td>\n",
              "      <td>0.272407</td>\n",
              "      <td>8.430995</td>\n",
              "      <td>4.481094</td>\n",
              "      <td>0.0</td>\n",
              "    </tr>\n",
              "    <tr>\n",
              "      <th>...</th>\n",
              "      <td>...</td>\n",
              "      <td>...</td>\n",
              "      <td>...</td>\n",
              "      <td>...</td>\n",
              "      <td>...</td>\n",
              "    </tr>\n",
              "    <tr>\n",
              "      <th>3449995</th>\n",
              "      <td>3449995</td>\n",
              "      <td>6.360573</td>\n",
              "      <td>1.495091</td>\n",
              "      <td>7.165300</td>\n",
              "      <td>229.0</td>\n",
              "    </tr>\n",
              "    <tr>\n",
              "      <th>3449996</th>\n",
              "      <td>3449996</td>\n",
              "      <td>6.322253</td>\n",
              "      <td>1.456771</td>\n",
              "      <td>7.395222</td>\n",
              "      <td>229.0</td>\n",
              "    </tr>\n",
              "    <tr>\n",
              "      <th>3449997</th>\n",
              "      <td>3449997</td>\n",
              "      <td>6.322253</td>\n",
              "      <td>1.801653</td>\n",
              "      <td>7.280261</td>\n",
              "      <td>229.0</td>\n",
              "    </tr>\n",
              "    <tr>\n",
              "      <th>3449998</th>\n",
              "      <td>3449998</td>\n",
              "      <td>6.437214</td>\n",
              "      <td>1.993255</td>\n",
              "      <td>7.203620</td>\n",
              "      <td>229.0</td>\n",
              "    </tr>\n",
              "    <tr>\n",
              "      <th>3449999</th>\n",
              "      <td>3449999</td>\n",
              "      <td>6.360573</td>\n",
              "      <td>1.763333</td>\n",
              "      <td>7.165300</td>\n",
              "      <td>229.0</td>\n",
              "    </tr>\n",
              "  </tbody>\n",
              "</table>\n",
              "<p>3450000 rows × 5 columns</p>\n",
              "</div>"
            ],
            "text/plain": [
              "         Unnamed: 0         X         Y         Z  Label\n",
              "0                 0  0.340509  8.308413  4.140585    0.0\n",
              "1                 1  0.381370  8.390134  4.249548    0.0\n",
              "2                 2  0.272407  8.471856  4.018002    0.0\n",
              "3                 3  0.149824  8.430995  4.290409    0.0\n",
              "4                 4  0.272407  8.430995  4.481094    0.0\n",
              "...             ...       ...       ...       ...    ...\n",
              "3449995     3449995  6.360573  1.495091  7.165300  229.0\n",
              "3449996     3449996  6.322253  1.456771  7.395222  229.0\n",
              "3449997     3449997  6.322253  1.801653  7.280261  229.0\n",
              "3449998     3449998  6.437214  1.993255  7.203620  229.0\n",
              "3449999     3449999  6.360573  1.763333  7.165300  229.0\n",
              "\n",
              "[3450000 rows x 5 columns]"
            ]
          },
          "metadata": {
            "tags": []
          },
          "execution_count": 2
        }
      ]
    },
    {
      "cell_type": "code",
      "metadata": {
        "colab": {
          "base_uri": "https://localhost:8080/"
        },
        "id": "-hx8IZY9zOWJ",
        "outputId": "5944d9df-2aac-496f-a3b0-0dab82d24a7b"
      },
      "source": [
        "df = df.drop(\"Unnamed: 0\",axis=1)\n",
        "df"
      ],
      "execution_count": null,
      "outputs": [
        {
          "output_type": "execute_result",
          "data": {
            "text/html": [
              "<div>\n",
              "<style scoped>\n",
              "    .dataframe tbody tr th:only-of-type {\n",
              "        vertical-align: middle;\n",
              "    }\n",
              "\n",
              "    .dataframe tbody tr th {\n",
              "        vertical-align: top;\n",
              "    }\n",
              "\n",
              "    .dataframe thead th {\n",
              "        text-align: right;\n",
              "    }\n",
              "</style>\n",
              "<table border=\"1\" class=\"dataframe\">\n",
              "  <thead>\n",
              "    <tr style=\"text-align: right;\">\n",
              "      <th></th>\n",
              "      <th>X</th>\n",
              "      <th>Y</th>\n",
              "      <th>Z</th>\n",
              "      <th>Label</th>\n",
              "    </tr>\n",
              "  </thead>\n",
              "  <tbody>\n",
              "    <tr>\n",
              "      <th>0</th>\n",
              "      <td>0.340509</td>\n",
              "      <td>8.308413</td>\n",
              "      <td>4.140585</td>\n",
              "      <td>0.0</td>\n",
              "    </tr>\n",
              "    <tr>\n",
              "      <th>1</th>\n",
              "      <td>0.381370</td>\n",
              "      <td>8.390134</td>\n",
              "      <td>4.249548</td>\n",
              "      <td>0.0</td>\n",
              "    </tr>\n",
              "    <tr>\n",
              "      <th>2</th>\n",
              "      <td>0.272407</td>\n",
              "      <td>8.471856</td>\n",
              "      <td>4.018002</td>\n",
              "      <td>0.0</td>\n",
              "    </tr>\n",
              "    <tr>\n",
              "      <th>3</th>\n",
              "      <td>0.149824</td>\n",
              "      <td>8.430995</td>\n",
              "      <td>4.290409</td>\n",
              "      <td>0.0</td>\n",
              "    </tr>\n",
              "    <tr>\n",
              "      <th>4</th>\n",
              "      <td>0.272407</td>\n",
              "      <td>8.430995</td>\n",
              "      <td>4.481094</td>\n",
              "      <td>0.0</td>\n",
              "    </tr>\n",
              "    <tr>\n",
              "      <th>...</th>\n",
              "      <td>...</td>\n",
              "      <td>...</td>\n",
              "      <td>...</td>\n",
              "      <td>...</td>\n",
              "    </tr>\n",
              "    <tr>\n",
              "      <th>3449995</th>\n",
              "      <td>6.360573</td>\n",
              "      <td>1.495091</td>\n",
              "      <td>7.165300</td>\n",
              "      <td>229.0</td>\n",
              "    </tr>\n",
              "    <tr>\n",
              "      <th>3449996</th>\n",
              "      <td>6.322253</td>\n",
              "      <td>1.456771</td>\n",
              "      <td>7.395222</td>\n",
              "      <td>229.0</td>\n",
              "    </tr>\n",
              "    <tr>\n",
              "      <th>3449997</th>\n",
              "      <td>6.322253</td>\n",
              "      <td>1.801653</td>\n",
              "      <td>7.280261</td>\n",
              "      <td>229.0</td>\n",
              "    </tr>\n",
              "    <tr>\n",
              "      <th>3449998</th>\n",
              "      <td>6.437214</td>\n",
              "      <td>1.993255</td>\n",
              "      <td>7.203620</td>\n",
              "      <td>229.0</td>\n",
              "    </tr>\n",
              "    <tr>\n",
              "      <th>3449999</th>\n",
              "      <td>6.360573</td>\n",
              "      <td>1.763333</td>\n",
              "      <td>7.165300</td>\n",
              "      <td>229.0</td>\n",
              "    </tr>\n",
              "  </tbody>\n",
              "</table>\n",
              "<p>3450000 rows × 4 columns</p>\n",
              "</div>"
            ],
            "text/plain": [
              "                X         Y         Z  Label\n",
              "0        0.340509  8.308413  4.140585    0.0\n",
              "1        0.381370  8.390134  4.249548    0.0\n",
              "2        0.272407  8.471856  4.018002    0.0\n",
              "3        0.149824  8.430995  4.290409    0.0\n",
              "4        0.272407  8.430995  4.481094    0.0\n",
              "...           ...       ...       ...    ...\n",
              "3449995  6.360573  1.495091  7.165300  229.0\n",
              "3449996  6.322253  1.456771  7.395222  229.0\n",
              "3449997  6.322253  1.801653  7.280261  229.0\n",
              "3449998  6.437214  1.993255  7.203620  229.0\n",
              "3449999  6.360573  1.763333  7.165300  229.0\n",
              "\n",
              "[3450000 rows x 4 columns]"
            ]
          },
          "metadata": {
            "tags": []
          },
          "execution_count": 3
        }
      ]
    },
    {
      "cell_type": "markdown",
      "metadata": {
        "id": "gdyFjp0w0CD-"
      },
      "source": [
        "## Distributing User Data to Array"
      ]
    },
    {
      "cell_type": "code",
      "metadata": {
        "id": "jNXaqBJwzOTy"
      },
      "source": [
        "length = 15000\n",
        "N_Users=175"
      ],
      "execution_count": null,
      "outputs": []
    },
    {
      "cell_type": "code",
      "metadata": {
        "colab": {
          "base_uri": "https://localhost:8080/"
        },
        "id": "1CGVXaTLzORi",
        "outputId": "8459451b-f0c8-41a0-f3d6-dc343144c311"
      },
      "source": [
        "import time\n",
        "start_time = time.time()\n",
        "k=0\n",
        "X=[0 for p in range(N_Users)] # Final Array\n",
        "for i in range(0,length*N_Users,length):\n",
        "    temp=[]\n",
        "    for j in range(length):\n",
        "        x_y_z = [df.iloc[i+j,0],df.iloc[i+j,1],df.iloc[i+j,2]]\n",
        "        temp.append(x_y_z)\n",
        "    X[k]=temp\n",
        "    k+=1 #incrementing [Final Array] indices\n",
        "print(\"--- %s seconds ---\" % (time.time() - start_time))"
      ],
      "execution_count": null,
      "outputs": [
        {
          "output_type": "stream",
          "text": [
            "--- 187.54916834831238 seconds ---\n"
          ],
          "name": "stdout"
        }
      ]
    },
    {
      "cell_type": "code",
      "metadata": {
        "colab": {
          "base_uri": "https://localhost:8080/"
        },
        "id": "GnSad2mpzOPE",
        "outputId": "9d90eec0-8ccd-4661-f94e-074c45d49510"
      },
      "source": [
        "t=np.array(X)\n",
        "t.shape"
      ],
      "execution_count": null,
      "outputs": [
        {
          "output_type": "execute_result",
          "data": {
            "text/plain": [
              "(175, 15000, 3)"
            ]
          },
          "metadata": {
            "tags": []
          },
          "execution_count": 6
        }
      ]
    },
    {
      "cell_type": "markdown",
      "metadata": {
        "id": "ZfD8YVyP0GY6"
      },
      "source": [
        "## Algo for creating windows"
      ]
    },
    {
      "cell_type": "code",
      "metadata": {
        "id": "dPBfZHOizOMh"
      },
      "source": [
        "# Main Algo for Creating Windows .....#1\n",
        "\n",
        "def create(df,wind_size,hop_size,m_index):\n",
        "  #l=((len(df.x)-wind_size)/hop_size)+1\n",
        "  #rows, cols = (wind_size, 3) \n",
        "#  a = [[0 for i in range(cols)] for j in range(rows)] \n",
        "  array= [0 for i in range(int((length-wind_size)/hop_size)+1)]\n",
        "  k = 0\n",
        "  for i in range(0,(length-wind_size+1),hop_size):\n",
        "      a=create1(df,i,wind_size,m_index)\n",
        "       #array.append(a)\n",
        "      array[k] = a\n",
        "      k+=1\n",
        "  #return pd.DataFrame(array)\n",
        "  return array\n"
      ],
      "execution_count": null,
      "outputs": []
    },
    {
      "cell_type": "code",
      "metadata": {
        "id": "wb8uj79SzOKD"
      },
      "source": [
        "# Main Algo for Creating Windows .....#2\n",
        "\n",
        "def create1(df,x,w,m_index):\n",
        "     rows = w \n",
        "     cols = 3\n",
        "     arr = [[0 for i in range(cols)] for j in range(rows)] \n",
        "     for i in range(0,w,1):\n",
        "        arr[i][0]=df[x+i][0]\n",
        "        arr[i][1]=df[x+i][1]\n",
        "        arr[i][2]=df[x+i][2]\n",
        "     arr = np.array(arr)\n",
        "     f1,t1,x = signal.stft(arr[:,0],5,nperseg=10)\n",
        "     f2,t2,y = signal.stft(arr[:,1],5,nperseg=10)\n",
        "     f3,t3,z = signal.stft(arr[:,2],5,nperseg=10)\n",
        "     temp_a = np.concatenate((abs(np.array(x)),abs(np.array(y)),abs(np.array(z))),axis=0)\n",
        "     return temp_a.flatten()"
      ],
      "execution_count": null,
      "outputs": []
    },
    {
      "cell_type": "markdown",
      "metadata": {
        "id": "wbLwLcbv0RIm"
      },
      "source": [
        "## Final Array for training"
      ]
    },
    {
      "cell_type": "code",
      "metadata": {
        "colab": {
          "base_uri": "https://localhost:8080/"
        },
        "id": "kA8AIEK0zOFD",
        "outputId": "9a7b7c5f-1e63-4a20-fa13-9a5b77016a14"
      },
      "source": [
        "import time\n",
        "start_time = time.time()\n",
        "X_final = [0 for i in range(N_Users)]\n",
        "for m_index in range(N_Users):\n",
        "  X_final[m_index]=create(X[m_index],225,10,m_index)\n",
        "print(\"--- %s seconds ---\" % (time.time() - start_time))"
      ],
      "execution_count": null,
      "outputs": [
        {
          "output_type": "stream",
          "text": [
            "--- 281.38446712493896 seconds ---\n"
          ],
          "name": "stdout"
        }
      ]
    },
    {
      "cell_type": "code",
      "metadata": {
        "colab": {
          "base_uri": "https://localhost:8080/"
        },
        "id": "PA0ML0V9zNxx",
        "outputId": "332d2abb-7621-4e40-c6ae-88dc0c6bb22a"
      },
      "source": [
        "t=np.array(X_final[0])\n",
        "t.shape             # The shape gives(number of windows,shape of TF plot image)"
      ],
      "execution_count": null,
      "outputs": [
        {
          "output_type": "execute_result",
          "data": {
            "text/plain": [
              "(1478, 828)"
            ]
          },
          "metadata": {
            "tags": []
          },
          "execution_count": 10
        }
      ]
    },
    {
      "cell_type": "code",
      "metadata": {
        "id": "Prq-rgm0zc6V"
      },
      "source": [
        "X_input=[]\n",
        "for i in range(N_Users):\n",
        "  temp = X_final[i]\n",
        "  X_input += temp\n",
        "X_input = np.array(X_input)"
      ],
      "execution_count": null,
      "outputs": []
    },
    {
      "cell_type": "markdown",
      "metadata": {
        "id": "-6HFlvNk0W3i"
      },
      "source": [
        "## Creating Labels"
      ]
    },
    {
      "cell_type": "code",
      "metadata": {
        "id": "rI3WFKhTzc37"
      },
      "source": [
        "y = [0 for i in range(X_input.shape[0])]\n",
        "for i in range(X_input.shape[0]):\n",
        "  y[i]=int(i*N_Users/X_input.shape[0])\n",
        "y = np.array(y)"
      ],
      "execution_count": null,
      "outputs": []
    },
    {
      "cell_type": "markdown",
      "metadata": {
        "id": "xWUhELR10cB7"
      },
      "source": [
        "## Final Input"
      ]
    },
    {
      "cell_type": "code",
      "metadata": {
        "id": "NwDIw-XNzc1j"
      },
      "source": [
        "import sklearn\n",
        "from sklearn.model_selection import train_test_split\n",
        "X_train , X_test , y_train , y_test = train_test_split(X_input,y,test_size = 0.2,shuffle=True)"
      ],
      "execution_count": null,
      "outputs": []
    },
    {
      "cell_type": "markdown",
      "metadata": {
        "id": "k_tTjQWA00BC"
      },
      "source": [
        "# BASELINES"
      ]
    },
    {
      "cell_type": "markdown",
      "metadata": {
        "id": "m608ciVB07v6"
      },
      "source": [
        "## ML Classifiers"
      ]
    },
    {
      "cell_type": "code",
      "metadata": {
        "id": "m-0BohAw_u8q"
      },
      "source": [
        "from sklearn import linear_model\n",
        "from sklearn import tree\n",
        "from sklearn import ensemble\n",
        "from sklearn import neighbors\n",
        "from sklearn import metrics\n",
        "from sklearn import neural_network"
      ],
      "execution_count": null,
      "outputs": []
    },
    {
      "cell_type": "code",
      "metadata": {
        "id": "RPlYIDxCzczL"
      },
      "source": [
        "clf_Logistic_Reg = sklearn.linear_model.LogisticRegression(max_iter=800)\n",
        "clf_dt = sklearn.tree.DecisionTreeClassifier()\n",
        "clf_rf = sklearn.ensemble.RandomForestClassifier()\n",
        "clf_knn = sklearn.neighbors.KNeighborsClassifier()\n",
        "clf_nn = sklearn.neural_network.MLPClassifier()"
      ],
      "execution_count": null,
      "outputs": []
    },
    {
      "cell_type": "code",
      "metadata": {
        "id": "LOa0MTEM1D76"
      },
      "source": [
        ""
      ],
      "execution_count": null,
      "outputs": []
    },
    {
      "cell_type": "markdown",
      "metadata": {
        "id": "8mQYq8u61VmU"
      },
      "source": [
        "## Performance Metrics"
      ]
    },
    {
      "cell_type": "markdown",
      "metadata": {
        "id": "x8MZI0jn1YYj"
      },
      "source": [
        "### Logistic Regression"
      ]
    },
    {
      "cell_type": "code",
      "metadata": {
        "id": "xgYtKB9xAZf1",
        "colab": {
          "base_uri": "https://localhost:8080/"
        },
        "outputId": "dcfe08b6-d481-4ab4-fc66-c17e451fb917"
      },
      "source": [
        "start_time = time.time()\n",
        "clf_Logistic_Reg.fit(X_train,y_train)\n",
        "print(\"--- %s seconds ---\" % (time.time() - start_time))"
      ],
      "execution_count": null,
      "outputs": [
        {
          "output_type": "stream",
          "text": [
            "--- 2119.0776693820953 seconds ---\n"
          ],
          "name": "stdout"
        },
        {
          "output_type": "stream",
          "text": [
            "/usr/local/lib/python3.7/dist-packages/sklearn/linear_model/_logistic.py:940: ConvergenceWarning: lbfgs failed to converge (status=1):\n",
            "STOP: TOTAL NO. of ITERATIONS REACHED LIMIT.\n",
            "\n",
            "Increase the number of iterations (max_iter) or scale the data as shown in:\n",
            "    https://scikit-learn.org/stable/modules/preprocessing.html\n",
            "Please also refer to the documentation for alternative solver options:\n",
            "    https://scikit-learn.org/stable/modules/linear_model.html#logistic-regression\n",
            "  extra_warning_msg=_LOGISTIC_SOLVER_CONVERGENCE_MSG)\n"
          ],
          "name": "stderr"
        }
      ]
    },
    {
      "cell_type": "code",
      "metadata": {
        "colab": {
          "base_uri": "https://localhost:8080/"
        },
        "id": "X-5HCcb_1nOl",
        "outputId": "c4c2ab89-2444-4538-9142-7bf20872229a"
      },
      "source": [
        "start_time = time.time()\n",
        "y_pred_train_Log = clf_Logistic_Reg.predict(X_train)\n",
        "print(\"--- %s seconds ---\" % (time.time() - start_time))"
      ],
      "execution_count": null,
      "outputs": [
        {
          "output_type": "stream",
          "text": [
            "--- 1.0506551265716553 seconds ---\n"
          ],
          "name": "stdout"
        }
      ]
    },
    {
      "cell_type": "code",
      "metadata": {
        "colab": {
          "base_uri": "https://localhost:8080/"
        },
        "id": "TP9AYcj91X4w",
        "outputId": "5fbec464-bd51-4dfa-c5fa-69f503cde24e"
      },
      "source": [
        "start_time = time.time()\n",
        "y_pred_test_Log = clf_Logistic_Reg.predict(X_test)\n",
        "print(\"--- %s seconds ---\" % (time.time() - start_time))"
      ],
      "execution_count": null,
      "outputs": [
        {
          "output_type": "stream",
          "text": [
            "--- 0.2786436080932617 seconds ---\n"
          ],
          "name": "stdout"
        }
      ]
    },
    {
      "cell_type": "code",
      "metadata": {
        "colab": {
          "base_uri": "https://localhost:8080/"
        },
        "id": "i_A6A_e21X2a",
        "outputId": "3b985f6d-e008-40b1-c2c3-65770cee18b9"
      },
      "source": [
        "acc_train = metrics.accuracy_score(y_train,y_pred_train_Log)\n",
        "acc_test = metrics.accuracy_score(y_test,y_pred_test_Log)\n",
        "print('Logistic Regression:')\n",
        "print('Accuracy: %.4f' % acc_train,'val_acc: %.4f' %acc_test)"
      ],
      "execution_count": null,
      "outputs": [
        {
          "output_type": "stream",
          "text": [
            "Logistic Regression:\n",
            "Accuracy: 0.3252 val_acc: 0.2453\n"
          ],
          "name": "stdout"
        }
      ]
    },
    {
      "cell_type": "code",
      "metadata": {
        "colab": {
          "base_uri": "https://localhost:8080/"
        },
        "id": "X5bNmb9b1Xz7",
        "outputId": "6365f4bb-1568-4e26-db04-f59c52ff69fe"
      },
      "source": [
        "recall = metrics.recall_score(y_test, y_pred_test_Log, labels=[1,2], average='micro')\n",
        "precision = metrics.precision_score(y_test, y_pred_test_Log, labels=[1,2], average='micro')\n",
        "f1 = metrics.f1_score(y_test, y_pred_test_Log, labels=[1,2], average='micro')\n",
        "print('Recall: %.4f' % recall,'Precision: %.4f' % precision,'F-Measure: %.4f' % f1)"
      ],
      "execution_count": null,
      "outputs": [
        {
          "output_type": "stream",
          "text": [
            "Recall: 0.0758 Precision: 0.0926 F-Measure: 0.0833\n"
          ],
          "name": "stdout"
        }
      ]
    },
    {
      "cell_type": "markdown",
      "metadata": {
        "id": "xMwxz2c917-K"
      },
      "source": [
        "### SVM"
      ]
    },
    {
      "cell_type": "code",
      "metadata": {
        "id": "N3PrDUf415qS"
      },
      "source": [
        "#start_time = time.time()\n",
        "#y_pred_train_svm = clf_SVM.predict(X_train)\n",
        "#print(\"--- %s seconds ---\" % (time.time() - start_time))"
      ],
      "execution_count": null,
      "outputs": []
    },
    {
      "cell_type": "code",
      "metadata": {
        "id": "A10oHgKA15nq"
      },
      "source": [
        "#start_time = time.time()\n",
        "#y_pred_test_svm = clf_SVM.predict(X_test)\n",
        "#print(\"--- %s seconds ---\" % (time.time() - start_time))"
      ],
      "execution_count": null,
      "outputs": []
    },
    {
      "cell_type": "code",
      "metadata": {
        "id": "_6ZVQB4N15lN"
      },
      "source": [
        "#acc_train = metrics.accuracy_score(y_train,y_pred_train_svm)\n",
        "#acc_test = metrics.accuracy_score(y_test,y_pred_test_svm)\n",
        "#print('SVM:')\n",
        "#print('Accuracy: %.4f' % acc_train, 'val_acc: %.4f' %acc_test)"
      ],
      "execution_count": null,
      "outputs": []
    },
    {
      "cell_type": "code",
      "metadata": {
        "id": "TUG2Ekkx15iz"
      },
      "source": [
        "#recall = metrics.recall_score(y_test, y_pred_test_svm, labels=[1,2], average='micro')\n",
        "#precision = metrics.precision_score(y_test,y_pred_test_svm, labels=[1,2], average='micro')\n",
        "#f1 = metrics.f1_score(y_test, y_pred_test_svm, labels=[1,2], average='micro')\n",
        "#print('Recall: %.4f' % recall,'Precision: %.4f' % precision,'F-Measure: %.4f' % f1)"
      ],
      "execution_count": null,
      "outputs": []
    },
    {
      "cell_type": "markdown",
      "metadata": {
        "id": "yWW6cXWB2R3-"
      },
      "source": [
        "### Decision Tree"
      ]
    },
    {
      "cell_type": "code",
      "metadata": {
        "id": "NY2h0y9TAeAM",
        "colab": {
          "base_uri": "https://localhost:8080/"
        },
        "outputId": "65eb0651-915e-47b3-aab9-92881e4ad5fc"
      },
      "source": [
        "start_time = time.time()\n",
        "clf_dt.fit(X_train,y_train)\n",
        "print(\"--- %s seconds ---\" % (time.time() - start_time))"
      ],
      "execution_count": null,
      "outputs": [
        {
          "output_type": "stream",
          "text": [
            "--- 2075.8634638786316 seconds ---\n"
          ],
          "name": "stdout"
        }
      ]
    },
    {
      "cell_type": "code",
      "metadata": {
        "id": "CoBvs0hK15gT",
        "colab": {
          "base_uri": "https://localhost:8080/"
        },
        "outputId": "2985be57-3569-4d3b-ff03-f896d5169382"
      },
      "source": [
        "start_time = time.time()\n",
        "y_pred_train_dt = clf_dt.predict(X_train)\n",
        "print(\"--- %s seconds ---\" % (time.time() - start_time))"
      ],
      "execution_count": null,
      "outputs": [
        {
          "output_type": "stream",
          "text": [
            "--- 1.7243244647979736 seconds ---\n"
          ],
          "name": "stdout"
        }
      ]
    },
    {
      "cell_type": "code",
      "metadata": {
        "id": "wzK56W3-1DzI",
        "colab": {
          "base_uri": "https://localhost:8080/"
        },
        "outputId": "a3bf385e-aa5c-4835-a756-17862a3f5188"
      },
      "source": [
        "start_time = time.time()\n",
        "y_pred_test_dt = clf_dt.predict(X_test)\n",
        "print(\"--- %s seconds ---\" % (time.time() - start_time))"
      ],
      "execution_count": null,
      "outputs": [
        {
          "output_type": "stream",
          "text": [
            "--- 0.4331040382385254 seconds ---\n"
          ],
          "name": "stdout"
        }
      ]
    },
    {
      "cell_type": "code",
      "metadata": {
        "id": "oP3Jb_6j2V9j",
        "colab": {
          "base_uri": "https://localhost:8080/"
        },
        "outputId": "dbb5ba9b-7312-4e8c-9a07-9b9377f27d4b"
      },
      "source": [
        "acc_train = metrics.accuracy_score(y_train,y_pred_train_dt)\n",
        "acc_test = metrics.accuracy_score(y_test,y_pred_test_dt)\n",
        "print('Decision Tree:')\n",
        "print('Accuracy: %.4f' % acc_train,'val_acc: %.4f' %acc_test)"
      ],
      "execution_count": null,
      "outputs": [
        {
          "output_type": "stream",
          "text": [
            "Decision Tree:\n",
            "Accuracy: 1.0000 val_acc: 0.2655\n"
          ],
          "name": "stdout"
        }
      ]
    },
    {
      "cell_type": "code",
      "metadata": {
        "id": "f1DotcYZ2V66",
        "colab": {
          "base_uri": "https://localhost:8080/"
        },
        "outputId": "b3abeea5-423f-4c6a-8d44-689a2ab33b87"
      },
      "source": [
        "recall = metrics.recall_score(y_test, y_pred_test_dt, labels=[1,2], average='micro')\n",
        "precision = metrics.precision_score(y_test,y_pred_test_dt, labels=[1,2], average='micro')\n",
        "f1 = metrics.f1_score(y_test, y_pred_test_dt, labels=[1,2], average='micro')\n",
        "print('Recall: %.4f' % recall,'Precision: %.4f' % precision,'F-Measure: %.4f' % f1)"
      ],
      "execution_count": null,
      "outputs": [
        {
          "output_type": "stream",
          "text": [
            "Recall: 0.0943 Precision: 0.0924 F-Measure: 0.0934\n"
          ],
          "name": "stdout"
        }
      ]
    },
    {
      "cell_type": "markdown",
      "metadata": {
        "id": "-yviQK2K2x_8"
      },
      "source": [
        "### Random Forest"
      ]
    },
    {
      "cell_type": "code",
      "metadata": {
        "id": "-omKuqxbAjRs"
      },
      "source": [
        "start_time = time.time()\n",
        "clf_rf.fit(X_train,y_train)\n",
        "print(\"--- %s seconds ---\" % (time.time() - start_time))"
      ],
      "execution_count": null,
      "outputs": []
    },
    {
      "cell_type": "code",
      "metadata": {
        "id": "yiJcXhr22V4N"
      },
      "source": [
        "start_time = time.time()\n",
        "y_pred_train_rf = clf_rf.predict(X_train)\n",
        "print(\"--- %s seconds ---\" % (time.time() - start_time))"
      ],
      "execution_count": null,
      "outputs": []
    },
    {
      "cell_type": "code",
      "metadata": {
        "id": "76J55QSw2Vzn"
      },
      "source": [
        "start_time = time.time()\n",
        "y_pred_test_rf = clf_rf.predict(X_test)\n",
        "print(\"--- %s seconds ---\" % (time.time() - start_time))"
      ],
      "execution_count": null,
      "outputs": []
    },
    {
      "cell_type": "code",
      "metadata": {
        "id": "4GtbJPWy28Bk"
      },
      "source": [
        "acc_train = metrics.accuracy_score(y_train,y_pred_train_rf)\n",
        "acc_test = metrics.accuracy_score(y_test,y_pred_test_rf)\n",
        "print('Random Forest:')\n",
        "print('Accuracy: %.4f' % acc_train,'val_acc: %.4f' %acc_test)"
      ],
      "execution_count": null,
      "outputs": []
    },
    {
      "cell_type": "code",
      "metadata": {
        "id": "f2vs6uXL2750"
      },
      "source": [
        "recall = metrics.recall_score(y_test, y_pred_test_rf, labels=[1,2], average='micro')\n",
        "precision = metrics.precision_score(y_test,y_pred_test_rf, labels=[1,2], average='micro')\n",
        "f1 = metrics.f1_score(y_test, y_pred_test_rf, labels=[1,2], average='micro')\n",
        "print('Recall: %.4f' % recall,'Precision: %.4f' % precision,'F-Measure: %.4f' % f1)"
      ],
      "execution_count": null,
      "outputs": []
    },
    {
      "cell_type": "markdown",
      "metadata": {
        "id": "AFKBaQdB2-8q"
      },
      "source": [
        "### KNN"
      ]
    },
    {
      "cell_type": "code",
      "metadata": {
        "id": "KkKvTRzCAmYM",
        "colab": {
          "base_uri": "https://localhost:8080/"
        },
        "outputId": "8dd452d2-c579-4a77-c02c-3b14ad045e78"
      },
      "source": [
        "start_time = time.time()\n",
        "clf_knn.fit(X_train,y_train)\n",
        "print(\"--- %s seconds ---\" % (time.time() - start_time))"
      ],
      "execution_count": null,
      "outputs": [
        {
          "output_type": "stream",
          "text": [
            "--- 32.76158356666565 seconds ---\n"
          ],
          "name": "stdout"
        }
      ]
    },
    {
      "cell_type": "code",
      "metadata": {
        "id": "FIA1Tdwg273N"
      },
      "source": [
        "#start_time = time.time()\n",
        "#y_pred_train_knn = clf_knn.predict(X_train)\n",
        "#print(\"--- %s seconds ---\" % (time.time() - start_time))"
      ],
      "execution_count": null,
      "outputs": []
    },
    {
      "cell_type": "code",
      "metadata": {
        "id": "MB344FNh27zw",
        "colab": {
          "base_uri": "https://localhost:8080/"
        },
        "outputId": "f8742d88-a678-409f-ccf6-efbb573f6e03"
      },
      "source": [
        "start_time = time.time()\n",
        "y_pred_test_knn = clf_knn.predict(X_test)\n",
        "print(\"--- %s seconds ---\" % (time.time() - start_time))"
      ],
      "execution_count": null,
      "outputs": [
        {
          "output_type": "stream",
          "text": [
            "--- 6052.137808084488 seconds ---\n"
          ],
          "name": "stdout"
        }
      ]
    },
    {
      "cell_type": "code",
      "metadata": {
        "id": "DzTvj5lCbXBg",
        "colab": {
          "base_uri": "https://localhost:8080/"
        },
        "outputId": "49272dfa-f8da-416f-9487-7ee06f3bfca7"
      },
      "source": [
        "#acc_train = metrics.accuracy_score(y_train,y_pred_train_knn)\n",
        "acc_test = metrics.accuracy_score(y_test,y_pred_test_knn)\n",
        "print('KNN:')\n",
        "#print('Accuracy: %.4f' % acc_train,'val_acc: %.4f' %acc_test)\n",
        "print('val_acc: %.4f' %acc_test)"
      ],
      "execution_count": null,
      "outputs": [
        {
          "output_type": "stream",
          "text": [
            "KNN:\n",
            "val_acc: 0.4055\n"
          ],
          "name": "stdout"
        }
      ]
    },
    {
      "cell_type": "code",
      "metadata": {
        "id": "J8ZUNfK03IuQ",
        "colab": {
          "base_uri": "https://localhost:8080/"
        },
        "outputId": "f3287ca0-6b21-4ad1-a5f0-a0d5d03481f4"
      },
      "source": [
        "recall = metrics.recall_score(y_test, y_pred_test_knn, labels=[1,2], average='micro')\n",
        "precision = metrics.precision_score(y_test,y_pred_test_knn, labels=[1,2], average='micro')\n",
        "f1 = metrics.f1_score(y_test,y_pred_test_knn, labels=[1,2], average='micro')\n",
        "print('Recall: %.4f' % recall,'Precision: %.4f' % precision,'F-Measure: %.4f' % f1)"
      ],
      "execution_count": null,
      "outputs": [
        {
          "output_type": "stream",
          "text": [
            "Recall: 0.2576 Precision: 0.1485 F-Measure: 0.1884\n"
          ],
          "name": "stdout"
        }
      ]
    },
    {
      "cell_type": "markdown",
      "metadata": {
        "id": "B7IL_Q44pdu3"
      },
      "source": [
        "### MLP"
      ]
    },
    {
      "cell_type": "code",
      "metadata": {
        "id": "kFTGs1LtS3ka",
        "colab": {
          "base_uri": "https://localhost:8080/"
        },
        "outputId": "7600e443-f48c-4b6b-9a62-84655c3c3230"
      },
      "source": [
        "start_time = time.time()\n",
        "clf_nn.fit(X_train,y_train)\n",
        "print(\"--- %s seconds ---\" % (time.time() - start_time))"
      ],
      "execution_count": null,
      "outputs": [
        {
          "output_type": "stream",
          "text": [
            "--- 1670.9286003112793 seconds ---\n"
          ],
          "name": "stdout"
        },
        {
          "output_type": "stream",
          "text": [
            "/usr/local/lib/python3.7/dist-packages/sklearn/neural_network/_multilayer_perceptron.py:571: ConvergenceWarning: Stochastic Optimizer: Maximum iterations (200) reached and the optimization hasn't converged yet.\n",
            "  % self.max_iter, ConvergenceWarning)\n"
          ],
          "name": "stderr"
        }
      ]
    },
    {
      "cell_type": "code",
      "metadata": {
        "id": "SRK1Wq-PpYxh",
        "colab": {
          "base_uri": "https://localhost:8080/"
        },
        "outputId": "7527ed9e-f224-4007-ffd8-dae5f0cb8b71"
      },
      "source": [
        "start_time = time.time()\n",
        "y_pred_train_nn = clf_nn.predict(X_train)\n",
        "print(\"--- %s seconds ---\" % (time.time() - start_time))"
      ],
      "execution_count": null,
      "outputs": [
        {
          "output_type": "stream",
          "text": [
            "--- 2.212235927581787 seconds ---\n"
          ],
          "name": "stdout"
        }
      ]
    },
    {
      "cell_type": "code",
      "metadata": {
        "id": "oP8K-YfqpaQu",
        "colab": {
          "base_uri": "https://localhost:8080/"
        },
        "outputId": "f1e22d60-c5a6-4b9f-d68c-8df4ee488c76"
      },
      "source": [
        "start_time = time.time()\n",
        "y_pred_test_nn = clf_nn.predict(X_test)\n",
        "print(\"--- %s seconds ---\" % (time.time() - start_time))"
      ],
      "execution_count": null,
      "outputs": [
        {
          "output_type": "stream",
          "text": [
            "--- 0.719841480255127 seconds ---\n"
          ],
          "name": "stdout"
        }
      ]
    },
    {
      "cell_type": "code",
      "metadata": {
        "id": "lmcDuW5fpbvn",
        "colab": {
          "base_uri": "https://localhost:8080/"
        },
        "outputId": "b32c0e47-a16c-4fc8-c90c-a1e6d8f19e7e"
      },
      "source": [
        "acc_train = metrics.accuracy_score(y_train,y_pred_train_nn)\n",
        "acc_test = metrics.accuracy_score(y_test,y_pred_test_nn)\n",
        "print('MLP:')\n",
        "print('Accuracy: %.4f' % acc_train,'val_acc: %.4f' %acc_test)"
      ],
      "execution_count": null,
      "outputs": [
        {
          "output_type": "stream",
          "text": [
            "MLP:\n",
            "Accuracy: 0.4454 val_acc: 0.4141\n"
          ],
          "name": "stdout"
        }
      ]
    },
    {
      "cell_type": "code",
      "metadata": {
        "id": "lCTk1ujYpc9X",
        "colab": {
          "base_uri": "https://localhost:8080/"
        },
        "outputId": "0d0fdf6f-9384-49fc-f0e3-d8170f8b67a6"
      },
      "source": [
        "recall = metrics.recall_score(y_test, y_pred_test_nn, labels=[1,2], average='micro')\n",
        "precision = metrics.precision_score(y_test,y_pred_test_nn, labels=[1,2], average='micro')\n",
        "f1 = metrics.f1_score(y_test, y_pred_test_nn, labels=[1,2], average='micro')\n",
        "print('Recall: %.4f' % recall,'Precision: %.4f' % precision,'F-Measure: %.4f' % f1)"
      ],
      "execution_count": null,
      "outputs": [
        {
          "output_type": "stream",
          "text": [
            "Recall: 0.3333 Precision: 0.1523 F-Measure: 0.2091\n"
          ],
          "name": "stdout"
        }
      ]
    }
  ]
}