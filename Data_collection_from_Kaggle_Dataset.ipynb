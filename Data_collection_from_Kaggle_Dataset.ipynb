{
  "nbformat": 4,
  "nbformat_minor": 0,
  "metadata": {
    "colab": {
      "provenance": []
    },
    "kernelspec": {
      "name": "python3",
      "display_name": "Python 3"
    }
  },
  "cells": [
    {
      "cell_type": "code",
      "metadata": {
        "id": "HDtZAjtVWsGo"
      },
      "source": [
        "!pip install kaggle"
      ],
      "execution_count": null,
      "outputs": []
    },
    {
      "cell_type": "code",
      "metadata": {
        "id": "azFEpaWAW703"
      },
      "source": [
        "from google.colab import files\n",
        "files.upload()"
      ],
      "execution_count": null,
      "outputs": []
    },
    {
      "cell_type": "code",
      "metadata": {
        "id": "R40ibG4OW9MG"
      },
      "source": [
        "!mkdir -p ~/.kaggle\n",
        "!cp kaggle.json ~/.kaggle/\n",
        "\n",
        "!chmod 600 ~/.kaggle/kaggle.json"
      ],
      "execution_count": null,
      "outputs": []
    },
    {
      "cell_type": "code",
      "metadata": {
        "id": "MCjKoN8mW-5F"
      },
      "source": [
        "!kaggle competitions download -c accelerometer-biometric-competition"
      ],
      "execution_count": null,
      "outputs": []
    },
    {
      "cell_type": "code",
      "metadata": {
        "id": "wADlea62XBTe"
      },
      "source": [
        "!unzip \"/content/train.csv.zip\""
      ],
      "execution_count": null,
      "outputs": []
    },
    {
      "cell_type": "code",
      "metadata": {
        "id": "kELkS0XfXFs2"
      },
      "source": [
        "import pandas as pd\n",
        "import numpy as np\n",
        "import matplotlib.pyplot as plt\n",
        "import tensorflow\n",
        "from tensorflow import keras\n",
        "import scipy as sc"
      ],
      "execution_count": null,
      "outputs": []
    },
    {
      "cell_type": "code",
      "metadata": {
        "id": "EAD6obXcXIqm"
      },
      "source": [
        "df = pd.read_csv(\"/content/train.csv.zip\")"
      ],
      "execution_count": null,
      "outputs": []
    },
    {
      "cell_type": "code",
      "metadata": {
        "id": "ZuySElriXKRA"
      },
      "source": [
        "labels = df.iloc[:,4].values\n",
        "unique_labels=np.unique(labels)"
      ],
      "execution_count": null,
      "outputs": []
    },
    {
      "cell_type": "code",
      "metadata": {
        "id": "uf1Jx-MiXMh1"
      },
      "source": [
        "length = 15000"
      ],
      "execution_count": null,
      "outputs": []
    },
    {
      "cell_type": "code",
      "metadata": {
        "id": "08oktpjgXNFl"
      },
      "source": [
        "data_size=[0 for j in range(len(unique_labels)-1)]\n",
        "for i in range(len(unique_labels)-1):\n",
        "  a = unique_labels[i]\n",
        "  j=0\n",
        "  while(labels[j]!=a):\n",
        "    j+=1\n",
        "  size=0\n",
        "  while(labels[j]==a):\n",
        "    size+=1\n",
        "    j+=1\n",
        "  data_size[i]=size\n",
        "  #print(i)\n",
        "low_sizes=[]\n",
        "for i in range(len(unique_labels)-1):\n",
        "  if data_size[i]<=length:\n",
        "    low_sizes.append(i)\n",
        "len(low_sizes)"
      ],
      "execution_count": null,
      "outputs": []
    },
    {
      "cell_type": "code",
      "metadata": {
        "id": "RMrXSPI0XRC1"
      },
      "source": [
        "unique_labels=np.delete(unique_labels,low_sizes) # deleting user datas for less available data"
      ],
      "execution_count": null,
      "outputs": []
    },
    {
      "cell_type": "code",
      "metadata": {
        "id": "195sKGLhXTSW"
      },
      "source": [
        "import time\n",
        "start_time = time.time()\n",
        "\n",
        "N_Users=230\n",
        "k=0\n",
        "i=0                   # index keeping variable\n",
        "n=unique_labels[0]           # All m_id in a list\n",
        "X=[0 for j in range(N_Users)] # Final Array\n",
        "for m_id in unique_labels[:N_Users]:\n",
        "    n=unique_labels[0]\n",
        "\n",
        "    while(n!=m_id):      # Loop for searching the index of first m_id datapoint\n",
        "        n=df.iloc[i,4]  # Label of i-th index datapoint\n",
        "        i+=1\n",
        "    temp=[]\n",
        "    n=m_id\n",
        "    for o in range(length):     # Loop For inserting all datapoints of same m_id\n",
        "        x_y_z = [df.iloc[i,1],df.iloc[i,2],df.iloc[i,3],k]\n",
        "        temp.append(x_y_z)\n",
        "        n=df.iloc[i,4]\n",
        "        i+=1\n",
        "    X[k]=temp\n",
        "    #print(k)\n",
        "    k+=1 #incrementing [Final Array] indices\n",
        "\n",
        "print(\"--- %s seconds ---\" % (time.time() - start_time))"
      ],
      "execution_count": null,
      "outputs": []
    },
    {
      "cell_type": "code",
      "metadata": {
        "id": "EFlp9jUeXlr8"
      },
      "source": [
        "X_input=[]\n",
        "for i in range(N_Users):\n",
        "  temp = X[i]\n",
        "  X_input += temp\n",
        "X_input = np.array(X_input)"
      ],
      "execution_count": null,
      "outputs": []
    },
    {
      "cell_type": "code",
      "metadata": {
        "id": "KEdb1LLrXxJO",
        "colab": {
          "base_uri": "https://localhost:8080/",
          "height": 402
        },
        "outputId": "bd8aae30-b223-4a24-f5e4-17fc68bb9877"
      },
      "source": [
        "new_df = pd.DataFrame(X_input,columns=['X','Y','Z','Label'])\n",
        "new_df"
      ],
      "execution_count": null,
      "outputs": [
        {
          "output_type": "execute_result",
          "data": {
            "text/html": [
              "<div>\n",
              "<style scoped>\n",
              "    .dataframe tbody tr th:only-of-type {\n",
              "        vertical-align: middle;\n",
              "    }\n",
              "\n",
              "    .dataframe tbody tr th {\n",
              "        vertical-align: top;\n",
              "    }\n",
              "\n",
              "    .dataframe thead th {\n",
              "        text-align: right;\n",
              "    }\n",
              "</style>\n",
              "<table border=\"1\" class=\"dataframe\">\n",
              "  <thead>\n",
              "    <tr style=\"text-align: right;\">\n",
              "      <th></th>\n",
              "      <th>X</th>\n",
              "      <th>Y</th>\n",
              "      <th>Z</th>\n",
              "      <th>Label</th>\n",
              "    </tr>\n",
              "  </thead>\n",
              "  <tbody>\n",
              "    <tr>\n",
              "      <th>0</th>\n",
              "      <td>0.340509</td>\n",
              "      <td>8.308413</td>\n",
              "      <td>4.140585</td>\n",
              "      <td>0.0</td>\n",
              "    </tr>\n",
              "    <tr>\n",
              "      <th>1</th>\n",
              "      <td>0.381370</td>\n",
              "      <td>8.390134</td>\n",
              "      <td>4.249548</td>\n",
              "      <td>0.0</td>\n",
              "    </tr>\n",
              "    <tr>\n",
              "      <th>2</th>\n",
              "      <td>0.272407</td>\n",
              "      <td>8.471856</td>\n",
              "      <td>4.018002</td>\n",
              "      <td>0.0</td>\n",
              "    </tr>\n",
              "    <tr>\n",
              "      <th>3</th>\n",
              "      <td>0.149824</td>\n",
              "      <td>8.430995</td>\n",
              "      <td>4.290409</td>\n",
              "      <td>0.0</td>\n",
              "    </tr>\n",
              "    <tr>\n",
              "      <th>4</th>\n",
              "      <td>0.272407</td>\n",
              "      <td>8.430995</td>\n",
              "      <td>4.481094</td>\n",
              "      <td>0.0</td>\n",
              "    </tr>\n",
              "    <tr>\n",
              "      <th>...</th>\n",
              "      <td>...</td>\n",
              "      <td>...</td>\n",
              "      <td>...</td>\n",
              "      <td>...</td>\n",
              "    </tr>\n",
              "    <tr>\n",
              "      <th>3449995</th>\n",
              "      <td>6.360573</td>\n",
              "      <td>1.495091</td>\n",
              "      <td>7.165300</td>\n",
              "      <td>229.0</td>\n",
              "    </tr>\n",
              "    <tr>\n",
              "      <th>3449996</th>\n",
              "      <td>6.322253</td>\n",
              "      <td>1.456771</td>\n",
              "      <td>7.395222</td>\n",
              "      <td>229.0</td>\n",
              "    </tr>\n",
              "    <tr>\n",
              "      <th>3449997</th>\n",
              "      <td>6.322253</td>\n",
              "      <td>1.801653</td>\n",
              "      <td>7.280261</td>\n",
              "      <td>229.0</td>\n",
              "    </tr>\n",
              "    <tr>\n",
              "      <th>3449998</th>\n",
              "      <td>6.437214</td>\n",
              "      <td>1.993255</td>\n",
              "      <td>7.203620</td>\n",
              "      <td>229.0</td>\n",
              "    </tr>\n",
              "    <tr>\n",
              "      <th>3449999</th>\n",
              "      <td>6.360573</td>\n",
              "      <td>1.763333</td>\n",
              "      <td>7.165300</td>\n",
              "      <td>229.0</td>\n",
              "    </tr>\n",
              "  </tbody>\n",
              "</table>\n",
              "<p>3450000 rows × 4 columns</p>\n",
              "</div>"
            ],
            "text/plain": [
              "                X         Y         Z  Label\n",
              "0        0.340509  8.308413  4.140585    0.0\n",
              "1        0.381370  8.390134  4.249548    0.0\n",
              "2        0.272407  8.471856  4.018002    0.0\n",
              "3        0.149824  8.430995  4.290409    0.0\n",
              "4        0.272407  8.430995  4.481094    0.0\n",
              "...           ...       ...       ...    ...\n",
              "3449995  6.360573  1.495091  7.165300  229.0\n",
              "3449996  6.322253  1.456771  7.395222  229.0\n",
              "3449997  6.322253  1.801653  7.280261  229.0\n",
              "3449998  6.437214  1.993255  7.203620  229.0\n",
              "3449999  6.360573  1.763333  7.165300  229.0\n",
              "\n",
              "[3450000 rows x 4 columns]"
            ]
          },
          "metadata": {
            "tags": []
          },
          "execution_count": 48
        }
      ]
    },
    {
      "cell_type": "code",
      "metadata": {
        "id": "I05dGVy7ds0l"
      },
      "source": [
        "new_df.to_csv(\"/content/230_Users_Acceleromter_Data.csv\")"
      ],
      "execution_count": null,
      "outputs": []
    }
  ]
}