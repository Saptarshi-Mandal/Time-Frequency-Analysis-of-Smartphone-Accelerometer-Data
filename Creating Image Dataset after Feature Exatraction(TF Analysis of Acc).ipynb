{
 "cells": [
  {
   "cell_type": "code",
   "execution_count": 1,
   "metadata": {},
   "outputs": [],
   "source": [
    "import pandas as pd\n",
    "import numpy as np\n",
    "import matplotlib\n",
    "import matplotlib.pyplot as plt\n",
    "import tensorflow\n",
    "from tensorflow import keras\n",
    "import scipy as sc\n",
    "from scipy import signal\n",
    "import cv2 \n",
    "import PIL"
   ]
  },
  {
   "cell_type": "code",
   "execution_count": 2,
   "metadata": {},
   "outputs": [
    {
     "data": {
      "text/html": [
       "<div>\n",
       "<style scoped>\n",
       "    .dataframe tbody tr th:only-of-type {\n",
       "        vertical-align: middle;\n",
       "    }\n",
       "\n",
       "    .dataframe tbody tr th {\n",
       "        vertical-align: top;\n",
       "    }\n",
       "\n",
       "    .dataframe thead th {\n",
       "        text-align: right;\n",
       "    }\n",
       "</style>\n",
       "<table border=\"1\" class=\"dataframe\">\n",
       "  <thead>\n",
       "    <tr style=\"text-align: right;\">\n",
       "      <th></th>\n",
       "      <th>X</th>\n",
       "      <th>Y</th>\n",
       "      <th>Z</th>\n",
       "      <th>Label</th>\n",
       "    </tr>\n",
       "  </thead>\n",
       "  <tbody>\n",
       "    <tr>\n",
       "      <td>0</td>\n",
       "      <td>0.340509</td>\n",
       "      <td>8.308413</td>\n",
       "      <td>4.140585</td>\n",
       "      <td>0</td>\n",
       "    </tr>\n",
       "    <tr>\n",
       "      <td>1</td>\n",
       "      <td>0.381370</td>\n",
       "      <td>8.390134</td>\n",
       "      <td>4.249548</td>\n",
       "      <td>0</td>\n",
       "    </tr>\n",
       "    <tr>\n",
       "      <td>2</td>\n",
       "      <td>0.272407</td>\n",
       "      <td>8.471856</td>\n",
       "      <td>4.018002</td>\n",
       "      <td>0</td>\n",
       "    </tr>\n",
       "    <tr>\n",
       "      <td>3</td>\n",
       "      <td>0.149824</td>\n",
       "      <td>8.430995</td>\n",
       "      <td>4.290409</td>\n",
       "      <td>0</td>\n",
       "    </tr>\n",
       "    <tr>\n",
       "      <td>4</td>\n",
       "      <td>0.272407</td>\n",
       "      <td>8.430995</td>\n",
       "      <td>4.481094</td>\n",
       "      <td>0</td>\n",
       "    </tr>\n",
       "    <tr>\n",
       "      <td>...</td>\n",
       "      <td>...</td>\n",
       "      <td>...</td>\n",
       "      <td>...</td>\n",
       "      <td>...</td>\n",
       "    </tr>\n",
       "    <tr>\n",
       "      <td>749995</td>\n",
       "      <td>-7.201759</td>\n",
       "      <td>-4.750096</td>\n",
       "      <td>-1.532289</td>\n",
       "      <td>49</td>\n",
       "    </tr>\n",
       "    <tr>\n",
       "      <td>749996</td>\n",
       "      <td>-7.354988</td>\n",
       "      <td>-5.209783</td>\n",
       "      <td>-1.991976</td>\n",
       "      <td>49</td>\n",
       "    </tr>\n",
       "    <tr>\n",
       "      <td>749997</td>\n",
       "      <td>-7.201759</td>\n",
       "      <td>-5.056554</td>\n",
       "      <td>-2.145205</td>\n",
       "      <td>49</td>\n",
       "    </tr>\n",
       "    <tr>\n",
       "      <td>749998</td>\n",
       "      <td>-7.354988</td>\n",
       "      <td>-5.363012</td>\n",
       "      <td>-2.298433</td>\n",
       "      <td>49</td>\n",
       "    </tr>\n",
       "    <tr>\n",
       "      <td>749999</td>\n",
       "      <td>-7.201759</td>\n",
       "      <td>-4.750096</td>\n",
       "      <td>-1.991976</td>\n",
       "      <td>49</td>\n",
       "    </tr>\n",
       "  </tbody>\n",
       "</table>\n",
       "<p>750000 rows × 4 columns</p>\n",
       "</div>"
      ],
      "text/plain": [
       "               X         Y         Z  Label\n",
       "0       0.340509  8.308413  4.140585      0\n",
       "1       0.381370  8.390134  4.249548      0\n",
       "2       0.272407  8.471856  4.018002      0\n",
       "3       0.149824  8.430995  4.290409      0\n",
       "4       0.272407  8.430995  4.481094      0\n",
       "...          ...       ...       ...    ...\n",
       "749995 -7.201759 -4.750096 -1.532289     49\n",
       "749996 -7.354988 -5.209783 -1.991976     49\n",
       "749997 -7.201759 -5.056554 -2.145205     49\n",
       "749998 -7.354988 -5.363012 -2.298433     49\n",
       "749999 -7.201759 -4.750096 -1.991976     49\n",
       "\n",
       "[750000 rows x 4 columns]"
      ]
     },
     "execution_count": 2,
     "metadata": {},
     "output_type": "execute_result"
    }
   ],
   "source": [
    "df = pd.read_csv(r\"E:\\Academic\\Project\\User Identity from Time-Frequency Analysis\\50_Users_Acceleromter_Data.csv\")\n",
    "df"
   ]
  },
  {
   "cell_type": "code",
   "execution_count": 3,
   "metadata": {},
   "outputs": [],
   "source": [
    "length = 15000"
   ]
  },
  {
   "cell_type": "code",
   "execution_count": 4,
   "metadata": {},
   "outputs": [
    {
     "name": "stdout",
     "output_type": "stream",
     "text": [
      "--- 15.418941259384155 seconds ---\n"
     ]
    }
   ],
   "source": [
    "import time\n",
    "start_time = time.time()\n",
    "N_Users=50\n",
    "k=0\n",
    "X=[0 for p in range(N_Users)] # Final Array\n",
    "for i in range(0,length*N_Users,length):\n",
    "    temp=[]\n",
    "    for j in range(length):\n",
    "        x_y_z = [df.iloc[i+j,0],df.iloc[i+j,1],df.iloc[i+j,2]]\n",
    "        temp.append(x_y_z)\n",
    "    X[k]=temp\n",
    "    k+=1 #incrementing [Final Array] indices\n",
    "print(\"--- %s seconds ---\" % (time.time() - start_time))"
   ]
  },
  {
   "cell_type": "code",
   "execution_count": 5,
   "metadata": {},
   "outputs": [
    {
     "data": {
      "text/plain": [
       "(50, 15000, 3)"
      ]
     },
     "execution_count": 5,
     "metadata": {},
     "output_type": "execute_result"
    }
   ],
   "source": [
    "t=np.array(X)\n",
    "t.shape"
   ]
  },
  {
   "cell_type": "code",
   "execution_count": 6,
   "metadata": {},
   "outputs": [],
   "source": [
    "# Main Algo for Creating Windows .....#1\n",
    "\n",
    "def create(df,wind_size,hop_size,m_index):\n",
    "  #l=((len(df.x)-wind_size)/hop_size)+1\n",
    "  rows, cols = (wind_size, 3) \n",
    "#  a = [[0 for i in range(cols)] for j in range(rows)] \n",
    "  array= [0 for i in range(int((length-wind_size)/hop_size)+1)]\n",
    "  k = 0\n",
    "  for i in range(0,(length-wind_size+1),hop_size):\n",
    "      a=create1(df,i,wind_size,m_index)\n",
    "       #array.append(a)\n",
    "      array[k] = a\n",
    "      k+=1\n",
    "  #return pd.DataFrame(array)\n",
    "  return array\n"
   ]
  },
  {
   "cell_type": "code",
   "execution_count": 8,
   "metadata": {},
   "outputs": [],
   "source": [
    "# Main Algo for Creating Windows .....#2\n",
    "\n",
    "def create1(df,x,w,m_index):\n",
    "     rows = w \n",
    "     cols = 3\n",
    "     arr = [[0 for i in range(cols)] for j in range(rows)] \n",
    "     for i in range(0,w,1):\n",
    "        arr[i][0]=df[x+i][0]\n",
    "        arr[i][1]=df[x+i][1]\n",
    "        arr[i][2]=df[x+i][2]\n",
    "     arr = np.array(arr)\n",
    "     f1,t1,x = signal.stft(arr[:,0],5,nperseg=10)\n",
    "     f2,t2,y = signal.stft(arr[:,1],5,nperseg=10)\n",
    "     f3,t3,z = signal.stft(arr[:,2],5,nperseg=10)\n",
    "     temp_a = np.concatenate((abs(np.array(x)),abs(np.array(y)),abs(np.array(z))),axis=0) \n",
    "     return temp_a"
   ]
  },
  {
   "cell_type": "code",
   "execution_count": 9,
   "metadata": {},
   "outputs": [
    {
     "name": "stdout",
     "output_type": "stream",
     "text": [
      "--- 59.8059196472168 seconds ---\n"
     ]
    }
   ],
   "source": [
    "import time\n",
    "start_time = time.time()\n",
    "X_final = [0 for i in range( N_Users)]\n",
    "for m_index in range(N_Users):\n",
    "  X_final[m_index]=create(X[m_index],225,10,m_index)\n",
    "print(\"--- %s seconds ---\" % (time.time() - start_time))"
   ]
  },
  {
   "cell_type": "code",
   "execution_count": 10,
   "metadata": {},
   "outputs": [
    {
     "data": {
      "text/plain": [
       "(1478, 18, 46)"
      ]
     },
     "execution_count": 10,
     "metadata": {},
     "output_type": "execute_result"
    }
   ],
   "source": [
    "t=np.array(X_final[0])\n",
    "t.shape             # The shape gives(number of windows,shape of TF plot image)"
   ]
  },
  {
   "cell_type": "code",
   "execution_count": 11,
   "metadata": {},
   "outputs": [],
   "source": [
    "X_input=[]\n",
    "for i in range(N_Users):\n",
    "  temp = X_final[i]\n",
    "  X_input += temp\n",
    "X_input = np.array(X_input)"
   ]
  },
  {
   "cell_type": "code",
   "execution_count": 12,
   "metadata": {},
   "outputs": [],
   "source": [
    "Address_list=[]\n",
    "for k in range(N_Users):\n",
    "    for _ in range (t.shape[0]):\n",
    "        Address_list.append(str(r'E:\\Academic\\Project\\User Identity from Time-Frequency Analysis\\Data\\User_'+str(k+1)+'\\\\'+str(_+1)+\".png\"))\n",
    "    "
   ]
  },
  {
   "cell_type": "code",
   "execution_count": 16,
   "metadata": {},
   "outputs": [
    {
     "data": {
      "text/plain": [
       "'E:\\\\Academic\\\\Project\\\\User Identity from Time-Frequency Analysis\\\\Data\\\\User_1\\\\1.png'"
      ]
     },
     "execution_count": 16,
     "metadata": {},
     "output_type": "execute_result"
    }
   ],
   "source": [
    "Address_list[0]"
   ]
  },
  {
   "cell_type": "code",
   "execution_count": 36,
   "metadata": {},
   "outputs": [],
   "source": [
    "import skimage\n",
    "from skimage.io import imsave\n",
    "for r in range(len(Address_list)):\n",
    "    data = X_input[r].astype(np.float64)/np.max(X_input[r]) # normalize the data to 0 - 1\n",
    "    data = 255 * data # Now scale by 255\n",
    "    img = data.astype(np.uint8)\n",
    "    imsave(Address_list[r],img)"
   ]
  },
  {
   "cell_type": "code",
   "execution_count": null,
   "metadata": {},
   "outputs": [],
   "source": []
  }
 ],
 "metadata": {
  "kernelspec": {
   "display_name": "Python 3",
   "language": "python",
   "name": "python3"
  },
  "language_info": {
   "codemirror_mode": {
    "name": "ipython",
    "version": 3
   },
   "file_extension": ".py",
   "mimetype": "text/x-python",
   "name": "python",
   "nbconvert_exporter": "python",
   "pygments_lexer": "ipython3",
   "version": "3.7.4"
  }
 },
 "nbformat": 4,
 "nbformat_minor": 2
}
