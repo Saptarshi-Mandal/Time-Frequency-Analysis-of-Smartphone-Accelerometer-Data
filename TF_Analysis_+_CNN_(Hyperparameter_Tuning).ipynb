{
  "nbformat": 4,
  "nbformat_minor": 0,
  "metadata": {
    "accelerator": "GPU",
    "colab": {
      "provenance": [],
      "collapsed_sections": [
        "rgZGsuGEn9MQ",
        "im748bFioD-x",
        "dxYU9QchoG6V",
        "UTccPocsoVbl",
        "ebWIA5tmoaaM",
        "zX9rrhEcok0N",
        "L6-7_MP-ogMt",
        "mUrLxub3GGvU"
      ]
    },
    "kernelspec": {
      "display_name": "Python 3",
      "name": "python3"
    }
  },
  "cells": [
    {
      "cell_type": "markdown",
      "metadata": {
        "id": "rgZGsuGEn9MQ"
      },
      "source": [
        "#Importing Library"
      ]
    },
    {
      "cell_type": "code",
      "metadata": {
        "id": "zJe6_LbYqLm9"
      },
      "source": [
        "!pip install --quiet optuna"
      ],
      "execution_count": null,
      "outputs": []
    },
    {
      "cell_type": "code",
      "metadata": {
        "id": "y4G9Osbsm4x6"
      },
      "source": [
        "import pandas as pd\n",
        "import numpy as np\n",
        "import matplotlib\n",
        "import matplotlib.pyplot as plt\n",
        "import tensorflow\n",
        "from tensorflow import keras\n",
        "import scipy as sc\n",
        "from scipy import signal\n",
        "import cv2\n",
        "import PIL\n",
        "import optuna"
      ],
      "execution_count": null,
      "outputs": []
    },
    {
      "cell_type": "markdown",
      "metadata": {
        "id": "22Vd-5Pgosjk"
      },
      "source": [
        "#Data Preprocessing"
      ]
    },
    {
      "cell_type": "markdown",
      "metadata": {
        "id": "im748bFioD-x"
      },
      "source": [
        "##Raw Dataset"
      ]
    },
    {
      "cell_type": "code",
      "metadata": {
        "id": "0MBJ_3l5nNKk"
      },
      "source": [
        "df = pd.read_csv(\"/content/230_Users_Acceleromter_Data.csv\")\n",
        "df"
      ],
      "execution_count": null,
      "outputs": []
    },
    {
      "cell_type": "code",
      "metadata": {
        "id": "uQAouB7gzDXJ"
      },
      "source": [
        "df = df.drop(\"Unnamed: 0\",axis=1)\n",
        "df"
      ],
      "execution_count": null,
      "outputs": []
    },
    {
      "cell_type": "markdown",
      "metadata": {
        "id": "dxYU9QchoG6V"
      },
      "source": [
        "##Distributing User Data to Array"
      ]
    },
    {
      "cell_type": "code",
      "metadata": {
        "id": "Z_F4dp-9nVR0"
      },
      "source": [
        "length = 15000"
      ],
      "execution_count": null,
      "outputs": []
    },
    {
      "cell_type": "code",
      "metadata": {
        "id": "tVaQmqzBnSgi"
      },
      "source": [
        "import time\n",
        "start_time = time.time()\n",
        "N_Users=175\n",
        "k=0\n",
        "X=[0 for p in range(N_Users)] # Final Array\n",
        "for i in range(0,length*N_Users,length):\n",
        "    temp=[]\n",
        "    for j in range(length):\n",
        "        x_y_z = [df.iloc[i+j,0],df.iloc[i+j,1],df.iloc[i+j,2]]\n",
        "        temp.append(x_y_z)\n",
        "    X[k]=temp\n",
        "    print(k)\n",
        "    k+=1 #incrementing [Final Array] indices\n",
        "print(\"--- %s seconds ---\" % (time.time() - start_time))"
      ],
      "execution_count": null,
      "outputs": []
    },
    {
      "cell_type": "code",
      "metadata": {
        "id": "l3kAezb8nSyW"
      },
      "source": [
        "t=np.array(X)"
      ],
      "execution_count": null,
      "outputs": []
    },
    {
      "cell_type": "markdown",
      "metadata": {
        "id": "8LZJhnl8oQC1"
      },
      "source": [
        "##Algo for creating windows"
      ]
    },
    {
      "cell_type": "code",
      "metadata": {
        "id": "d2QLZmOlnTJD"
      },
      "source": [
        "# Main Algo for Creating Windows .....#1\n",
        "\n",
        "def create(df,wind_size,hop_size,m_index):\n",
        "  #l=((len(df.x)-wind_size)/hop_size)+1\n",
        "  #rows, cols = (wind_size, 3)\n",
        "#  a = [[0 for i in range(cols)] for j in range(rows)]\n",
        "  array= [0 for i in range(int((length-wind_size)/hop_size)+1)]\n",
        "  k = 0\n",
        "  for i in range(0,(length-wind_size+1),hop_size):\n",
        "      a=create1(df,i,wind_size,m_index)\n",
        "       #array.append(a)\n",
        "      array[k] = a\n",
        "      k+=1\n",
        "  #return pd.DataFrame(array)\n",
        "  return array\n"
      ],
      "execution_count": null,
      "outputs": []
    },
    {
      "cell_type": "code",
      "metadata": {
        "id": "DZnVKrsNnTjM"
      },
      "source": [
        "# Main Algo for Creating Windows .....#2\n",
        "\n",
        "def create1(df,x,w,m_index):\n",
        "     rows = w\n",
        "     cols = 3\n",
        "     arr = [[0 for i in range(cols)] for j in range(rows)]\n",
        "     for i in range(0,w,1):\n",
        "        arr[i][0]=df[x+i][0]\n",
        "        arr[i][1]=df[x+i][1]\n",
        "        arr[i][2]=df[x+i][2]\n",
        "     arr = np.array(arr)\n",
        "     f1,t1,x = signal.stft(arr[:,0],5,nperseg=10)\n",
        "     f2,t2,y = signal.stft(arr[:,1],5,nperseg=10)\n",
        "     f3,t3,z = signal.stft(arr[:,2],5,nperseg=10)\n",
        "     temp_a = np.concatenate((abs(np.array(x)),abs(np.array(y)),abs(np.array(z))),axis=0)\n",
        "     return temp_a"
      ],
      "execution_count": null,
      "outputs": []
    },
    {
      "cell_type": "markdown",
      "metadata": {
        "id": "UTccPocsoVbl"
      },
      "source": [
        "## Final Array for training"
      ]
    },
    {
      "cell_type": "code",
      "metadata": {
        "id": "lfeBnRLinTxM",
        "colab": {
          "base_uri": "https://localhost:8080/"
        },
        "outputId": "9fd4edf1-96ee-4156-a109-57f5efc9a26e"
      },
      "source": [
        "import time\n",
        "start_time = time.time()\n",
        "X_final = [0 for i in range(N_Users)]\n",
        "for m_index in range(N_Users):\n",
        "  X_final[m_index]=create(X[m_index],225,10,m_index)\n",
        "print(\"--- %s seconds ---\" % (time.time() - start_time))"
      ],
      "execution_count": null,
      "outputs": [
        {
          "output_type": "stream",
          "text": [
            "--- 254.70773267745972 seconds ---\n"
          ],
          "name": "stdout"
        }
      ]
    },
    {
      "cell_type": "code",
      "metadata": {
        "id": "TudXCIi3nT4Q",
        "colab": {
          "base_uri": "https://localhost:8080/"
        },
        "outputId": "5500c1c8-4cd5-4b57-afe4-8fe62f84eb08"
      },
      "source": [
        "t=np.array(X_final[0])\n",
        "t.shape             # The shape gives(number of windows,shape of TF plot image)"
      ],
      "execution_count": null,
      "outputs": [
        {
          "output_type": "execute_result",
          "data": {
            "text/plain": [
              "(1478, 18, 46)"
            ]
          },
          "metadata": {
            "tags": []
          },
          "execution_count": 11
        }
      ]
    },
    {
      "cell_type": "code",
      "metadata": {
        "id": "aRDnAiZXnT9O"
      },
      "source": [
        "X_input=[]\n",
        "for i in range(N_Users):\n",
        "  temp = X_final[i]\n",
        "  X_input += temp\n",
        "X_input = np.array(X_input)"
      ],
      "execution_count": null,
      "outputs": []
    },
    {
      "cell_type": "markdown",
      "metadata": {
        "id": "ebWIA5tmoaaM"
      },
      "source": [
        "##Creating Labels"
      ]
    },
    {
      "cell_type": "code",
      "metadata": {
        "id": "eDleQltGnUB0"
      },
      "source": [
        "y = [0 for i in range(X_input.shape[0])]\n",
        "for i in range(X_input.shape[0]):\n",
        "  y[i]=int(i*N_Users/X_input.shape[0])\n",
        "y = np.array(y)"
      ],
      "execution_count": null,
      "outputs": []
    },
    {
      "cell_type": "markdown",
      "metadata": {
        "id": "zX9rrhEcok0N"
      },
      "source": [
        "##Final Input"
      ]
    },
    {
      "cell_type": "code",
      "metadata": {
        "id": "K01QSbfSnUFs"
      },
      "source": [
        "import sklearn\n",
        "from sklearn.model_selection import train_test_split\n",
        "X_train , X_test , y_train , y_test = train_test_split(X_input,y,test_size = 0.2,shuffle=True)"
      ],
      "execution_count": null,
      "outputs": []
    },
    {
      "cell_type": "code",
      "metadata": {
        "id": "6MW_OzzYnr4-"
      },
      "source": [
        "#Reshaping the input\n",
        "X_train = X_train.reshape(X_train.shape[0],X_train.shape[1],X_train.shape[2],1)\n",
        "X_test = X_test.reshape(X_test.shape[0],X_test.shape[1],X_test.shape[2],1)"
      ],
      "execution_count": null,
      "outputs": []
    },
    {
      "cell_type": "markdown",
      "metadata": {
        "id": "L6-7_MP-ogMt"
      },
      "source": [
        "# Hyperparameter Tuning"
      ]
    },
    {
      "cell_type": "code",
      "metadata": {
        "id": "n0LOiabInsCc"
      },
      "source": [
        "def objective(trial):\n",
        "    # Clear clutter from previous Keras session graphs.\n",
        "    #clear_session()\n",
        "\n",
        "    filters_= trial.suggest_categorical(\"filters\", [32, 64])\n",
        "    kernel_size_= trial.suggest_categorical(\"kernel_size\", [3, 5])\n",
        "    strides_= trial.suggest_categorical(\"strides\", [1, 2])\n",
        "    activation_= trial.suggest_categorical(\"activation\", [\"relu\", \"linear\"])\n",
        "    padding_ = trial.suggest_categorical(\"padding\", [\"same\"])\n",
        "    pool_size_ = trial.suggest_categorical(\"pool_size\", [1,2,3,4])\n",
        "\n",
        "    clf = keras.Sequential()\n",
        "\n",
        "    clf.add(keras.layers.Conv2D(filters=filters_, kernel_size = kernel_size_ ,strides = strides_ ,activation = activation_ ,padding = padding_, input_shape = (X_input.shape[1],X_input.shape[2],1)))\n",
        "    clf.add(keras.layers.Conv2D(filters=filters_, kernel_size = kernel_size_ ,strides = strides_ ,activation = activation_ ,padding = padding_))\n",
        "    clf.add(keras.layers.MaxPool2D(pool_size= (1,1)))\n",
        "    clf.add(keras.layers.Dropout(rate= 0.5))\n",
        "\n",
        "    clf.add(keras.layers.Conv2D(filters=filters_, kernel_size = kernel_size_ ,strides = strides_ ,activation = activation_ ,padding = padding_))\n",
        "    clf.add(keras.layers.Conv2D(filters=filters_, kernel_size = kernel_size_ ,strides = strides_ ,activation = activation_ ,padding = padding_))\n",
        "    clf.add(keras.layers.MaxPool2D(pool_size= (1,1)))\n",
        "    clf.add(keras.layers.Dropout(rate= 0.5))\n",
        "\n",
        "    clf.add(keras.layers.Flatten())\n",
        "\n",
        "    clf.add(keras.layers.Dense(#128 493,activation='relu'))\n",
        "    clf.add(keras.layers.Dense(32,activation = 'relu'))\n",
        "    clf.add(keras.layers.Dense(N_Users,activation='softmax'))\n",
        "\n",
        "    # We compile our model with a sampled learning rate.\n",
        "    lr = trial.suggest_float(\"lr\", 1e-5, 1e-1, log=True)\n",
        "    clf.compile(loss=\"sparse_categorical_crossentropy\", optimizer = keras.optimizers.RMSprop(lr=lr), metrics=[\"accuracy\"])\n",
        "\n",
        "    clf.fit(\n",
        "        X_train,\n",
        "        y_train,\n",
        "        validation_data=(X_test, y_test),\n",
        "        shuffle=True,\n",
        "        batch_size=128,\n",
        "        epochs=25,\n",
        "    )\n",
        "\n",
        "    # Evaluate the model accuracy on the validation set.\n",
        "    score = clf.evaluate(X_test,y_test,verbose=0)\n",
        "    return score[1]\n"
      ],
      "execution_count": null,
      "outputs": []
    },
    {
      "cell_type": "code",
      "metadata": {
        "id": "V1VUq4BQnsH8"
      },
      "source": [
        "study = optuna.create_study(direction=\"maximize\")\n",
        "study.optimize(objective, n_trials=100, timeout=600)\n",
        "print(\"Number of finished trials: {}\".format(len(study.trials)))\n",
        "print(\"Best trial:\")\n",
        "trial = study.best_trial\n",
        "print(\"  Value: {}\".format(trial.value))\n",
        "print(\"  Params: \")\n",
        "for key, value in trial.params.items():\n",
        "    print(\"    {}: {}\".format(key, value))"
      ],
      "execution_count": null,
      "outputs": []
    },
    {
      "cell_type": "code",
      "metadata": {
        "id": "D_zc67AJnsL_"
      },
      "source": [
        "def objective(trial):\n",
        "    # Clear clutter from previous Keras session graphs.\n",
        "    #clear_session()\n",
        "\n",
        "    filters_= 64\n",
        "    kernel_size_= 5\n",
        "    strides_= 1\n",
        "    activation_= \"relu\"\n",
        "    padding_ = \"same\"\n",
        "    pool_size_ = 2\n",
        "\n",
        "    n_neurons = trial.suggest_int(\"n_neurons\",64,512)\n",
        "\n",
        "    clf = keras.Sequential()\n",
        "\n",
        "    clf.add(keras.layers.Conv2D(filters=filters_, kernel_size = kernel_size_ ,strides = strides_ ,activation = activation_ ,padding = padding_, input_shape = (X_input.shape[1],X_input.shape[2],1)))\n",
        "    clf.add(keras.layers.Conv2D(filters=filters_, kernel_size = kernel_size_ ,strides = strides_ ,activation = activation_ ,padding = padding_))\n",
        "    clf.add(keras.layers.MaxPool2D(pool_size= (1,1)))\n",
        "    clf.add(keras.layers.Dropout(rate= 0.5))\n",
        "\n",
        "    clf.add(keras.layers.Conv2D(filters=filters_, kernel_size = kernel_size_ ,strides = strides_ ,activation = activation_ ,padding = padding_))\n",
        "    clf.add(keras.layers.Conv2D(filters=filters_, kernel_size = kernel_size_ ,strides = strides_ ,activation = activation_ ,padding = padding_))\n",
        "    clf.add(keras.layers.MaxPool2D(pool_size= (1,1)))\n",
        "    clf.add(keras.layers.Dropout(rate= 0.5))\n",
        "\n",
        "    clf.add(keras.layers.Flatten())\n",
        "\n",
        "    clf.add(keras.layers.Dense(n_neurons,activation='relu'))\n",
        "    clf.add(keras.layers.Dense(32,activation = 'relu'))\n",
        "    clf.add(keras.layers.Dense(N_Users,activation='softmax'))\n",
        "\n",
        "    # We compile our model with a sampled learning rate.\n",
        "    clf.compile(loss=\"sparse_categorical_crossentropy\", optimizer = keras.optimizers.RMSprop(lr=0.0005493824470636434), metrics=[\"accuracy\"])\n",
        "\n",
        "    clf.fit(\n",
        "        X_train,\n",
        "        y_train,\n",
        "        validation_data=(X_test, y_test),\n",
        "        shuffle=True,\n",
        "        batch_size=128,\n",
        "        epochs=25,\n",
        "    )\n",
        "\n",
        "    # Evaluate the model accuracy on the validation set.\n",
        "    score = clf.evaluate(X_test,y_test,verbose=0)\n",
        "    return score[1]"
      ],
      "execution_count": null,
      "outputs": []
    },
    {
      "cell_type": "code",
      "metadata": {
        "id": "sWzmM_BXnsPW"
      },
      "source": [
        "study = optuna.create_study(direction=\"maximize\")\n",
        "study.optimize(objective, n_trials=100, timeout=3000)\n",
        "print(\"Number of finished trials: {}\".format(len(study.trials)))\n",
        "print(\"Best trial:\")\n",
        "trial = study.best_trial\n",
        "print(\"  Value: {}\".format(trial.value))\n",
        "print(\"  Params: \")\n",
        "for key, value in trial.params.items():\n",
        "    print(\"    {}: {}\".format(key, value))"
      ],
      "execution_count": null,
      "outputs": []
    },
    {
      "cell_type": "markdown",
      "metadata": {
        "id": "mUrLxub3GGvU"
      },
      "source": [
        "# Model Testing"
      ]
    },
    {
      "cell_type": "code",
      "metadata": {
        "id": "dBR6gGzoGJnL"
      },
      "source": [
        "clf = tensorflow.keras.Sequential()"
      ],
      "execution_count": null,
      "outputs": []
    },
    {
      "cell_type": "code",
      "metadata": {
        "id": "RQFL3V3PGMRC"
      },
      "source": [
        "\n",
        "    filters_= 64\n",
        "    kernel_size_= 5\n",
        "    strides_= 1\n",
        "    activation_= \"relu\"\n",
        "    padding_ = \"same\"\n",
        "    pool_size_ = 1\n",
        "\n",
        "clf.add(keras.layers.Conv2D(filters=filters_, kernel_size = kernel_size_ ,strides = strides_ ,activation = activation_ ,padding = padding_, input_shape = (X_input.shape[1],X_input.shape[2],1)))\n",
        "clf.add(keras.layers.Conv2D(filters=filters_, kernel_size = kernel_size_ ,strides = strides_ ,activation = activation_ ,padding = padding_))\n",
        "clf.add(keras.layers.MaxPool2D(pool_size = pool_size_))\n",
        "clf.add(keras.layers.Dropout(rate= 0.5))\n",
        "\n",
        "clf.add(keras.layers.Conv2D(filters=filters_, kernel_size = kernel_size_ ,strides = strides_ ,activation = activation_ ,padding = padding_))\n",
        "clf.add(keras.layers.Conv2D(filters=filters_, kernel_size = kernel_size_ ,strides = strides_ ,activation = activation_ ,padding = padding_))\n",
        "clf.add(keras.layers.MaxPool2D(pool_size = pool_size_))\n",
        "clf.add(keras.layers.Dropout(rate= 0.5))\n",
        "\n",
        "clf.add(keras.layers.Flatten())\n",
        "\n",
        "clf.add(keras.layers.Dense(275,activation='relu'))\n",
        "clf.add(keras.layers.Dense(32,activation = 'relu'))\n",
        "clf.add(keras.layers.Dense(N_Users,activation='softmax'))\n"
      ],
      "execution_count": null,
      "outputs": []
    },
    {
      "cell_type": "code",
      "metadata": {
        "colab": {
          "base_uri": "https://localhost:8080/"
        },
        "id": "vqJG7aBOGOeq",
        "outputId": "90b3954c-1d8d-4a62-a366-434546946768"
      },
      "source": [
        "clf.summary()"
      ],
      "execution_count": null,
      "outputs": [
        {
          "output_type": "stream",
          "text": [
            "Model: \"sequential\"\n",
            "_________________________________________________________________\n",
            "Layer (type)                 Output Shape              Param #   \n",
            "=================================================================\n",
            "conv2d (Conv2D)              (None, 18, 46, 64)        1664      \n",
            "_________________________________________________________________\n",
            "conv2d_1 (Conv2D)            (None, 18, 46, 64)        102464    \n",
            "_________________________________________________________________\n",
            "max_pooling2d (MaxPooling2D) (None, 18, 46, 64)        0         \n",
            "_________________________________________________________________\n",
            "dropout (Dropout)            (None, 18, 46, 64)        0         \n",
            "_________________________________________________________________\n",
            "conv2d_2 (Conv2D)            (None, 18, 46, 64)        102464    \n",
            "_________________________________________________________________\n",
            "conv2d_3 (Conv2D)            (None, 18, 46, 64)        102464    \n",
            "_________________________________________________________________\n",
            "max_pooling2d_1 (MaxPooling2 (None, 18, 46, 64)        0         \n",
            "_________________________________________________________________\n",
            "dropout_1 (Dropout)          (None, 18, 46, 64)        0         \n",
            "_________________________________________________________________\n",
            "flatten (Flatten)            (None, 52992)             0         \n",
            "_________________________________________________________________\n",
            "dense (Dense)                (None, 275)               14573075  \n",
            "_________________________________________________________________\n",
            "dense_1 (Dense)              (None, 32)                8832      \n",
            "_________________________________________________________________\n",
            "dense_2 (Dense)              (None, 175)               5775      \n",
            "=================================================================\n",
            "Total params: 14,896,738\n",
            "Trainable params: 14,896,738\n",
            "Non-trainable params: 0\n",
            "_________________________________________________________________\n"
          ],
          "name": "stdout"
        }
      ]
    },
    {
      "cell_type": "code",
      "metadata": {
        "id": "oS0LMC10GQTF",
        "colab": {
          "base_uri": "https://localhost:8080/"
        },
        "outputId": "a3695300-5c82-4bbc-afbf-c470fb9bd80b"
      },
      "source": [
        "clf.compile( optimizer = keras.optimizers.RMSprop(lr=0.0005493824470636434) ,loss='sparse_categorical_crossentropy',metrics=['accuracy'])"
      ],
      "execution_count": null,
      "outputs": [
        {
          "output_type": "stream",
          "text": [
            "/usr/local/lib/python3.7/dist-packages/tensorflow/python/keras/optimizer_v2/optimizer_v2.py:375: UserWarning:\n",
            "\n",
            "The `lr` argument is deprecated, use `learning_rate` instead.\n",
            "\n"
          ],
          "name": "stderr"
        }
      ]
    },
    {
      "cell_type": "code",
      "metadata": {
        "id": "KAhHWzAAGTlT",
        "colab": {
          "base_uri": "https://localhost:8080/"
        },
        "outputId": "8d6910b3-324d-4107-fb77-871ada77865b"
      },
      "source": [
        "history = clf.fit(X_train,y_train,batch_size=128,epochs=50,validation_data=(X_test,y_test))"
      ],
      "execution_count": null,
      "outputs": [
        {
          "output_type": "stream",
          "text": [
            "Epoch 1/50\n",
            "1617/1617 [==============================] - 102s 43ms/step - loss: 3.9047 - accuracy: 0.1709 - val_loss: 2.9583 - val_accuracy: 0.3205\n",
            "Epoch 2/50\n",
            "1617/1617 [==============================] - 70s 44ms/step - loss: 2.4858 - accuracy: 0.4076 - val_loss: 2.0531 - val_accuracy: 0.4979\n",
            "Epoch 3/50\n",
            "1617/1617 [==============================] - 71s 44ms/step - loss: 1.7872 - accuracy: 0.5504 - val_loss: 1.4816 - val_accuracy: 0.6205\n",
            "Epoch 4/50\n",
            "1617/1617 [==============================] - 72s 44ms/step - loss: 1.3613 - accuracy: 0.6428 - val_loss: 1.3438 - val_accuracy: 0.6477\n",
            "Epoch 5/50\n",
            "1617/1617 [==============================] - 72s 44ms/step - loss: 1.0599 - accuracy: 0.7122 - val_loss: 0.9554 - val_accuracy: 0.7430\n",
            "Epoch 6/50\n",
            "1617/1617 [==============================] - 72s 45ms/step - loss: 0.8470 - accuracy: 0.7638 - val_loss: 0.7151 - val_accuracy: 0.8039\n",
            "Epoch 7/50\n",
            "1617/1617 [==============================] - 72s 45ms/step - loss: 0.6921 - accuracy: 0.8028 - val_loss: 0.9010 - val_accuracy: 0.7561\n",
            "Epoch 8/50\n",
            "1617/1617 [==============================] - 72s 45ms/step - loss: 0.5838 - accuracy: 0.8320 - val_loss: 0.5541 - val_accuracy: 0.8465\n",
            "Epoch 9/50\n",
            "1617/1617 [==============================] - 72s 45ms/step - loss: 0.5032 - accuracy: 0.8535 - val_loss: 0.4991 - val_accuracy: 0.8593\n",
            "Epoch 10/50\n",
            "1617/1617 [==============================] - 72s 45ms/step - loss: 0.4463 - accuracy: 0.8701 - val_loss: 0.8055 - val_accuracy: 0.7886\n",
            "Epoch 11/50\n",
            "1617/1617 [==============================] - 72s 44ms/step - loss: 0.4051 - accuracy: 0.8815 - val_loss: 0.7165 - val_accuracy: 0.8136\n",
            "Epoch 12/50\n",
            "1617/1617 [==============================] - 72s 45ms/step - loss: 0.3748 - accuracy: 0.8907 - val_loss: 0.5332 - val_accuracy: 0.8589\n",
            "Epoch 13/50\n",
            "1617/1617 [==============================] - 72s 45ms/step - loss: 0.3496 - accuracy: 0.8978 - val_loss: 0.4791 - val_accuracy: 0.8743\n",
            "Epoch 14/50\n",
            "1617/1617 [==============================] - 72s 45ms/step - loss: 0.3297 - accuracy: 0.9043 - val_loss: 0.3892 - val_accuracy: 0.9001\n",
            "Epoch 15/50\n",
            "1617/1617 [==============================] - 72s 45ms/step - loss: 0.3147 - accuracy: 0.9094 - val_loss: 0.3282 - val_accuracy: 0.9111\n",
            "Epoch 16/50\n",
            "1617/1617 [==============================] - 72s 45ms/step - loss: 0.3018 - accuracy: 0.9144 - val_loss: 0.3658 - val_accuracy: 0.9053\n",
            "Epoch 17/50\n",
            "1617/1617 [==============================] - 72s 45ms/step - loss: 0.2946 - accuracy: 0.9165 - val_loss: 0.4703 - val_accuracy: 0.8775\n",
            "Epoch 18/50\n",
            "1617/1617 [==============================] - 72s 45ms/step - loss: 0.2887 - accuracy: 0.9196 - val_loss: 0.2711 - val_accuracy: 0.9309\n",
            "Epoch 19/50\n",
            "1617/1617 [==============================] - 72s 45ms/step - loss: 0.2866 - accuracy: 0.9201 - val_loss: 0.2379 - val_accuracy: 0.9391\n",
            "Epoch 20/50\n",
            "1617/1617 [==============================] - 72s 45ms/step - loss: 0.2800 - accuracy: 0.9228 - val_loss: 0.2667 - val_accuracy: 0.9296\n",
            "Epoch 21/50\n",
            "1617/1617 [==============================] - 72s 45ms/step - loss: 0.2741 - accuracy: 0.9253 - val_loss: 0.4026 - val_accuracy: 0.9111\n",
            "Epoch 22/50\n",
            "1617/1617 [==============================] - 72s 45ms/step - loss: 0.2683 - accuracy: 0.9269 - val_loss: 0.2838 - val_accuracy: 0.9287\n",
            "Epoch 23/50\n",
            "1617/1617 [==============================] - 72s 45ms/step - loss: 0.2697 - accuracy: 0.9274 - val_loss: 0.3039 - val_accuracy: 0.9269\n",
            "Epoch 24/50\n",
            "1617/1617 [==============================] - 72s 45ms/step - loss: 0.2682 - accuracy: 0.9283 - val_loss: 0.4181 - val_accuracy: 0.9116\n",
            "Epoch 25/50\n",
            "1617/1617 [==============================] - 72s 45ms/step - loss: 0.2701 - accuracy: 0.9293 - val_loss: 0.3137 - val_accuracy: 0.9350\n",
            "Epoch 26/50\n",
            "1617/1617 [==============================] - 72s 45ms/step - loss: 0.2750 - accuracy: 0.9285 - val_loss: 0.2467 - val_accuracy: 0.9461\n",
            "Epoch 27/50\n",
            "1617/1617 [==============================] - 72s 45ms/step - loss: 0.2651 - accuracy: 0.9319 - val_loss: 0.2216 - val_accuracy: 0.9499\n",
            "Epoch 28/50\n",
            "1617/1617 [==============================] - 72s 44ms/step - loss: 0.2676 - accuracy: 0.9316 - val_loss: 0.3412 - val_accuracy: 0.9252\n",
            "Epoch 29/50\n",
            "1617/1617 [==============================] - 72s 44ms/step - loss: 0.2687 - accuracy: 0.9318 - val_loss: 0.2421 - val_accuracy: 0.9462\n",
            "Epoch 30/50\n",
            "1617/1617 [==============================] - 72s 45ms/step - loss: 0.2710 - accuracy: 0.9314 - val_loss: 0.1927 - val_accuracy: 0.9537\n",
            "Epoch 31/50\n",
            "1617/1617 [==============================] - 72s 45ms/step - loss: 0.2739 - accuracy: 0.9319 - val_loss: 0.3770 - val_accuracy: 0.9246\n",
            "Epoch 32/50\n",
            "1617/1617 [==============================] - 73s 45ms/step - loss: 0.2718 - accuracy: 0.9325 - val_loss: 0.2268 - val_accuracy: 0.9511\n",
            "Epoch 33/50\n",
            "1617/1617 [==============================] - 72s 45ms/step - loss: 0.2716 - accuracy: 0.9335 - val_loss: 0.2269 - val_accuracy: 0.9469\n",
            "Epoch 34/50\n",
            "1617/1617 [==============================] - 72s 45ms/step - loss: 0.2745 - accuracy: 0.9328 - val_loss: 0.3833 - val_accuracy: 0.9241\n",
            "Epoch 35/50\n",
            "1617/1617 [==============================] - 72s 45ms/step - loss: 0.2792 - accuracy: 0.9330 - val_loss: 0.2984 - val_accuracy: 0.9435\n",
            "Epoch 36/50\n",
            "1617/1617 [==============================] - 72s 45ms/step - loss: 0.2831 - accuracy: 0.9329 - val_loss: 0.2826 - val_accuracy: 0.9373\n",
            "Epoch 37/50\n",
            "1617/1617 [==============================] - 72s 45ms/step - loss: 0.2800 - accuracy: 0.9334 - val_loss: 0.2162 - val_accuracy: 0.9516\n",
            "Epoch 38/50\n",
            "1617/1617 [==============================] - 72s 45ms/step - loss: 0.2850 - accuracy: 0.9331 - val_loss: 0.2427 - val_accuracy: 0.9491\n",
            "Epoch 39/50\n",
            "1617/1617 [==============================] - 72s 45ms/step - loss: 0.2855 - accuracy: 0.9328 - val_loss: 0.6327 - val_accuracy: 0.9041\n",
            "Epoch 40/50\n",
            "1617/1617 [==============================] - 72s 45ms/step - loss: 0.2938 - accuracy: 0.9325 - val_loss: 0.7660 - val_accuracy: 0.8978\n",
            "Epoch 41/50\n",
            "1617/1617 [==============================] - 72s 44ms/step - loss: 0.2898 - accuracy: 0.9331 - val_loss: 0.4013 - val_accuracy: 0.9316\n",
            "Epoch 42/50\n",
            "1617/1617 [==============================] - 72s 45ms/step - loss: 0.2994 - accuracy: 0.9322 - val_loss: 0.3337 - val_accuracy: 0.9367\n",
            "Epoch 43/50\n",
            "1617/1617 [==============================] - 72s 44ms/step - loss: 0.2999 - accuracy: 0.9326 - val_loss: 0.2793 - val_accuracy: 0.9384\n",
            "Epoch 44/50\n",
            "1617/1617 [==============================] - 72s 45ms/step - loss: 0.3021 - accuracy: 0.9323 - val_loss: 0.3991 - val_accuracy: 0.9398\n",
            "Epoch 45/50\n",
            "1617/1617 [==============================] - 72s 45ms/step - loss: 0.3056 - accuracy: 0.9322 - val_loss: 0.3134 - val_accuracy: 0.9415\n",
            "Epoch 46/50\n",
            "1617/1617 [==============================] - 72s 45ms/step - loss: 0.3131 - accuracy: 0.9312 - val_loss: 0.3587 - val_accuracy: 0.9384\n",
            "Epoch 47/50\n",
            "1617/1617 [==============================] - 72s 45ms/step - loss: 0.3140 - accuracy: 0.9308 - val_loss: 0.4420 - val_accuracy: 0.9126\n",
            "Epoch 48/50\n",
            "1617/1617 [==============================] - 72s 44ms/step - loss: 0.3097 - accuracy: 0.9322 - val_loss: 0.3547 - val_accuracy: 0.9330\n",
            "Epoch 49/50\n",
            "1617/1617 [==============================] - 72s 45ms/step - loss: 0.3189 - accuracy: 0.9315 - val_loss: 0.2635 - val_accuracy: 0.9513\n",
            "Epoch 50/50\n",
            "1617/1617 [==============================] - 72s 45ms/step - loss: 0.3277 - accuracy: 0.9303 - val_loss: 0.4009 - val_accuracy: 0.9340\n"
          ],
          "name": "stdout"
        }
      ]
    },
    {
      "cell_type": "code",
      "metadata": {
        "colab": {
          "base_uri": "https://localhost:8080/"
        },
        "id": "77Yw626ZGVtz",
        "outputId": "cf5994c9-a2dd-4214-fc6e-ff156978d866"
      },
      "source": [
        "# list all data in history\n",
        "print(history.history.keys())\n",
        "# summarize history for accuracy\n",
        "plt.plot(history.history['accuracy'])\n",
        "plt.plot(history.history['val_accuracy'])\n",
        "plt.title('model accuracy')\n",
        "plt.ylabel('accuracy')\n",
        "plt.xlabel('epoch')\n",
        "plt.legend(['train', 'test'], loc='upper left')\n",
        "fig = plt.gcf()\n",
        "fig.set_size_inches(15,5)\n",
        "plt.grid()\n",
        "plt.show()\n",
        "# summarize history for loss\n",
        "plt.plot(history.history['loss'])\n",
        "plt.plot(history.history['val_loss'])\n",
        "plt.title('model loss')\n",
        "plt.ylabel('loss')\n",
        "plt.xlabel('epoch')\n",
        "plt.legend(['train', 'test'], loc='upper left')\n",
        "fig = plt.gcf()\n",
        "fig.set_size_inches(15,5)\n",
        "plt.grid()\n",
        "plt.show()"
      ],
      "execution_count": null,
      "outputs": [
        {
          "output_type": "stream",
          "text": [
            "dict_keys(['loss', 'accuracy', 'val_loss', 'val_accuracy'])\n"
          ],
          "name": "stdout"
        },
        {
          "output_type": "display_data",
          "data": {
            "image/png": "[encoded data removed]",
            "text/plain": [
              "<Figure size 1080x360 with 1 Axes>"
            ]
          },
          "metadata": {
            "tags": [],
            "needs_background": "light"
          }
        },
        {
          "output_type": "display_data",
          "data": {
            "image/png": "[encoded data removed]",
            "text/plain": [
              "<Figure size 1080x360 with 1 Axes>"
            ]
          },
          "metadata": {
            "tags": [],
            "needs_background": "light"
          }
        }
      ]
    },
    {
      "cell_type": "code",
      "metadata": {
        "id": "tx4Q7rY8NRnt"
      },
      "source": [
        "from sklearn import metrics\n",
        "pred_y = clf.predict(X_test)"
      ],
      "execution_count": null,
      "outputs": []
    },
    {
      "cell_type": "code",
      "metadata": {
        "id": "tADm9tGsUvga"
      },
      "source": [
        "y_pred=[]\n",
        "for i in range(y_test.shape[0]):\n",
        "     temp=np.array(pred_y[i])\n",
        "     #maximum = np.where(temp==max(temp))\n",
        "     y_pred.append(np.argmax(temp))"
      ],
      "execution_count": null,
      "outputs": []
    },
    {
      "cell_type": "code",
      "metadata": {
        "colab": {
          "base_uri": "https://localhost:8080/"
        },
        "id": "yP7dtlhqNRjQ",
        "outputId": "0407b5b3-11c4-46e9-a7c8-67f82816dc63"
      },
      "source": [
        "recall = metrics.recall_score(y_test, y_pred, labels=[1,2], average='micro')\n",
        "precision = metrics.precision_score(y_test, y_pred, labels=[1,2], average='micro')\n",
        "f1 = metrics.f1_score(y_test, y_pred, labels=[1,2], average='micro')\n",
        "print('Recall: %.4f' % recall,'Precision: %.4f' % precision,'F-Measure: %.4f' % f1)"
      ],
      "execution_count": null,
      "outputs": [
        {
          "output_type": "stream",
          "text": [
            "Recall: 0.8123 Precision: 0.9407 F-Measure: 0.8718\n"
          ],
          "name": "stdout"
        }
      ]
    },
    {
      "cell_type": "code",
      "metadata": {
        "colab": {
          "base_uri": "https://localhost:8080/"
        },
        "id": "j9MgckHjNRgY",
        "outputId": "45c59849-2ff2-41dc-cb6d-fd49da872546"
      },
      "source": [
        "metrics_df=pd.DataFrame(history.history)\n",
        "metrics_df.head()"
      ],
      "execution_count": null,
      "outputs": [
        {
          "output_type": "execute_result",
          "data": {
            "text/html": [
              "<div>\n",
              "<style scoped>\n",
              "    .dataframe tbody tr th:only-of-type {\n",
              "        vertical-align: middle;\n",
              "    }\n",
              "\n",
              "    .dataframe tbody tr th {\n",
              "        vertical-align: top;\n",
              "    }\n",
              "\n",
              "    .dataframe thead th {\n",
              "        text-align: right;\n",
              "    }\n",
              "</style>\n",
              "<table border=\"1\" class=\"dataframe\">\n",
              "  <thead>\n",
              "    <tr style=\"text-align: right;\">\n",
              "      <th></th>\n",
              "      <th>loss</th>\n",
              "      <th>accuracy</th>\n",
              "      <th>val_loss</th>\n",
              "      <th>val_accuracy</th>\n",
              "    </tr>\n",
              "  </thead>\n",
              "  <tbody>\n",
              "    <tr>\n",
              "      <th>0</th>\n",
              "      <td>3.904747</td>\n",
              "      <td>0.170902</td>\n",
              "      <td>2.958303</td>\n",
              "      <td>0.320472</td>\n",
              "    </tr>\n",
              "    <tr>\n",
              "      <th>1</th>\n",
              "      <td>2.485767</td>\n",
              "      <td>0.407612</td>\n",
              "      <td>2.053094</td>\n",
              "      <td>0.497874</td>\n",
              "    </tr>\n",
              "    <tr>\n",
              "      <th>2</th>\n",
              "      <td>1.787201</td>\n",
              "      <td>0.550445</td>\n",
              "      <td>1.481618</td>\n",
              "      <td>0.620549</td>\n",
              "    </tr>\n",
              "    <tr>\n",
              "      <th>3</th>\n",
              "      <td>1.361277</td>\n",
              "      <td>0.642823</td>\n",
              "      <td>1.343841</td>\n",
              "      <td>0.647709</td>\n",
              "    </tr>\n",
              "    <tr>\n",
              "      <th>4</th>\n",
              "      <td>1.059886</td>\n",
              "      <td>0.712188</td>\n",
              "      <td>0.955375</td>\n",
              "      <td>0.742992</td>\n",
              "    </tr>\n",
              "  </tbody>\n",
              "</table>\n",
              "</div>"
            ],
            "text/plain": [
              "       loss  accuracy  val_loss  val_accuracy\n",
              "0  3.904747  0.170902  2.958303      0.320472\n",
              "1  2.485767  0.407612  2.053094      0.497874\n",
              "2  1.787201  0.550445  1.481618      0.620549\n",
              "3  1.361277  0.642823  1.343841      0.647709\n",
              "4  1.059886  0.712188  0.955375      0.742992"
            ]
          },
          "metadata": {
            "tags": []
          },
          "execution_count": 25
        }
      ]
    },
    {
      "cell_type": "code",
      "metadata": {
        "id": "RUan3dagNRcy"
      },
      "source": [
        "loss = pd.DataFrame(metrics_df.iloc[:,0].values,columns=[str(N_Users)])\n",
        "accuracy = pd.DataFrame(metrics_df.iloc[:,1].values,columns=[str(N_Users)])\n",
        "val_loss = pd.DataFrame(metrics_df.iloc[:,2].values,columns=[str(N_Users)])\n",
        "val_accuracy = pd.DataFrame(metrics_df.iloc[:,3].values,columns=[str(N_Users)])"
      ],
      "execution_count": null,
      "outputs": []
    },
    {
      "cell_type": "code",
      "metadata": {
        "colab": {
          "base_uri": "https://localhost:8080/"
        },
        "id": "2vf8eR94NRZI",
        "outputId": "9f53c718-c2be-48f9-d842-aeb1e73f6942"
      },
      "source": [
        "cf_matrix=metrics.confusion_matrix(y_test,y_pred)\n",
        "cf_matrix"
      ],
      "execution_count": null,
      "outputs": [
        {
          "output_type": "execute_result",
          "data": {
            "text/plain": [
              "array([[278,   0,   0, ...,   1,   0,   0],\n",
              "       [  0, 241,   0, ...,   0,   0,   0],\n",
              "       [  0,   0, 235, ...,   0,   0,   0],\n",
              "       ...,\n",
              "       [  2,   0,   0, ..., 256,   0,   0],\n",
              "       [  3,   0,   0, ...,   0, 282,   0],\n",
              "       [  0,   0,   0, ...,   0,   0, 261]])"
            ]
          },
          "metadata": {
            "tags": []
          },
          "execution_count": 27
        }
      ]
    },
    {
      "cell_type": "markdown",
      "metadata": {
        "id": "Yg9zstBm0pY1"
      },
      "source": [
        "# Saving Results"
      ]
    },
    {
      "cell_type": "code",
      "metadata": {
        "id": "mlOfKt1GNRV-"
      },
      "source": [
        "cf_mat = pd.DataFrame(cf_matrix)\n",
        "cf_mat\n",
        "cf_mat.to_csv(\"/content/cf_mat_175.csv\")"
      ],
      "execution_count": null,
      "outputs": []
    },
    {
      "cell_type": "code",
      "metadata": {
        "id": "sS_sFCvdNRN2"
      },
      "source": [
        "loss.to_csv(\"/content/loss_175.csv\")\n",
        "accuracy.to_csv(\"/content/accuracy_175.csv\")\n",
        "val_loss.to_csv(\"/content/val_loss_175.csv\")\n",
        "val_accuracy.to_csv(\"/content/val_accuracy_175.csv\")"
      ],
      "execution_count": null,
      "outputs": []
    },
    {
      "cell_type": "code",
      "metadata": {
        "id": "Zo3dSBt2rssD"
      },
      "source": [
        "clf.save('/content/Model_175.h5',save_format='h5')"
      ],
      "execution_count": null,
      "outputs": []
    }
  ]
}