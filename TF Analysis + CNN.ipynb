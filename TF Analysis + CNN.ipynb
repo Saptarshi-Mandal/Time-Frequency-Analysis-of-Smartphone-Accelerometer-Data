{
 "cells": [
  {
   "cell_type": "markdown",
   "metadata": {},
   "source": [
    "# Importing Libraries"
   ]
  },
  {
   "cell_type": "code",
   "execution_count": 1,
   "metadata": {},
   "outputs": [],
   "source": [
    "import pandas as pd\n",
    "import numpy as np\n",
    "import matplotlib\n",
    "import matplotlib.pyplot as plt\n",
    "import tensorflow\n",
    "from tensorflow import keras\n",
    "import scipy as sc\n",
    "from scipy import signal\n",
    "import cv2\n",
    "import PIL\n",
    "import optuna"
   ]
  },
  {
   "cell_type": "markdown",
   "metadata": {},
   "source": [
    "# Raw Dataset"
   ]
  },
  {
   "cell_type": "code",
   "execution_count": 2,
   "metadata": {},
   "outputs": [
    {
     "data": {
      "text/html": [
       "<div>\n",
       "<style scoped>\n",
       "    .dataframe tbody tr th:only-of-type {\n",
       "        vertical-align: middle;\n",
       "    }\n",
       "\n",
       "    .dataframe tbody tr th {\n",
       "        vertical-align: top;\n",
       "    }\n",
       "\n",
       "    .dataframe thead th {\n",
       "        text-align: right;\n",
       "    }\n",
       "</style>\n",
       "<table border=\"1\" class=\"dataframe\">\n",
       "  <thead>\n",
       "    <tr style=\"text-align: right;\">\n",
       "      <th></th>\n",
       "      <th>X</th>\n",
       "      <th>Y</th>\n",
       "      <th>Z</th>\n",
       "      <th>Label</th>\n",
       "    </tr>\n",
       "  </thead>\n",
       "  <tbody>\n",
       "    <tr>\n",
       "      <td>0</td>\n",
       "      <td>0.340509</td>\n",
       "      <td>8.308413</td>\n",
       "      <td>4.140585</td>\n",
       "      <td>0</td>\n",
       "    </tr>\n",
       "    <tr>\n",
       "      <td>1</td>\n",
       "      <td>0.381370</td>\n",
       "      <td>8.390134</td>\n",
       "      <td>4.249548</td>\n",
       "      <td>0</td>\n",
       "    </tr>\n",
       "    <tr>\n",
       "      <td>2</td>\n",
       "      <td>0.272407</td>\n",
       "      <td>8.471856</td>\n",
       "      <td>4.018002</td>\n",
       "      <td>0</td>\n",
       "    </tr>\n",
       "    <tr>\n",
       "      <td>3</td>\n",
       "      <td>0.149824</td>\n",
       "      <td>8.430995</td>\n",
       "      <td>4.290409</td>\n",
       "      <td>0</td>\n",
       "    </tr>\n",
       "    <tr>\n",
       "      <td>4</td>\n",
       "      <td>0.272407</td>\n",
       "      <td>8.430995</td>\n",
       "      <td>4.481094</td>\n",
       "      <td>0</td>\n",
       "    </tr>\n",
       "    <tr>\n",
       "      <td>...</td>\n",
       "      <td>...</td>\n",
       "      <td>...</td>\n",
       "      <td>...</td>\n",
       "      <td>...</td>\n",
       "    </tr>\n",
       "    <tr>\n",
       "      <td>749995</td>\n",
       "      <td>-7.201759</td>\n",
       "      <td>-4.750096</td>\n",
       "      <td>-1.532289</td>\n",
       "      <td>49</td>\n",
       "    </tr>\n",
       "    <tr>\n",
       "      <td>749996</td>\n",
       "      <td>-7.354988</td>\n",
       "      <td>-5.209783</td>\n",
       "      <td>-1.991976</td>\n",
       "      <td>49</td>\n",
       "    </tr>\n",
       "    <tr>\n",
       "      <td>749997</td>\n",
       "      <td>-7.201759</td>\n",
       "      <td>-5.056554</td>\n",
       "      <td>-2.145205</td>\n",
       "      <td>49</td>\n",
       "    </tr>\n",
       "    <tr>\n",
       "      <td>749998</td>\n",
       "      <td>-7.354988</td>\n",
       "      <td>-5.363012</td>\n",
       "      <td>-2.298433</td>\n",
       "      <td>49</td>\n",
       "    </tr>\n",
       "    <tr>\n",
       "      <td>749999</td>\n",
       "      <td>-7.201759</td>\n",
       "      <td>-4.750096</td>\n",
       "      <td>-1.991976</td>\n",
       "      <td>49</td>\n",
       "    </tr>\n",
       "  </tbody>\n",
       "</table>\n",
       "<p>750000 rows × 4 columns</p>\n",
       "</div>"
      ],
      "text/plain": [
       "               X         Y         Z  Label\n",
       "0       0.340509  8.308413  4.140585      0\n",
       "1       0.381370  8.390134  4.249548      0\n",
       "2       0.272407  8.471856  4.018002      0\n",
       "3       0.149824  8.430995  4.290409      0\n",
       "4       0.272407  8.430995  4.481094      0\n",
       "...          ...       ...       ...    ...\n",
       "749995 -7.201759 -4.750096 -1.532289     49\n",
       "749996 -7.354988 -5.209783 -1.991976     49\n",
       "749997 -7.201759 -5.056554 -2.145205     49\n",
       "749998 -7.354988 -5.363012 -2.298433     49\n",
       "749999 -7.201759 -4.750096 -1.991976     49\n",
       "\n",
       "[750000 rows x 4 columns]"
      ]
     },
     "execution_count": 2,
     "metadata": {},
     "output_type": "execute_result"
    }
   ],
   "source": [
    "df = pd.read_csv(r\"E:\\Academic\\Project\\User Identity from Time-Frequency Analysis\\50_Users_Acceleromter_Data.csv\")\n",
    "df"
   ]
  },
  {
   "cell_type": "markdown",
   "metadata": {},
   "source": [
    "## Distributing User Data to Array"
   ]
  },
  {
   "cell_type": "code",
   "execution_count": 3,
   "metadata": {},
   "outputs": [],
   "source": [
    "length = 15000"
   ]
  },
  {
   "cell_type": "code",
   "execution_count": 4,
   "metadata": {},
   "outputs": [
    {
     "name": "stdout",
     "output_type": "stream",
     "text": [
      "--- 1.5101745128631592 seconds ---\n"
     ]
    }
   ],
   "source": [
    "import time\n",
    "start_time = time.time()\n",
    "N_Users=5\n",
    "k=0\n",
    "X=[0 for p in range(N_Users)] # Final Array\n",
    "for i in range(0,length*N_Users,length):\n",
    "    temp=[]\n",
    "    for j in range(length):\n",
    "        x_y_z = [df.iloc[i+j,0],df.iloc[i+j,1],df.iloc[i+j,2]]\n",
    "        temp.append(x_y_z)\n",
    "    X[k]=temp\n",
    "    k+=1 #incrementing [Final Array] indices\n",
    "print(\"--- %s seconds ---\" % (time.time() - start_time))"
   ]
  },
  {
   "cell_type": "code",
   "execution_count": 5,
   "metadata": {},
   "outputs": [
    {
     "data": {
      "text/plain": [
       "(5, 15000, 3)"
      ]
     },
     "execution_count": 5,
     "metadata": {},
     "output_type": "execute_result"
    }
   ],
   "source": [
    "t=np.array(X)\n",
    "t.shape"
   ]
  },
  {
   "cell_type": "markdown",
   "metadata": {},
   "source": [
    "## Algo for creating windows"
   ]
  },
  {
   "cell_type": "code",
   "execution_count": 6,
   "metadata": {},
   "outputs": [],
   "source": [
    "# Main Algo for Creating Windows .....#1\n",
    "\n",
    "def create(df,wind_size,hop_size,m_index):\n",
    "  #l=((len(df.x)-wind_size)/hop_size)+1\n",
    "  rows, cols = (wind_size, 3) \n",
    "#  a = [[0 for i in range(cols)] for j in range(rows)] \n",
    "  array= [0 for i in range(int((length-wind_size)/hop_size)+1)]\n",
    "  k = 0\n",
    "  for i in range(0,(length-wind_size+1),hop_size):\n",
    "      a=create1(df,i,wind_size,m_index)\n",
    "       #array.append(a)\n",
    "      array[k] = a\n",
    "      k+=1\n",
    "  #return pd.DataFrame(array)\n",
    "  return array\n"
   ]
  },
  {
   "cell_type": "code",
   "execution_count": 7,
   "metadata": {},
   "outputs": [],
   "source": [
    "# Main Algo for Creating Windows .....#2\n",
    "\n",
    "def create1(df,x,w,m_index):\n",
    "     rows = w \n",
    "     cols = 3\n",
    "     arr = [[0 for i in range(cols)] for j in range(rows)] \n",
    "     for i in range(0,w,1):\n",
    "        arr[i][0]=df[x+i][0]\n",
    "        arr[i][1]=df[x+i][1]\n",
    "        arr[i][2]=df[x+i][2]\n",
    "     arr = np.array(arr)\n",
    "     f1,t1,x = signal.stft(arr[:,0],5,nperseg=10)\n",
    "     f2,t2,y = signal.stft(arr[:,1],5,nperseg=10)\n",
    "     f3,t3,z = signal.stft(arr[:,2],5,nperseg=10)\n",
    "     temp_a = np.concatenate((abs(np.array(x)),abs(np.array(y)),abs(np.array(z))),axis=0)\n",
    "     return temp_a"
   ]
  },
  {
   "cell_type": "markdown",
   "metadata": {},
   "source": [
    "## Final Array for training"
   ]
  },
  {
   "cell_type": "code",
   "execution_count": 8,
   "metadata": {},
   "outputs": [
    {
     "name": "stdout",
     "output_type": "stream",
     "text": [
      "--- 4.839966773986816 seconds ---\n"
     ]
    }
   ],
   "source": [
    "import time\n",
    "start_time = time.time()\n",
    "X_final = [0 for i in range( N_Users)]\n",
    "for m_index in range(N_Users):\n",
    "  X_final[m_index]=create(X[m_index],225,10,m_index)\n",
    "print(\"--- %s seconds ---\" % (time.time() - start_time))"
   ]
  },
  {
   "cell_type": "code",
   "execution_count": 9,
   "metadata": {},
   "outputs": [
    {
     "data": {
      "text/plain": [
       "(1478, 18, 46)"
      ]
     },
     "execution_count": 9,
     "metadata": {},
     "output_type": "execute_result"
    }
   ],
   "source": [
    "t=np.array(X_final[0])\n",
    "t.shape             # The shape gives(number of windows,shape of TF plot image)"
   ]
  },
  {
   "cell_type": "code",
   "execution_count": 10,
   "metadata": {},
   "outputs": [],
   "source": [
    "X_input=[]\n",
    "for i in range(N_Users):\n",
    "  temp = X_final[i]\n",
    "  X_input += temp\n",
    "X_input = np.array(X_input)"
   ]
  },
  {
   "cell_type": "markdown",
   "metadata": {},
   "source": [
    "## A typical TF plot of one window"
   ]
  },
  {
   "cell_type": "code",
   "execution_count": 12,
   "metadata": {},
   "outputs": [
    {
     "data": {
      "image/png": "[encoded data removed]",
      "text/plain": [
       "<Figure size 1080x360 with 1 Axes>"
      ]
     },
     "metadata": {
      "needs_background": "light"
     },
     "output_type": "display_data"
    }
   ],
   "source": [
    "plt.imshow(X_input[5000],cmap='magma')\n",
    "fig = plt.gcf()\n",
    "fig.set_size_inches(15,5)"
   ]
  },
  {
   "cell_type": "code",
   "execution_count": 13,
   "metadata": {
    "scrolled": true
   },
   "outputs": [
    {
     "data": {
      "image/png": "[encoded data removed]",
      "text/plain": [
       "<Figure size 1080x360 with 1 Axes>"
      ]
     },
     "metadata": {
      "needs_background": "light"
     },
     "output_type": "display_data"
    }
   ],
   "source": [
    "plt.imshow(X_input[1477],cmap='magma')\n",
    "fig = plt.gcf()\n",
    "fig.set_size_inches(15,5)\n",
    "#plt.savefig(r'E:\\Academic\\Project\\User Identity from Time-Frequency Analysis\\outfile.jpg')"
   ]
  },
  {
   "cell_type": "markdown",
   "metadata": {},
   "source": [
    "## Creating Labels"
   ]
  },
  {
   "cell_type": "code",
   "execution_count": 14,
   "metadata": {},
   "outputs": [],
   "source": [
    "y = [0 for i in range(X_input.shape[0])]\n",
    "for i in range(X_input.shape[0]):\n",
    "  y[i]=int(i*N_Users/X_input.shape[0])\n",
    "y = np.array(y)"
   ]
  },
  {
   "cell_type": "markdown",
   "metadata": {},
   "source": [
    "## Splitting into training and testing"
   ]
  },
  {
   "cell_type": "code",
   "execution_count": 15,
   "metadata": {},
   "outputs": [],
   "source": [
    "import sklearn\n",
    "from sklearn.model_selection import train_test_split\n",
    "X_train , X_test , y_train , y_test = train_test_split(X_input,y,test_size = 0.2,shuffle=True)"
   ]
  },
  {
   "cell_type": "markdown",
   "metadata": {},
   "source": [
    "# The MODEL"
   ]
  },
  {
   "cell_type": "code",
   "execution_count": 16,
   "metadata": {},
   "outputs": [
    {
     "name": "stderr",
     "output_type": "stream",
     "text": [
      "Using TensorFlow backend.\n"
     ]
    }
   ],
   "source": [
    "from keras.layers import Dense,Conv2D,MaxPooling2D,Dropout"
   ]
  },
  {
   "cell_type": "markdown",
   "metadata": {},
   "source": [
    "## Model Architecture"
   ]
  },
  {
   "cell_type": "code",
   "execution_count": 19,
   "metadata": {},
   "outputs": [],
   "source": [
    "clf = tensorflow.keras.Sequential()"
   ]
  },
  {
   "cell_type": "code",
   "execution_count": 22,
   "metadata": {},
   "outputs": [],
   "source": [
    "clf.add(keras.layers.Conv2D(64, (3,3), activation= 'relu', input_shape = (X_input.shape[1],X_input.shape[2],1), padding='same'))\n",
    "clf.add(keras.layers.Conv2D(32, (3,3), activation= 'relu',padding='same'))\n",
    "clf.add(keras.layers.MaxPool2D(pool_size= (1,1)))\n",
    "clf.add(keras.layers.Dropout(rate= 0.5))\n",
    "\n",
    "clf.add(keras.layers.Conv2D(64, (3,3), activation= 'relu',padding='same'))\n",
    "clf.add(keras.layers.Conv2D(32, (3,3), activation= 'relu',padding='same'))\n",
    "clf.add(keras.layers.MaxPool2D(pool_size= (1,1)))\n",
    "clf.add(keras.layers.Dropout(rate= 0.5))\n",
    "\n",
    "\n",
    "clf.add(keras.layers.Flatten())\n",
    "          \n",
    "clf.add(keras.layers.Dense(128,activation='relu'))\n",
    "clf.add(keras.layers.Dense(32,activation = 'relu'))\n",
    "clf.add(keras.layers.Dense(N_Users,activation='softmax'))"
   ]
  },
  {
   "cell_type": "code",
   "execution_count": 23,
   "metadata": {},
   "outputs": [
    {
     "name": "stdout",
     "output_type": "stream",
     "text": [
      "Model: \"sequential\"\n",
      "_________________________________________________________________\n",
      "Layer (type)                 Output Shape              Param #   \n",
      "=================================================================\n",
      "conv2d (Conv2D)              (None, 18, 46, 64)        640       \n",
      "_________________________________________________________________\n",
      "conv2d_1 (Conv2D)            (None, 18, 46, 32)        18464     \n",
      "_________________________________________________________________\n",
      "max_pooling2d (MaxPooling2D) (None, 18, 46, 32)        0         \n",
      "_________________________________________________________________\n",
      "dropout (Dropout)            (None, 18, 46, 32)        0         \n",
      "_________________________________________________________________\n",
      "conv2d_2 (Conv2D)            (None, 18, 46, 64)        18496     \n",
      "_________________________________________________________________\n",
      "conv2d_3 (Conv2D)            (None, 18, 46, 32)        18464     \n",
      "_________________________________________________________________\n",
      "max_pooling2d_1 (MaxPooling2 (None, 18, 46, 32)        0         \n",
      "_________________________________________________________________\n",
      "dropout_1 (Dropout)          (None, 18, 46, 32)        0         \n",
      "_________________________________________________________________\n",
      "flatten (Flatten)            (None, 26496)             0         \n",
      "_________________________________________________________________\n",
      "dense (Dense)                (None, 128)               3391616   \n",
      "_________________________________________________________________\n",
      "dense_1 (Dense)              (None, 32)                4128      \n",
      "_________________________________________________________________\n",
      "dense_2 (Dense)              (None, 10)                330       \n",
      "=================================================================\n",
      "Total params: 3,452,138\n",
      "Trainable params: 3,452,138\n",
      "Non-trainable params: 0\n",
      "_________________________________________________________________\n"
     ]
    }
   ],
   "source": [
    "clf.summary()"
   ]
  },
  {
   "cell_type": "code",
   "execution_count": 24,
   "metadata": {},
   "outputs": [],
   "source": [
    "clf.compile(optimizer='adam',loss='sparse_categorical_crossentropy',metrics=['accuracy'])"
   ]
  },
  {
   "cell_type": "code",
   "execution_count": 46,
   "metadata": {},
   "outputs": [],
   "source": [
    "#Reshaping the input\n",
    "X_train = X_train.reshape(X_train.shape[0],X_train.shape[1],X_train.shape[2],1)\n",
    "X_test = X_test.reshape(X_test.shape[0],X_test.shape[1],X_test.shape[2],1)"
   ]
  },
  {
   "cell_type": "markdown",
   "metadata": {},
   "source": [
    "## Trying the Model out"
   ]
  },
  {
   "cell_type": "code",
   "execution_count": 26,
   "metadata": {},
   "outputs": [
    {
     "name": "stdout",
     "output_type": "stream",
     "text": [
      "Train on 11824 samples, validate on 2956 samples\n",
      "Epoch 1/50\n",
      "11824/11824 [==============================] - 51s 4ms/sample - loss: 1.9016 - accuracy: 0.2977 - val_loss: 1.7337 - val_accuracy: 0.3823\n",
      "Epoch 2/50\n",
      "11824/11824 [==============================] - 52s 4ms/sample - loss: 1.5934 - accuracy: 0.4263 - val_loss: 1.4586 - val_accuracy: 0.4702\n",
      "Epoch 3/50\n",
      "11824/11824 [==============================] - 51s 4ms/sample - loss: 1.3232 - accuracy: 0.5316 - val_loss: 1.2239 - val_accuracy: 0.5670\n",
      "Epoch 4/50\n",
      "11824/11824 [==============================] - 49s 4ms/sample - loss: 1.1041 - accuracy: 0.6030 - val_loss: 1.0056 - val_accuracy: 0.6485\n",
      "Epoch 5/50\n",
      "11824/11824 [==============================] - 49s 4ms/sample - loss: 0.9128 - accuracy: 0.6774 - val_loss: 0.8929 - val_accuracy: 0.6783\n",
      "Epoch 6/50\n",
      "11824/11824 [==============================] - 49s 4ms/sample - loss: 0.7572 - accuracy: 0.7272 - val_loss: 0.7913 - val_accuracy: 0.7135\n",
      "Epoch 7/50\n",
      "11824/11824 [==============================] - 49s 4ms/sample - loss: 0.6147 - accuracy: 0.7859 - val_loss: 0.6399 - val_accuracy: 0.7693\n",
      "Epoch 8/50\n",
      "11824/11824 [==============================] - 48s 4ms/sample - loss: 0.5341 - accuracy: 0.8122 - val_loss: 0.6335 - val_accuracy: 0.7747\n",
      "Epoch 9/50\n",
      "11824/11824 [==============================] - 48s 4ms/sample - loss: 0.4292 - accuracy: 0.8483 - val_loss: 0.5275 - val_accuracy: 0.8146\n",
      "Epoch 10/50\n",
      "11824/11824 [==============================] - 49s 4ms/sample - loss: 0.3817 - accuracy: 0.8616 - val_loss: 0.5189 - val_accuracy: 0.8116\n",
      "Epoch 11/50\n",
      "11824/11824 [==============================] - 48s 4ms/sample - loss: 0.3404 - accuracy: 0.8786 - val_loss: 0.4511 - val_accuracy: 0.8461\n",
      "Epoch 12/50\n",
      "11824/11824 [==============================] - 49s 4ms/sample - loss: 0.2892 - accuracy: 0.8976 - val_loss: 0.5796 - val_accuracy: 0.8041\n",
      "Epoch 13/50\n",
      "11824/11824 [==============================] - 48s 4ms/sample - loss: 0.2291 - accuracy: 0.9201 - val_loss: 0.4983 - val_accuracy: 0.8440\n",
      "Epoch 14/50\n",
      "11824/11824 [==============================] - 47s 4ms/sample - loss: 0.2077 - accuracy: 0.9277 - val_loss: 0.5497 - val_accuracy: 0.8207\n",
      "Epoch 15/50\n",
      "11824/11824 [==============================] - 48s 4ms/sample - loss: 0.2008 - accuracy: 0.9291 - val_loss: 0.4229 - val_accuracy: 0.8599\n",
      "Epoch 16/50\n",
      "11824/11824 [==============================] - 48s 4ms/sample - loss: 0.1793 - accuracy: 0.9396 - val_loss: 0.4600 - val_accuracy: 0.8508\n",
      "Epoch 17/50\n",
      "11824/11824 [==============================] - 47s 4ms/sample - loss: 0.1615 - accuracy: 0.9425 - val_loss: 0.3359 - val_accuracy: 0.8928\n",
      "Epoch 18/50\n",
      "11824/11824 [==============================] - 47s 4ms/sample - loss: 0.1233 - accuracy: 0.9577 - val_loss: 0.3950 - val_accuracy: 0.8813\n",
      "Epoch 19/50\n",
      "11824/11824 [==============================] - 47s 4ms/sample - loss: 0.1296 - accuracy: 0.9550 - val_loss: 0.3359 - val_accuracy: 0.8945\n",
      "Epoch 20/50\n",
      "11824/11824 [==============================] - 48s 4ms/sample - loss: 0.1108 - accuracy: 0.9630 - val_loss: 0.4913 - val_accuracy: 0.8633\n",
      "Epoch 21/50\n",
      "11824/11824 [==============================] - 47s 4ms/sample - loss: 0.1040 - accuracy: 0.9641 - val_loss: 0.4828 - val_accuracy: 0.8681\n",
      "Epoch 22/50\n",
      "11824/11824 [==============================] - 48s 4ms/sample - loss: 0.1117 - accuracy: 0.9628 - val_loss: 0.3118 - val_accuracy: 0.9043\n",
      "Epoch 23/50\n",
      "11824/11824 [==============================] - 49s 4ms/sample - loss: 0.0892 - accuracy: 0.9685 - val_loss: 0.4166 - val_accuracy: 0.8762\n",
      "Epoch 24/50\n",
      "11824/11824 [==============================] - 49s 4ms/sample - loss: 0.0828 - accuracy: 0.9707 - val_loss: 0.2942 - val_accuracy: 0.9076\n",
      "Epoch 25/50\n",
      "11824/11824 [==============================] - 50s 4ms/sample - loss: 0.0972 - accuracy: 0.9678 - val_loss: 0.4726 - val_accuracy: 0.8731\n",
      "Epoch 26/50\n",
      "11824/11824 [==============================] - 49s 4ms/sample - loss: 0.0841 - accuracy: 0.9707 - val_loss: 0.3656 - val_accuracy: 0.8921\n",
      "Epoch 27/50\n",
      "11824/11824 [==============================] - 49s 4ms/sample - loss: 0.0736 - accuracy: 0.9752 - val_loss: 0.4700 - val_accuracy: 0.8840\n",
      "Epoch 28/50\n",
      "11824/11824 [==============================] - 51s 4ms/sample - loss: 0.0738 - accuracy: 0.9747 - val_loss: 0.2662 - val_accuracy: 0.9222\n",
      "Epoch 29/50\n",
      "11824/11824 [==============================] - 49s 4ms/sample - loss: 0.0708 - accuracy: 0.9764 - val_loss: 0.2968 - val_accuracy: 0.9124\n",
      "Epoch 30/50\n",
      "11824/11824 [==============================] - 48s 4ms/sample - loss: 0.0531 - accuracy: 0.9808 - val_loss: 0.2859 - val_accuracy: 0.9191\n",
      "Epoch 31/50\n",
      "11824/11824 [==============================] - 48s 4ms/sample - loss: 0.0517 - accuracy: 0.9827 - val_loss: 0.2633 - val_accuracy: 0.9178\n",
      "Epoch 32/50\n",
      "11824/11824 [==============================] - 49s 4ms/sample - loss: 0.0671 - accuracy: 0.9772 - val_loss: 0.2943 - val_accuracy: 0.9110\n",
      "Epoch 33/50\n",
      "11824/11824 [==============================] - 48s 4ms/sample - loss: 0.0598 - accuracy: 0.9797 - val_loss: 0.3816 - val_accuracy: 0.8988\n",
      "Epoch 34/50\n",
      "11824/11824 [==============================] - 48s 4ms/sample - loss: 0.0500 - accuracy: 0.9827 - val_loss: 0.3566 - val_accuracy: 0.9029\n",
      "Epoch 35/50\n",
      "11824/11824 [==============================] - 49s 4ms/sample - loss: 0.0444 - accuracy: 0.9849 - val_loss: 0.3168 - val_accuracy: 0.9205\n",
      "Epoch 36/50\n",
      "11824/11824 [==============================] - 48s 4ms/sample - loss: 0.0486 - accuracy: 0.9840 - val_loss: 0.2693 - val_accuracy: 0.9259\n",
      "Epoch 37/50\n",
      "11824/11824 [==============================] - 48s 4ms/sample - loss: 0.0331 - accuracy: 0.9912 - val_loss: 0.2996 - val_accuracy: 0.9249\n",
      "Epoch 38/50\n",
      "11824/11824 [==============================] - 47s 4ms/sample - loss: 0.0548 - accuracy: 0.9827 - val_loss: 0.2401 - val_accuracy: 0.9266\n",
      "Epoch 39/50\n",
      "11824/11824 [==============================] - 48s 4ms/sample - loss: 0.0436 - accuracy: 0.9854 - val_loss: 0.6366 - val_accuracy: 0.8742\n",
      "Epoch 40/50\n",
      "11824/11824 [==============================] - 51s 4ms/sample - loss: 0.0696 - accuracy: 0.9778 - val_loss: 0.3075 - val_accuracy: 0.9114\n",
      "Epoch 41/50\n",
      "11824/11824 [==============================] - 49s 4ms/sample - loss: 0.0505 - accuracy: 0.9830 - val_loss: 0.2890 - val_accuracy: 0.9290\n",
      "Epoch 42/50\n",
      "11824/11824 [==============================] - 49s 4ms/sample - loss: 0.0385 - accuracy: 0.9882 - val_loss: 0.1935 - val_accuracy: 0.9445\n",
      "Epoch 43/50\n",
      "11824/11824 [==============================] - 48s 4ms/sample - loss: 0.0349 - accuracy: 0.9888 - val_loss: 0.2825 - val_accuracy: 0.9219\n",
      "Epoch 44/50\n",
      "11824/11824 [==============================] - 48s 4ms/sample - loss: 0.0375 - accuracy: 0.9879 - val_loss: 0.3031 - val_accuracy: 0.9249\n",
      "Epoch 45/50\n",
      "11824/11824 [==============================] - 48s 4ms/sample - loss: 0.0608 - accuracy: 0.9806 - val_loss: 0.2738 - val_accuracy: 0.9347\n",
      "Epoch 46/50\n",
      "11824/11824 [==============================] - 48s 4ms/sample - loss: 0.0452 - accuracy: 0.9841 - val_loss: 0.3536 - val_accuracy: 0.9131\n",
      "Epoch 47/50\n",
      "11824/11824 [==============================] - 48s 4ms/sample - loss: 0.0420 - accuracy: 0.9851 - val_loss: 0.2514 - val_accuracy: 0.9371\n",
      "Epoch 48/50\n",
      "11824/11824 [==============================] - 48s 4ms/sample - loss: 0.0343 - accuracy: 0.9893 - val_loss: 0.2767 - val_accuracy: 0.9256\n",
      "Epoch 49/50\n",
      "11824/11824 [==============================] - 48s 4ms/sample - loss: 0.0328 - accuracy: 0.9899 - val_loss: 0.2476 - val_accuracy: 0.9344\n",
      "Epoch 50/50\n",
      "11824/11824 [==============================] - 48s 4ms/sample - loss: 0.0281 - accuracy: 0.9910 - val_loss: 0.2719 - val_accuracy: 0.9344\n"
     ]
    }
   ],
   "source": [
    "history = clf.fit(X_train,y_train,batch_size=128,epochs=50,validation_data=(X_test,y_test))"
   ]
  },
  {
   "cell_type": "code",
   "execution_count": 27,
   "metadata": {},
   "outputs": [
    {
     "name": "stdout",
     "output_type": "stream",
     "text": [
      "dict_keys(['loss', 'accuracy', 'val_loss', 'val_accuracy'])\n"
     ]
    },
    {
     "data": {
      "image/png": "[encoded data removed]",
      "text/plain": [
       "<Figure size 1080x360 with 1 Axes>"
      ]
     },
     "metadata": {
      "needs_background": "light"
     },
     "output_type": "display_data"
    },
    {
     "data": {
      "image/png": "[encoded data removed]",
      "text/plain": [
       "<Figure size 1080x360 with 1 Axes>"
      ]
     },
     "metadata": {
      "needs_background": "light"
     },
     "output_type": "display_data"
    }
   ],
   "source": [
    "# list all data in history\n",
    "print(history.history.keys())\n",
    "# summarize history for accuracy\n",
    "plt.plot(history.history['accuracy'])\n",
    "plt.plot(history.history['val_accuracy'])\n",
    "plt.title('model accuracy')\n",
    "plt.ylabel('accuracy')\n",
    "plt.xlabel('epoch')\n",
    "plt.legend(['train', 'test'], loc='upper left')\n",
    "fig = plt.gcf()\n",
    "fig.set_size_inches(15,5)\n",
    "plt.grid()\n",
    "plt.show()\n",
    "# summarize history for loss\n",
    "plt.plot(history.history['loss'])\n",
    "plt.plot(history.history['val_loss'])\n",
    "plt.title('model loss')\n",
    "plt.ylabel('loss')\n",
    "plt.xlabel('epoch')\n",
    "plt.legend(['train', 'test'], loc='upper left')\n",
    "fig = plt.gcf()\n",
    "fig.set_size_inches(15,5)\n",
    "plt.grid()\n",
    "plt.show()"
   ]
  },
  {
   "cell_type": "code",
   "execution_count": 75,
   "metadata": {},
   "outputs": [],
   "source": [
    "from sklearn import metrics\n",
    "pred_y = clf.predict(X_test)"
   ]
  },
  {
   "cell_type": "code",
   "execution_count": 76,
   "metadata": {},
   "outputs": [],
   "source": [
    "y_pred=[]\n",
    "for i in range(y_test.shape[0]):\n",
    "     temp=np.array(pred_y[i])    \n",
    "     maximum = np.where(temp==max(temp))\n",
    "     y_pred.append(maximum[0]) "
   ]
  },
  {
   "cell_type": "code",
   "execution_count": 77,
   "metadata": {},
   "outputs": [
    {
     "name": "stdout",
     "output_type": "stream",
     "text": [
      "Recall: 0.6561 Precision: 0.5708 F-Measure: 0.6105\n"
     ]
    }
   ],
   "source": [
    "recall = metrics.recall_score(y_test, y_pred, labels=[1,2], average='micro')\n",
    "precision = metrics.precision_score(y_test, y_pred, labels=[1,2], average='micro')\n",
    "f1 = metrics.f1_score(y_test, y_pred, labels=[1,2], average='micro')\n",
    "print('Recall: %.4f' % recall,'Precision: %.4f' % precision,'F-Measure: %.4f' % f1)"
   ]
  },
  {
   "cell_type": "markdown",
   "metadata": {},
   "source": [
    "## Keeping Records"
   ]
  },
  {
   "cell_type": "code",
   "execution_count": 78,
   "metadata": {},
   "outputs": [
    {
     "data": {
      "text/html": [
       "<div>\n",
       "<style scoped>\n",
       "    .dataframe tbody tr th:only-of-type {\n",
       "        vertical-align: middle;\n",
       "    }\n",
       "\n",
       "    .dataframe tbody tr th {\n",
       "        vertical-align: top;\n",
       "    }\n",
       "\n",
       "    .dataframe thead th {\n",
       "        text-align: right;\n",
       "    }\n",
       "</style>\n",
       "<table border=\"1\" class=\"dataframe\">\n",
       "  <thead>\n",
       "    <tr style=\"text-align: right;\">\n",
       "      <th></th>\n",
       "      <th>loss</th>\n",
       "      <th>accuracy</th>\n",
       "      <th>val_loss</th>\n",
       "      <th>val_accuracy</th>\n",
       "    </tr>\n",
       "  </thead>\n",
       "  <tbody>\n",
       "    <tr>\n",
       "      <td>0</td>\n",
       "      <td>3.177004</td>\n",
       "      <td>0.177368</td>\n",
       "      <td>2.585541</td>\n",
       "      <td>0.296414</td>\n",
       "    </tr>\n",
       "    <tr>\n",
       "      <td>1</td>\n",
       "      <td>2.151085</td>\n",
       "      <td>0.395754</td>\n",
       "      <td>1.819311</td>\n",
       "      <td>0.473207</td>\n",
       "    </tr>\n",
       "    <tr>\n",
       "      <td>2</td>\n",
       "      <td>1.596172</td>\n",
       "      <td>0.530193</td>\n",
       "      <td>1.561804</td>\n",
       "      <td>0.535521</td>\n",
       "    </tr>\n",
       "    <tr>\n",
       "      <td>3</td>\n",
       "      <td>1.280952</td>\n",
       "      <td>0.613024</td>\n",
       "      <td>1.668845</td>\n",
       "      <td>0.522598</td>\n",
       "    </tr>\n",
       "    <tr>\n",
       "      <td>4</td>\n",
       "      <td>1.064058</td>\n",
       "      <td>0.673106</td>\n",
       "      <td>1.718104</td>\n",
       "      <td>0.534709</td>\n",
       "    </tr>\n",
       "  </tbody>\n",
       "</table>\n",
       "</div>"
      ],
      "text/plain": [
       "       loss  accuracy  val_loss  val_accuracy\n",
       "0  3.177004  0.177368  2.585541      0.296414\n",
       "1  2.151085  0.395754  1.819311      0.473207\n",
       "2  1.596172  0.530193  1.561804      0.535521\n",
       "3  1.280952  0.613024  1.668845      0.522598\n",
       "4  1.064058  0.673106  1.718104      0.534709"
      ]
     },
     "execution_count": 78,
     "metadata": {},
     "output_type": "execute_result"
    }
   ],
   "source": [
    "metrics_df=pd.DataFrame(history.history)\n",
    "metrics_df.head()"
   ]
  },
  {
   "cell_type": "code",
   "execution_count": 79,
   "metadata": {},
   "outputs": [],
   "source": [
    "loss = pd.DataFrame(metrics_df.iloc[:,0].values,columns=[str(N_Users)])\n",
    "accuracy = pd.DataFrame(metrics_df.iloc[:,1].values,columns=[str(N_Users)])\n",
    "val_loss = pd.DataFrame(metrics_df.iloc[:,2].values,columns=[str(N_Users)])\n",
    "val_accuracy = pd.DataFrame(metrics_df.iloc[:,3].values,columns=[str(N_Users)])"
   ]
  },
  {
   "cell_type": "code",
   "execution_count": 80,
   "metadata": {},
   "outputs": [
    {
     "data": {
      "text/plain": [
       "array([[271,   0,   5, ...,   0,   0,   0],\n",
       "       [  1, 119,  15, ...,   0,   0,   0],\n",
       "       [  0,   0, 276, ...,   0,   0,   0],\n",
       "       ...,\n",
       "       [  2,   1,   7, ...,  96,   2,   0],\n",
       "       [  6,   1,   0, ...,   0, 106,   0],\n",
       "       [  0,   0,   0, ...,   0,   0, 284]], dtype=int64)"
      ]
     },
     "execution_count": 80,
     "metadata": {},
     "output_type": "execute_result"
    }
   ],
   "source": [
    "cf_matrix=metrics.confusion_matrix(y_test,y_pred)\n",
    "cf_matrix"
   ]
  },
  {
   "cell_type": "code",
   "execution_count": 81,
   "metadata": {},
   "outputs": [],
   "source": [
    "cf_mat = pd.DataFrame(cf_matrix)\n",
    "cf_mat\n",
    "cf_mat.to_csv(r\"E:\\Academic\\Project\\User Identity from Time-Frequency Analysis\\Project Report\\Results\\Confusion Matrix\\cf_mat_50.csv\")"
   ]
  },
  {
   "cell_type": "code",
   "execution_count": 82,
   "metadata": {},
   "outputs": [],
   "source": [
    "loss.to_csv(r\"E:\\Academic\\Project\\User Identity from Time-Frequency Analysis\\Project Report\\Results\\Loss\\loss_50.csv\")\n",
    "accuracy.to_csv(r\"E:\\Academic\\Project\\User Identity from Time-Frequency Analysis\\Project Report\\Results\\Accuracy\\accuracy_50.csv\")\n",
    "val_loss.to_csv(r\"E:\\Academic\\Project\\User Identity from Time-Frequency Analysis\\Project Report\\Results\\Val_Loss\\val_loss_50.csv\")\n",
    "val_accuracy.to_csv(r\"E:\\Academic\\Project\\User Identity from Time-Frequency Analysis\\Project Report\\Results\\Val_Accuracy\\val_accuracy_50.csv\")"
   ]
  },
  {
   "cell_type": "markdown",
   "metadata": {},
   "source": [
    "# Hyperparameter Tuning"
   ]
  },
  {
   "cell_type": "code",
   "execution_count": 54,
   "metadata": {},
   "outputs": [],
   "source": [
    "def objective(trial):\n",
    "    # Clear clutter from previous Keras session graphs.\n",
    "    #clear_session()\n",
    "    \n",
    "    filters_= trial.suggest_categorical(\"filters\", [32, 64])\n",
    "    kernel_size_= trial.suggest_categorical(\"kernel_size\", [3, 5])\n",
    "    strides_= trial.suggest_categorical(\"strides\", [1, 2])\n",
    "    activation_= trial.suggest_categorical(\"activation\", [\"relu\", \"linear\"])\n",
    "    padding_ = trial.suggest_categorical(\"padding\", [\"same\"])\n",
    "    \n",
    "    clf = keras.Sequential()\n",
    "                                         \n",
    "    clf.add(keras.layers.Conv2D(filters=filters_, kernel_size = kernel_size_ ,strides = strides_ ,activation = activation_ ,padding = padding_, input_shape = (X_input.shape[1],X_input.shape[2],1)))\n",
    "    clf.add(keras.layers.Conv2D(filters=filters_, kernel_size = kernel_size_ ,strides = strides_ ,activation = activation_ ,padding = padding_))\n",
    "    clf.add(keras.layers.MaxPool2D(pool_size= (1,1)))\n",
    "    clf.add(keras.layers.Dropout(rate= 0.5))\n",
    "\n",
    "    clf.add(keras.layers.Conv2D(filters=filters_, kernel_size = kernel_size_ ,strides = strides_ ,activation = activation_ ,padding = padding_))\n",
    "    clf.add(keras.layers.Conv2D(filters=filters_, kernel_size = kernel_size_ ,strides = strides_ ,activation = activation_ ,padding = padding_))\n",
    "    clf.add(keras.layers.MaxPool2D(pool_size= (1,1)))\n",
    "    clf.add(keras.layers.Dropout(rate= 0.5))\n",
    "\n",
    "    clf.add(keras.layers.Flatten())\n",
    "\n",
    "    clf.add(keras.layers.Dense(64,activation='relu'))\n",
    "    clf.add(keras.layers.Dense(32,activation = 'relu'))\n",
    "    clf.add(keras.layers.Dense(N_Users,activation='softmax'))\n",
    "\n",
    "    # We compile our model with a sampled learning rate.\n",
    "    lr = trial.suggest_float(\"lr\", 1e-5, 1e-1, log=True)\n",
    "    clf.compile(loss=\"sparse_categorical_crossentropy\", optimizer = keras.optimizers.RMSprop(lr=lr), metrics=[\"accuracy\"])\n",
    "\n",
    "    clf.fit(\n",
    "        X_train,\n",
    "        y_train,\n",
    "        validation_data=(X_test, y_test),\n",
    "        shuffle=True,\n",
    "        batch_size=128,\n",
    "        epochs=1,\n",
    "    )\n",
    "\n",
    "    # Evaluate the model accuracy on the validation set.\n",
    "    score = clf.evaluate(X_test,y_test,verbose=0)\n",
    "    return score[1]\n"
   ]
  },
  {
   "cell_type": "code",
   "execution_count": 55,
   "metadata": {},
   "outputs": [
    {
     "name": "stderr",
     "output_type": "stream",
     "text": [
      "\u001b[32m[I 2021-01-14 17:21:05,150]\u001b[0m A new study created in memory with name: no-name-bbb787f3-0252-47d8-8ed8-10c7b30370aa\u001b[0m\n"
     ]
    },
    {
     "name": "stdout",
     "output_type": "stream",
     "text": [
      "Train on 5912 samples, validate on 1478 samples\n",
      "5912/5912 [==============================] - ETA: 44s - loss: 1.6051 - accuracy: 0.171 - ETA: 15s - loss: 1273.8587 - accuracy: 0.18 - ETA: 9s - loss: 764.9704 - accuracy: 0.1922 - ETA: 6s - loss: 546.8658 - accuracy: 0.18 - ETA: 5s - loss: 425.6909 - accuracy: 0.21 - ETA: 4s - loss: 348.5768 - accuracy: 0.22 - ETA: 3s - loss: 295.1915 - accuracy: 0.23 - ETA: 3s - loss: 256.0265 - accuracy: 0.24 - ETA: 2s - loss: 226.0769 - accuracy: 0.25 - ETA: 2s - loss: 202.4323 - accuracy: 0.25 - ETA: 2s - loss: 183.2953 - accuracy: 0.26 - ETA: 1s - loss: 167.4868 - accuracy: 0.26 - ETA: 1s - loss: 154.2082 - accuracy: 0.26 - ETA: 1s - loss: 142.8939 - accuracy: 0.26 - ETA: 1s - loss: 133.1490 - accuracy: 0.26 - ETA: 1s - loss: 124.6545 - accuracy: 0.27 - ETA: 0s - loss: 117.1923 - accuracy: 0.27 - ETA: 0s - loss: 110.5791 - accuracy: 0.27 - ETA: 0s - loss: 104.6781 - accuracy: 0.28 - ETA: 0s - loss: 99.3800 - accuracy: 0.2905 - ETA: 0s - loss: 94.6104 - accuracy: 0.289 - ETA: 0s - loss: 90.2759 - accuracy: 0.292 - ETA: 0s - loss: 86.3260 - accuracy: 0.299 - 3s 512us/sample - loss: 84.1438 - accuracy: 0.3018 - val_loss: 1.4442 - val_accuracy: 0.3207\n"
     ]
    },
    {
     "name": "stderr",
     "output_type": "stream",
     "text": [
      "\u001b[32m[I 2021-01-14 17:21:08,555]\u001b[0m Trial 0 finished with value: 0.3207036554813385 and parameters: {'filters': 32, 'kernel_size': 5, 'strides': 2, 'activation': 'relu', 'padding': 'same', 'lr': 0.021291954844568486}. Best is trial 0 with value: 0.3207036554813385.\u001b[0m\n"
     ]
    },
    {
     "name": "stdout",
     "output_type": "stream",
     "text": [
      "Train on 5912 samples, validate on 1478 samples\n",
      "5912/5912 [==============================] - ETA: 51s - loss: 2.6331 - accuracy: 0.250 - ETA: 17s - loss: 2.6595 - accuracy: 0.216 - ETA: 8s - loss: 2.6438 - accuracy: 0.201 - ETA: 5s - loss: 2.6397 - accuracy: 0.19 - ETA: 3s - loss: 2.6102 - accuracy: 0.19 - ETA: 3s - loss: 2.5599 - accuracy: 0.19 - ETA: 2s - loss: 2.5270 - accuracy: 0.19 - ETA: 2s - loss: 2.4935 - accuracy: 0.20 - ETA: 1s - loss: 2.4692 - accuracy: 0.20 - ETA: 1s - loss: 2.4448 - accuracy: 0.20 - ETA: 1s - loss: 2.4105 - accuracy: 0.20 - ETA: 0s - loss: 2.3808 - accuracy: 0.20 - ETA: 0s - loss: 2.3533 - accuracy: 0.20 - ETA: 0s - loss: 2.3264 - accuracy: 0.20 - ETA: 0s - loss: 2.3137 - accuracy: 0.20 - ETA: 0s - loss: 2.2876 - accuracy: 0.21 - ETA: 0s - loss: 2.2750 - accuracy: 0.21 - ETA: 0s - loss: 2.2643 - accuracy: 0.21 - 2s 420us/sample - loss: 2.2636 - accuracy: 0.2136 - val_loss: 1.6425 - val_accuracy: 0.1894\n"
     ]
    },
    {
     "name": "stderr",
     "output_type": "stream",
     "text": [
      "\u001b[32m[I 2021-01-14 17:21:11,368]\u001b[0m Trial 1 finished with value: 0.18944519758224487 and parameters: {'filters': 32, 'kernel_size': 3, 'strides': 2, 'activation': 'linear', 'padding': 'same', 'lr': 2.2954444638088986e-05}. Best is trial 0 with value: 0.3207036554813385.\u001b[0m\n"
     ]
    },
    {
     "name": "stdout",
     "output_type": "stream",
     "text": [
      "Train on 5912 samples, validate on 1478 samples\n",
      "5912/5912 [==============================] - ETA: 57s - loss: 1.6087 - accuracy: 0.179 - ETA: 35s - loss: 10055.2419 - accuracy: 0.191 - ETA: 27s - loss: 6706.6017 - accuracy: 0.184 - ETA: 23s - loss: 5030.3619 - accuracy: 0.19 - ETA: 21s - loss: 4024.6114 - accuracy: 0.20 - ETA: 19s - loss: 3354.1092 - accuracy: 0.21 - ETA: 17s - loss: 2875.1827 - accuracy: 0.20 - ETA: 16s - loss: 2515.9877 - accuracy: 0.20 - ETA: 16s - loss: 2236.6119 - accuracy: 0.20 - ETA: 15s - loss: 2013.1134 - accuracy: 0.20 - ETA: 14s - loss: 1830.2497 - accuracy: 0.20 - ETA: 13s - loss: 1677.8631 - accuracy: 0.20 - ETA: 13s - loss: 1548.9206 - accuracy: 0.20 - ETA: 12s - loss: 1438.3986 - accuracy: 0.20 - ETA: 11s - loss: 1342.6123 - accuracy: 0.20 - ETA: 11s - loss: 1258.7990 - accuracy: 0.20 - ETA: 11s - loss: 1184.8584 - accuracy: 0.20 - ETA: 10s - loss: 1119.1224 - accuracy: 0.20 - ETA: 10s - loss: 1060.3062 - accuracy: 0.20 - ETA: 9s - loss: 1007.3715 - accuracy: 0.2047 - ETA: 9s - loss: 959.4777 - accuracy: 0.208 - ETA: 8s - loss: 915.9383 - accuracy: 0.20 - ETA: 8s - loss: 876.2055 - accuracy: 0.20 - ETA: 7s - loss: 839.7636 - accuracy: 0.20 - ETA: 7s - loss: 806.2381 - accuracy: 0.20 - ETA: 7s - loss: 775.2912 - accuracy: 0.20 - ETA: 6s - loss: 746.6361 - accuracy: 0.20 - ETA: 6s - loss: 720.0282 - accuracy: 0.20 - ETA: 6s - loss: 695.2551 - accuracy: 0.20 - ETA: 5s - loss: 672.1336 - accuracy: 0.20 - ETA: 5s - loss: 650.5036 - accuracy: 0.20 - ETA: 4s - loss: 630.2262 - accuracy: 0.20 - ETA: 4s - loss: 611.1771 - accuracy: 0.20 - ETA: 4s - loss: 593.2487 - accuracy: 0.20 - ETA: 3s - loss: 576.3450 - accuracy: 0.20 - ETA: 3s - loss: 560.3802 - accuracy: 0.20 - ETA: 3s - loss: 545.2783 - accuracy: 0.20 - ETA: 2s - loss: 530.9713 - accuracy: 0.20 - ETA: 2s - loss: 517.3980 - accuracy: 0.20 - ETA: 2s - loss: 504.5034 - accuracy: 0.20 - ETA: 1s - loss: 492.2375 - accuracy: 0.20 - ETA: 1s - loss: 480.5560 - accuracy: 0.20 - ETA: 1s - loss: 469.4176 - accuracy: 0.20 - ETA: 0s - loss: 458.7856 - accuracy: 0.20 - ETA: 0s - loss: 448.7734 - accuracy: 0.20 - ETA: 0s - loss: 439.0527 - accuracy: 0.20 - 17s 3ms/sample - loss: 437.2770 - accuracy: 0.2060 - val_loss: 1.6196 - val_accuracy: 0.1752\n"
     ]
    },
    {
     "name": "stderr",
     "output_type": "stream",
     "text": [
      "\u001b[32m[I 2021-01-14 17:21:29,405]\u001b[0m Trial 2 finished with value: 0.1752368062734604 and parameters: {'filters': 32, 'kernel_size': 3, 'strides': 1, 'activation': 'relu', 'padding': 'same', 'lr': 0.02188309568993333}. Best is trial 0 with value: 0.3207036554813385.\u001b[0m\n"
     ]
    },
    {
     "name": "stdout",
     "output_type": "stream",
     "text": [
      "Train on 5912 samples, validate on 1478 samples\n",
      "5912/5912 [==============================] - ETA: 1:59 - loss: 1.8259 - accuracy: 0.18 - ETA: 1:31 - loss: 9754.8544 - accuracy: 0.207 - ETA: 1:20 - loss: 59118140.5696 - accuracy: 0.169 - ETA: 1:15 - loss: 59101354.4272 - accuracy: 0.175 - ETA: 1:11 - loss: 77303713.9417 - accuracy: 0.184 - ETA: 1:07 - loss: 1544680198.9515 - accuracy: 0.181 - ETA: 1:05 - loss: 1333495316.8155 - accuracy: 0.183 - ETA: 1:02 - loss: 1203575970.2136 - accuracy: 0.186 - ETA: 1:00 - loss: 1072458141.9676 - accuracy: 0.185 - ETA: 58s - loss: 971108073.3709 - accuracy: 0.1852  - ETA: 56s - loss: 885372734.1553 - accuracy: 0.191 - ETA: 54s - loss: 812459014.6424 - accuracy: 0.186 - ETA: 52s - loss: 750131806.1507 - accuracy: 0.185 - ETA: 50s - loss: 696551032.8682 - accuracy: 0.188 - ETA: 49s - loss: 650114311.1064 - accuracy: 0.187 - ETA: 47s - loss: 609482166.7628 - accuracy: 0.189 - ETA: 45s - loss: 573630274.6954 - accuracy: 0.189 - ETA: 44s - loss: 541761926.1901 - accuracy: 0.191 - ETA: 42s - loss: 513248140.6858 - accuracy: 0.192 - ETA: 40s - loss: 487585733.7321 - accuracy: 0.191 - ETA: 39s - loss: 464367365.5360 - accuracy: 0.190 - ETA: 37s - loss: 443259758.0843 - accuracy: 0.193 - ETA: 35s - loss: 423987594.7594 - accuracy: 0.192 - ETA: 34s - loss: 406321445.0449 - accuracy: 0.191 - ETA: 32s - loss: 390068587.3077 - accuracy: 0.190 - ETA: 31s - loss: 375065949.3961 - accuracy: 0.191 - ETA: 29s - loss: 361174617.9964 - accuracy: 0.193 - ETA: 27s - loss: 348275524.5542 - accuracy: 0.193 - ETA: 26s - loss: 336266023.7632 - accuracy: 0.194 - ETA: 24s - loss: 325057156.3581 - accuracy: 0.194 - ETA: 23s - loss: 314571441.6887 - accuracy: 0.194 - ETA: 21s - loss: 304741084.1865 - accuracy: 0.194 - ETA: 20s - loss: 295506505.9265 - accuracy: 0.193 - ETA: 18s - loss: 286815138.1525 - accuracy: 0.193 - ETA: 17s - loss: 278620419.9656 - accuracy: 0.193 - ETA: 15s - loss: 270880963.9002 - accuracy: 0.193 - ETA: 14s - loss: 263559856.8114 - accuracy: 0.193 - ETA: 12s - loss: 256624071.1484 - accuracy: 0.191 - ETA: 10s - loss: 250043966.8012 - accuracy: 0.192 - ETA: 9s - loss: 243792867.6715 - accuracy: 0.191 - ETA: 7s - loss: 237846700.2066 - accuracy: 0.19 - ETA: 6s - loss: 232183683.5734 - accuracy: 0.19 - ETA: 4s - loss: 226784063.0626 - accuracy: 0.19 - ETA: 3s - loss: 221629879.8477 - accuracy: 0.19 - ETA: 1s - loss: 216704771.4425 - accuracy: 0.18 - ETA: 0s - loss: 211993798.1852 - accuracy: 0.19 - 77s 13ms/sample - loss: 211133200.9055 - accuracy: 0.1901 - val_loss: 1.6100 - val_accuracy: 0.1752\n"
     ]
    },
    {
     "name": "stderr",
     "output_type": "stream",
     "text": [
      "\u001b[32m[I 2021-01-14 17:22:53,320]\u001b[0m Trial 3 finished with value: 0.1752368062734604 and parameters: {'filters': 64, 'kernel_size': 5, 'strides': 1, 'activation': 'linear', 'padding': 'same', 'lr': 0.022424596647454775}. Best is trial 0 with value: 0.3207036554813385.\u001b[0m\n"
     ]
    },
    {
     "name": "stdout",
     "output_type": "stream",
     "text": [
      "Train on 5912 samples, validate on 1478 samples\n",
      "5912/5912 [==============================] - ETA: 44s - loss: 1.6019 - accuracy: 0.218 - ETA: 15s - loss: 3.2611 - accuracy: 0.205 - ETA: 9s - loss: 2.6018 - accuracy: 0.200 - ETA: 6s - loss: 2.3157 - accuracy: 0.20 - ETA: 5s - loss: 2.1493 - accuracy: 0.21 - ETA: 4s - loss: 2.0430 - accuracy: 0.23 - ETA: 3s - loss: 1.9667 - accuracy: 0.24 - ETA: 3s - loss: 1.9025 - accuracy: 0.25 - ETA: 2s - loss: 1.8496 - accuracy: 0.27 - ETA: 2s - loss: 1.8199 - accuracy: 0.27 - ETA: 2s - loss: 1.7840 - accuracy: 0.28 - ETA: 1s - loss: 1.7492 - accuracy: 0.28 - ETA: 1s - loss: 1.7172 - accuracy: 0.29 - ETA: 1s - loss: 1.6857 - accuracy: 0.30 - ETA: 1s - loss: 1.6738 - accuracy: 0.30 - ETA: 1s - loss: 1.6504 - accuracy: 0.31 - ETA: 0s - loss: 1.6303 - accuracy: 0.32 - ETA: 0s - loss: 1.6097 - accuracy: 0.32 - ETA: 0s - loss: 1.5944 - accuracy: 0.33 - ETA: 0s - loss: 1.5829 - accuracy: 0.33 - ETA: 0s - loss: 1.5689 - accuracy: 0.34 - ETA: 0s - loss: 1.5648 - accuracy: 0.34 - ETA: 0s - loss: 1.5536 - accuracy: 0.34 - 3s 504us/sample - loss: 1.5494 - accuracy: 0.3466 - val_loss: 1.4833 - val_accuracy: 0.3627\n"
     ]
    },
    {
     "name": "stderr",
     "output_type": "stream",
     "text": [
      "\u001b[32m[I 2021-01-14 17:22:56,674]\u001b[0m Trial 4 finished with value: 0.3626522421836853 and parameters: {'filters': 32, 'kernel_size': 5, 'strides': 2, 'activation': 'relu', 'padding': 'same', 'lr': 0.003789385568103966}. Best is trial 4 with value: 0.3626522421836853.\u001b[0m\n"
     ]
    },
    {
     "name": "stdout",
     "output_type": "stream",
     "text": [
      "Train on 5912 samples, validate on 1478 samples\n",
      "5912/5912 [==============================] - ETA: 57s - loss: 1.6468 - accuracy: 0.171 - ETA: 35s - loss: 4.0298 - accuracy: 0.175 - ETA: 27s - loss: 3.6401 - accuracy: 0.169 - ETA: 23s - loss: 3.1331 - accuracy: 0.173 - ETA: 20s - loss: 2.8262 - accuracy: 0.201 - ETA: 19s - loss: 2.6211 - accuracy: 0.213 - ETA: 17s - loss: 2.4723 - accuracy: 0.226 - ETA: 16s - loss: 2.3551 - accuracy: 0.241 - ETA: 15s - loss: 2.2926 - accuracy: 0.237 - ETA: 14s - loss: 2.2171 - accuracy: 0.250 - ETA: 14s - loss: 2.1564 - accuracy: 0.251 - ETA: 13s - loss: 2.1072 - accuracy: 0.249 - ETA: 13s - loss: 2.0617 - accuracy: 0.253 - ETA: 12s - loss: 2.0170 - accuracy: 0.264 - ETA: 11s - loss: 1.9761 - accuracy: 0.273 - ETA: 11s - loss: 1.9408 - accuracy: 0.276 - ETA: 10s - loss: 1.9086 - accuracy: 0.282 - ETA: 10s - loss: 1.8762 - accuracy: 0.293 - ETA: 10s - loss: 1.8477 - accuracy: 0.299 - ETA: 9s - loss: 1.8239 - accuracy: 0.305 - ETA: 9s - loss: 1.7973 - accuracy: 0.31 - ETA: 8s - loss: 1.7797 - accuracy: 0.31 - ETA: 8s - loss: 1.7640 - accuracy: 0.32 - ETA: 7s - loss: 1.7479 - accuracy: 0.32 - ETA: 7s - loss: 1.7343 - accuracy: 0.32 - ETA: 7s - loss: 1.7187 - accuracy: 0.33 - ETA: 6s - loss: 1.7022 - accuracy: 0.33 - ETA: 6s - loss: 1.6946 - accuracy: 0.33 - ETA: 6s - loss: 1.6807 - accuracy: 0.34 - ETA: 5s - loss: 1.6702 - accuracy: 0.34 - ETA: 5s - loss: 1.6624 - accuracy: 0.34 - ETA: 4s - loss: 1.6493 - accuracy: 0.35 - ETA: 4s - loss: 1.6398 - accuracy: 0.35 - ETA: 4s - loss: 1.6267 - accuracy: 0.35 - ETA: 3s - loss: 1.6153 - accuracy: 0.35 - ETA: 3s - loss: 1.6074 - accuracy: 0.36 - ETA: 3s - loss: 1.5998 - accuracy: 0.36 - ETA: 2s - loss: 1.5926 - accuracy: 0.36 - ETA: 2s - loss: 1.5830 - accuracy: 0.36 - ETA: 2s - loss: 1.5773 - accuracy: 0.36 - ETA: 1s - loss: 1.5723 - accuracy: 0.36 - ETA: 1s - loss: 1.5654 - accuracy: 0.36 - ETA: 1s - loss: 1.5569 - accuracy: 0.37 - ETA: 0s - loss: 1.5509 - accuracy: 0.37 - ETA: 0s - loss: 1.5422 - accuracy: 0.37 - ETA: 0s - loss: 1.5383 - accuracy: 0.37 - 17s 3ms/sample - loss: 1.5382 - accuracy: 0.3775 - val_loss: 1.3779 - val_accuracy: 0.4804\n"
     ]
    },
    {
     "name": "stderr",
     "output_type": "stream",
     "text": [
      "\u001b[32m[I 2021-01-14 17:23:14,974]\u001b[0m Trial 5 finished with value: 0.4803788959980011 and parameters: {'filters': 32, 'kernel_size': 3, 'strides': 1, 'activation': 'relu', 'padding': 'same', 'lr': 0.0022646939695784374}. Best is trial 5 with value: 0.4803788959980011.\u001b[0m\n"
     ]
    },
    {
     "name": "stdout",
     "output_type": "stream",
     "text": [
      "Train on 5912 samples, validate on 1478 samples\n",
      "5912/5912 [==============================] - ETA: 1:49 - loss: 1.7276 - accuracy: 0.17 - ETA: 1:26 - loss: 1.9482 - accuracy: 0.21 - ETA: 1:18 - loss: 1.8020 - accuracy: 0.23 - ETA: 1:13 - loss: 1.7258 - accuracy: 0.28 - ETA: 1:09 - loss: 1.6935 - accuracy: 0.30 - ETA: 1:06 - loss: 1.6350 - accuracy: 0.31 - ETA: 1:03 - loss: 1.5857 - accuracy: 0.33 - ETA: 1:01 - loss: 1.5563 - accuracy: 0.35 - ETA: 59s - loss: 1.5441 - accuracy: 0.3516 - ETA: 57s - loss: 1.5382 - accuracy: 0.344 - ETA: 55s - loss: 1.5200 - accuracy: 0.350 - ETA: 53s - loss: 1.4990 - accuracy: 0.359 - ETA: 51s - loss: 1.4799 - accuracy: 0.364 - ETA: 50s - loss: 1.4635 - accuracy: 0.367 - ETA: 48s - loss: 1.4551 - accuracy: 0.372 - ETA: 46s - loss: 1.4440 - accuracy: 0.373 - ETA: 45s - loss: 1.4403 - accuracy: 0.371 - ETA: 43s - loss: 1.4406 - accuracy: 0.370 - ETA: 41s - loss: 1.4353 - accuracy: 0.370 - ETA: 40s - loss: 1.4254 - accuracy: 0.372 - ETA: 38s - loss: 1.4188 - accuracy: 0.371 - ETA: 37s - loss: 1.4100 - accuracy: 0.378 - ETA: 35s - loss: 1.4007 - accuracy: 0.383 - ETA: 33s - loss: 1.3968 - accuracy: 0.386 - ETA: 32s - loss: 1.3910 - accuracy: 0.388 - ETA: 30s - loss: 1.3869 - accuracy: 0.388 - ETA: 29s - loss: 1.3811 - accuracy: 0.391 - ETA: 27s - loss: 1.3802 - accuracy: 0.392 - ETA: 26s - loss: 1.3769 - accuracy: 0.392 - ETA: 24s - loss: 1.3738 - accuracy: 0.393 - ETA: 23s - loss: 1.3697 - accuracy: 0.393 - ETA: 21s - loss: 1.3656 - accuracy: 0.394 - ETA: 20s - loss: 1.3641 - accuracy: 0.393 - ETA: 18s - loss: 1.3630 - accuracy: 0.394 - ETA: 16s - loss: 1.3593 - accuracy: 0.395 - ETA: 15s - loss: 1.3583 - accuracy: 0.395 - ETA: 13s - loss: 1.3550 - accuracy: 0.396 - ETA: 12s - loss: 1.3491 - accuracy: 0.399 - ETA: 10s - loss: 1.3457 - accuracy: 0.399 - ETA: 9s - loss: 1.3407 - accuracy: 0.400 - ETA: 7s - loss: 1.3393 - accuracy: 0.40 - ETA: 6s - loss: 1.3367 - accuracy: 0.40 - ETA: 4s - loss: 1.3331 - accuracy: 0.40 - ETA: 3s - loss: 1.3315 - accuracy: 0.40 - ETA: 1s - loss: 1.3289 - accuracy: 0.40 - ETA: 0s - loss: 1.3263 - accuracy: 0.40 - 77s 13ms/sample - loss: 1.3268 - accuracy: 0.4066 - val_loss: 1.2449 - val_accuracy: 0.4553\n"
     ]
    },
    {
     "name": "stderr",
     "output_type": "stream",
     "text": [
      "\u001b[32m[I 2021-01-14 17:24:38,638]\u001b[0m Trial 6 finished with value: 0.4553450644016266 and parameters: {'filters': 64, 'kernel_size': 5, 'strides': 1, 'activation': 'linear', 'padding': 'same', 'lr': 0.00012035105135207528}. Best is trial 5 with value: 0.4803788959980011.\u001b[0m\n"
     ]
    },
    {
     "name": "stdout",
     "output_type": "stream",
     "text": [
      "Train on 5912 samples, validate on 1478 samples\n",
      "5912/5912 [==============================] - ETA: 42s - loss: 1.7641 - accuracy: 0.257 - ETA: 14s - loss: 1.6913 - accuracy: 0.289 - ETA: 8s - loss: 1.6668 - accuracy: 0.273 - ETA: 5s - loss: 1.6159 - accuracy: 0.27 - ETA: 3s - loss: 1.6172 - accuracy: 0.28 - ETA: 2s - loss: 1.6054 - accuracy: 0.28 - ETA: 2s - loss: 1.5896 - accuracy: 0.28 - ETA: 1s - loss: 1.5682 - accuracy: 0.29 - ETA: 1s - loss: 1.5584 - accuracy: 0.30 - ETA: 1s - loss: 1.5490 - accuracy: 0.30 - ETA: 1s - loss: 1.5416 - accuracy: 0.31 - ETA: 0s - loss: 1.5192 - accuracy: 0.32 - ETA: 0s - loss: 1.5025 - accuracy: 0.33 - ETA: 0s - loss: 1.4928 - accuracy: 0.33 - ETA: 0s - loss: 1.4845 - accuracy: 0.34 - ETA: 0s - loss: 1.4763 - accuracy: 0.34 - ETA: 0s - loss: 1.4659 - accuracy: 0.34 - 2s 383us/sample - loss: 1.4641 - accuracy: 0.3491 - val_loss: 1.2629 - val_accuracy: 0.4520\n"
     ]
    },
    {
     "name": "stderr",
     "output_type": "stream",
     "text": [
      "\u001b[32m[I 2021-01-14 17:24:41,232]\u001b[0m Trial 7 finished with value: 0.45196211338043213 and parameters: {'filters': 32, 'kernel_size': 3, 'strides': 2, 'activation': 'linear', 'padding': 'same', 'lr': 0.0016644963848726152}. Best is trial 5 with value: 0.4803788959980011.\u001b[0m\n"
     ]
    },
    {
     "name": "stdout",
     "output_type": "stream",
     "text": [
      "Train on 5912 samples, validate on 1478 samples\n",
      "5912/5912 [==============================] - ETA: 1:30 - loss: 1.6276 - accuracy: 0.25 - ETA: 1:02 - loss: 2.6796 - accuracy: 0.23 - ETA: 52s - loss: 2.2919 - accuracy: 0.2917 - ETA: 47s - loss: 2.0778 - accuracy: 0.312 - ETA: 43s - loss: 2.0505 - accuracy: 0.318 - ETA: 41s - loss: 1.9684 - accuracy: 0.324 - ETA: 39s - loss: 1.9061 - accuracy: 0.313 - ETA: 37s - loss: 1.8493 - accuracy: 0.322 - ETA: 35s - loss: 1.7989 - accuracy: 0.329 - ETA: 34s - loss: 1.7586 - accuracy: 0.335 - ETA: 33s - loss: 1.7287 - accuracy: 0.341 - ETA: 31s - loss: 1.6948 - accuracy: 0.350 - ETA: 30s - loss: 1.6582 - accuracy: 0.358 - ETA: 29s - loss: 1.6577 - accuracy: 0.361 - ETA: 28s - loss: 1.6424 - accuracy: 0.359 - ETA: 27s - loss: 1.6249 - accuracy: 0.360 - ETA: 26s - loss: 1.6058 - accuracy: 0.367 - ETA: 25s - loss: 1.5886 - accuracy: 0.368 - ETA: 24s - loss: 1.5775 - accuracy: 0.368 - ETA: 23s - loss: 1.5656 - accuracy: 0.371 - ETA: 22s - loss: 1.5540 - accuracy: 0.375 - ETA: 21s - loss: 1.5435 - accuracy: 0.377 - ETA: 20s - loss: 1.5303 - accuracy: 0.379 - ETA: 19s - loss: 1.5260 - accuracy: 0.377 - ETA: 18s - loss: 1.5182 - accuracy: 0.380 - ETA: 17s - loss: 1.5095 - accuracy: 0.380 - ETA: 16s - loss: 1.5019 - accuracy: 0.382 - ETA: 16s - loss: 1.4934 - accuracy: 0.385 - ETA: 15s - loss: 1.4843 - accuracy: 0.386 - ETA: 14s - loss: 1.4795 - accuracy: 0.386 - ETA: 13s - loss: 1.4728 - accuracy: 0.387 - ETA: 12s - loss: 1.4627 - accuracy: 0.391 - ETA: 11s - loss: 1.4537 - accuracy: 0.394 - ETA: 10s - loss: 1.4498 - accuracy: 0.394 - ETA: 9s - loss: 1.4439 - accuracy: 0.394 - ETA: 8s - loss: 1.4360 - accuracy: 0.39 - ETA: 7s - loss: 1.4268 - accuracy: 0.39 - ETA: 7s - loss: 1.4243 - accuracy: 0.39 - ETA: 6s - loss: 1.4220 - accuracy: 0.39 - ETA: 5s - loss: 1.4172 - accuracy: 0.39 - ETA: 4s - loss: 1.4106 - accuracy: 0.40 - ETA: 3s - loss: 1.4054 - accuracy: 0.40 - ETA: 2s - loss: 1.4007 - accuracy: 0.40 - ETA: 1s - loss: 1.3960 - accuracy: 0.40 - ETA: 1s - loss: 1.3937 - accuracy: 0.40 - ETA: 0s - loss: 1.3910 - accuracy: 0.40 - 44s 7ms/sample - loss: 1.3903 - accuracy: 0.4048 - val_loss: 1.1797 - val_accuracy: 0.4905\n"
     ]
    },
    {
     "name": "stderr",
     "output_type": "stream",
     "text": [
      "\u001b[32m[I 2021-01-14 17:25:28,379]\u001b[0m Trial 8 finished with value: 0.4905277490615845 and parameters: {'filters': 64, 'kernel_size': 3, 'strides': 1, 'activation': 'relu', 'padding': 'same', 'lr': 0.0008465448849043298}. Best is trial 8 with value: 0.4905277490615845.\u001b[0m\n"
     ]
    },
    {
     "name": "stdout",
     "output_type": "stream",
     "text": [
      "Train on 5912 samples, validate on 1478 samples\n",
      "5912/5912 [==============================] - ETA: 1:04 - loss: 2.5421 - accuracy: 0.18 - ETA: 39s - loss: 2.2240 - accuracy: 0.1797 - ETA: 30s - loss: 2.0525 - accuracy: 0.192 - ETA: 25s - loss: 1.9400 - accuracy: 0.199 - ETA: 22s - loss: 1.8822 - accuracy: 0.201 - ETA: 20s - loss: 1.8393 - accuracy: 0.209 - ETA: 19s - loss: 1.8094 - accuracy: 0.217 - ETA: 17s - loss: 1.7719 - accuracy: 0.230 - ETA: 16s - loss: 1.7478 - accuracy: 0.231 - ETA: 15s - loss: 1.7266 - accuracy: 0.239 - ETA: 14s - loss: 1.7036 - accuracy: 0.252 - ETA: 14s - loss: 1.6869 - accuracy: 0.256 - ETA: 13s - loss: 1.6645 - accuracy: 0.269 - ETA: 12s - loss: 1.6444 - accuracy: 0.281 - ETA: 12s - loss: 1.6249 - accuracy: 0.290 - ETA: 11s - loss: 1.6109 - accuracy: 0.294 - ETA: 11s - loss: 1.5993 - accuracy: 0.300 - ETA: 10s - loss: 1.5855 - accuracy: 0.308 - ETA: 10s - loss: 1.5733 - accuracy: 0.313 - ETA: 9s - loss: 1.5644 - accuracy: 0.318 - ETA: 9s - loss: 1.5538 - accuracy: 0.32 - ETA: 9s - loss: 1.5431 - accuracy: 0.32 - ETA: 8s - loss: 1.5358 - accuracy: 0.33 - ETA: 8s - loss: 1.5300 - accuracy: 0.33 - ETA: 7s - loss: 1.5211 - accuracy: 0.33 - ETA: 7s - loss: 1.5118 - accuracy: 0.34 - ETA: 6s - loss: 1.5071 - accuracy: 0.34 - ETA: 6s - loss: 1.4999 - accuracy: 0.34 - ETA: 6s - loss: 1.4937 - accuracy: 0.34 - ETA: 5s - loss: 1.4918 - accuracy: 0.34 - ETA: 5s - loss: 1.4838 - accuracy: 0.35 - ETA: 5s - loss: 1.4775 - accuracy: 0.35 - ETA: 4s - loss: 1.4728 - accuracy: 0.35 - ETA: 4s - loss: 1.4705 - accuracy: 0.35 - ETA: 3s - loss: 1.4662 - accuracy: 0.36 - ETA: 3s - loss: 1.4624 - accuracy: 0.36 - ETA: 3s - loss: 1.4594 - accuracy: 0.36 - ETA: 2s - loss: 1.4542 - accuracy: 0.36 - ETA: 2s - loss: 1.4511 - accuracy: 0.36 - ETA: 2s - loss: 1.4487 - accuracy: 0.36 - ETA: 1s - loss: 1.4438 - accuracy: 0.36 - ETA: 1s - loss: 1.4431 - accuracy: 0.36 - ETA: 1s - loss: 1.4379 - accuracy: 0.36 - ETA: 0s - loss: 1.4339 - accuracy: 0.37 - ETA: 0s - loss: 1.4276 - accuracy: 0.37 - ETA: 0s - loss: 1.4279 - accuracy: 0.37 - 17s 3ms/sample - loss: 1.4274 - accuracy: 0.3742 - val_loss: 1.2778 - val_accuracy: 0.4114\n"
     ]
    },
    {
     "name": "stderr",
     "output_type": "stream",
     "text": [
      "\u001b[32m[I 2021-01-14 17:25:46,275]\u001b[0m Trial 9 finished with value: 0.41136670112609863 and parameters: {'filters': 32, 'kernel_size': 3, 'strides': 1, 'activation': 'linear', 'padding': 'same', 'lr': 5.282551682119505e-05}. Best is trial 8 with value: 0.4905277490615845.\u001b[0m\n"
     ]
    },
    {
     "name": "stdout",
     "output_type": "stream",
     "text": [
      "Train on 5912 samples, validate on 1478 samples\n",
      "5912/5912 [==============================] - ETA: 1:19 - loss: 1.6220 - accuracy: 0.22 - ETA: 57s - loss: 1.6785 - accuracy: 0.2344 - ETA: 49s - loss: 1.9146 - accuracy: 0.268 - ETA: 45s - loss: 1.8199 - accuracy: 0.306 - ETA: 42s - loss: 1.7691 - accuracy: 0.304 - ETA: 39s - loss: 1.7259 - accuracy: 0.319 - ETA: 37s - loss: 1.6898 - accuracy: 0.334 - ETA: 36s - loss: 1.6648 - accuracy: 0.335 - ETA: 34s - loss: 1.6366 - accuracy: 0.349 - ETA: 33s - loss: 1.6176 - accuracy: 0.347 - ETA: 32s - loss: 1.6036 - accuracy: 0.357 - ETA: 31s - loss: 1.5804 - accuracy: 0.366 - ETA: 29s - loss: 1.5578 - accuracy: 0.378 - ETA: 28s - loss: 1.5389 - accuracy: 0.385 - ETA: 27s - loss: 1.5257 - accuracy: 0.384 - ETA: 26s - loss: 1.5181 - accuracy: 0.385 - ETA: 25s - loss: 1.5069 - accuracy: 0.390 - ETA: 24s - loss: 1.5007 - accuracy: 0.389 - ETA: 23s - loss: 1.4933 - accuracy: 0.389 - ETA: 23s - loss: 1.4870 - accuracy: 0.390 - ETA: 22s - loss: 1.4764 - accuracy: 0.397 - ETA: 21s - loss: 1.4654 - accuracy: 0.401 - ETA: 20s - loss: 1.4536 - accuracy: 0.403 - ETA: 19s - loss: 1.4481 - accuracy: 0.404 - ETA: 18s - loss: 1.4382 - accuracy: 0.409 - ETA: 17s - loss: 1.4324 - accuracy: 0.413 - ETA: 16s - loss: 1.4234 - accuracy: 0.418 - ETA: 15s - loss: 1.4249 - accuracy: 0.414 - ETA: 14s - loss: 1.4217 - accuracy: 0.414 - ETA: 13s - loss: 1.4164 - accuracy: 0.418 - ETA: 13s - loss: 1.4095 - accuracy: 0.420 - ETA: 12s - loss: 1.4036 - accuracy: 0.421 - ETA: 11s - loss: 1.4052 - accuracy: 0.419 - ETA: 10s - loss: 1.3987 - accuracy: 0.422 - ETA: 9s - loss: 1.3931 - accuracy: 0.423 - ETA: 8s - loss: 1.3849 - accuracy: 0.42 - ETA: 7s - loss: 1.3832 - accuracy: 0.42 - ETA: 7s - loss: 1.3786 - accuracy: 0.42 - ETA: 6s - loss: 1.3765 - accuracy: 0.42 - ETA: 5s - loss: 1.3719 - accuracy: 0.42 - ETA: 4s - loss: 1.3678 - accuracy: 0.42 - ETA: 3s - loss: 1.3632 - accuracy: 0.42 - ETA: 2s - loss: 1.3594 - accuracy: 0.43 - ETA: 1s - loss: 1.3546 - accuracy: 0.43 - ETA: 1s - loss: 1.3503 - accuracy: 0.43 - ETA: 0s - loss: 1.3484 - accuracy: 0.43 - 43s 7ms/sample - loss: 1.3479 - accuracy: 0.4318 - val_loss: 1.2199 - val_accuracy: 0.4465\n"
     ]
    },
    {
     "name": "stderr",
     "output_type": "stream",
     "text": [
      "\u001b[32m[I 2021-01-14 17:26:32,552]\u001b[0m Trial 10 finished with value: 0.4465493857860565 and parameters: {'filters': 64, 'kernel_size': 3, 'strides': 1, 'activation': 'relu', 'padding': 'same', 'lr': 0.0003679367334452258}. Best is trial 8 with value: 0.4905277490615845.\u001b[0m\n"
     ]
    },
    {
     "name": "stdout",
     "output_type": "stream",
     "text": [
      "Train on 5912 samples, validate on 1478 samples\n",
      "5912/5912 [==============================] - ETA: 1:29 - loss: 1.6145 - accuracy: 0.20 - ETA: 1:02 - loss: 2.1046 - accuracy: 0.21 - ETA: 52s - loss: 1.9464 - accuracy: 0.2708 - ETA: 47s - loss: 1.8292 - accuracy: 0.318 - ETA: 43s - loss: 1.7757 - accuracy: 0.329 - ETA: 41s - loss: 1.7259 - accuracy: 0.339 - ETA: 38s - loss: 1.6852 - accuracy: 0.352 - ETA: 37s - loss: 1.6473 - accuracy: 0.359 - ETA: 35s - loss: 1.6168 - accuracy: 0.364 - ETA: 34s - loss: 1.5795 - accuracy: 0.375 - ETA: 32s - loss: 1.5563 - accuracy: 0.380 - ETA: 31s - loss: 1.5439 - accuracy: 0.386 - ETA: 30s - loss: 1.5300 - accuracy: 0.390 - ETA: 29s - loss: 1.5140 - accuracy: 0.392 - ETA: 28s - loss: 1.5020 - accuracy: 0.397 - ETA: 27s - loss: 1.4917 - accuracy: 0.398 - ETA: 26s - loss: 1.4830 - accuracy: 0.398 - ETA: 25s - loss: 1.4713 - accuracy: 0.400 - ETA: 24s - loss: 1.4652 - accuracy: 0.401 - ETA: 23s - loss: 1.4589 - accuracy: 0.399 - ETA: 22s - loss: 1.4564 - accuracy: 0.398 - ETA: 21s - loss: 1.4520 - accuracy: 0.397 - ETA: 20s - loss: 1.4461 - accuracy: 0.398 - ETA: 19s - loss: 1.4386 - accuracy: 0.398 - ETA: 18s - loss: 1.4282 - accuracy: 0.401 - ETA: 17s - loss: 1.4288 - accuracy: 0.402 - ETA: 16s - loss: 1.4269 - accuracy: 0.403 - ETA: 15s - loss: 1.4197 - accuracy: 0.405 - ETA: 14s - loss: 1.4190 - accuracy: 0.405 - ETA: 14s - loss: 1.4132 - accuracy: 0.408 - ETA: 13s - loss: 1.4088 - accuracy: 0.408 - ETA: 12s - loss: 1.4035 - accuracy: 0.409 - ETA: 11s - loss: 1.3996 - accuracy: 0.409 - ETA: 10s - loss: 1.3959 - accuracy: 0.408 - ETA: 9s - loss: 1.3937 - accuracy: 0.409 - ETA: 8s - loss: 1.3899 - accuracy: 0.40 - ETA: 7s - loss: 1.3844 - accuracy: 0.41 - ETA: 7s - loss: 1.3783 - accuracy: 0.41 - ETA: 6s - loss: 1.3738 - accuracy: 0.41 - ETA: 5s - loss: 1.3691 - accuracy: 0.41 - ETA: 4s - loss: 1.3672 - accuracy: 0.41 - ETA: 3s - loss: 1.3642 - accuracy: 0.41 - ETA: 2s - loss: 1.3596 - accuracy: 0.41 - ETA: 1s - loss: 1.3541 - accuracy: 0.41 - ETA: 1s - loss: 1.3509 - accuracy: 0.41 - ETA: 0s - loss: 1.3496 - accuracy: 0.41 - 43s 7ms/sample - loss: 1.3489 - accuracy: 0.4191 - val_loss: 1.4540 - val_accuracy: 0.3687\n"
     ]
    },
    {
     "name": "stderr",
     "output_type": "stream",
     "text": [
      "\u001b[32m[I 2021-01-14 17:27:18,473]\u001b[0m Trial 11 finished with value: 0.36874154210090637 and parameters: {'filters': 64, 'kernel_size': 3, 'strides': 1, 'activation': 'relu', 'padding': 'same', 'lr': 0.0005728710465758094}. Best is trial 8 with value: 0.4905277490615845.\u001b[0m\n"
     ]
    },
    {
     "name": "stdout",
     "output_type": "stream",
     "text": [
      "Train on 5912 samples, validate on 1478 samples\n",
      "5912/5912 [==============================] - ETA: 1:19 - loss: 1.6932 - accuracy: 0.19 - ETA: 56s - loss: 29.8188 - accuracy: 0.19 - ETA: 49s - loss: 20.4134 - accuracy: 0.22 - ETA: 45s - loss: 15.7089 - accuracy: 0.21 - ETA: 42s - loss: 12.8707 - accuracy: 0.26 - ETA: 39s - loss: 11.2649 - accuracy: 0.25 - ETA: 38s - loss: 10.0412 - accuracy: 0.25 - ETA: 36s - loss: 8.9870 - accuracy: 0.2471 - ETA: 34s - loss: 8.1665 - accuracy: 0.263 - ETA: 33s - loss: 7.5095 - accuracy: 0.268 - ETA: 32s - loss: 6.9740 - accuracy: 0.262 - ETA: 31s - loss: 6.5255 - accuracy: 0.274 - ETA: 30s - loss: 6.1451 - accuracy: 0.283 - ETA: 28s - loss: 5.8120 - accuracy: 0.295 - ETA: 27s - loss: 5.5357 - accuracy: 0.287 - ETA: 26s - loss: 5.2867 - accuracy: 0.289 - ETA: 25s - loss: 5.0588 - accuracy: 0.294 - ETA: 24s - loss: 4.8588 - accuracy: 0.295 - ETA: 23s - loss: 4.6820 - accuracy: 0.297 - ETA: 22s - loss: 4.5172 - accuracy: 0.299 - ETA: 21s - loss: 4.3666 - accuracy: 0.304 - ETA: 21s - loss: 4.2284 - accuracy: 0.309 - ETA: 20s - loss: 4.1029 - accuracy: 0.310 - ETA: 19s - loss: 3.9808 - accuracy: 0.316 - ETA: 18s - loss: 3.8698 - accuracy: 0.323 - ETA: 17s - loss: 3.7681 - accuracy: 0.326 - ETA: 16s - loss: 3.6725 - accuracy: 0.331 - ETA: 15s - loss: 3.5929 - accuracy: 0.331 - ETA: 14s - loss: 3.5162 - accuracy: 0.334 - ETA: 14s - loss: 3.4434 - accuracy: 0.338 - ETA: 13s - loss: 3.3748 - accuracy: 0.340 - ETA: 12s - loss: 3.3075 - accuracy: 0.344 - ETA: 11s - loss: 3.2451 - accuracy: 0.349 - ETA: 10s - loss: 3.1864 - accuracy: 0.352 - ETA: 9s - loss: 3.1286 - accuracy: 0.356 - ETA: 8s - loss: 3.0772 - accuracy: 0.35 - ETA: 7s - loss: 3.0274 - accuracy: 0.36 - ETA: 7s - loss: 2.9798 - accuracy: 0.36 - ETA: 6s - loss: 2.9358 - accuracy: 0.36 - ETA: 5s - loss: 2.8899 - accuracy: 0.36 - ETA: 4s - loss: 2.8472 - accuracy: 0.37 - ETA: 3s - loss: 2.8097 - accuracy: 0.37 - ETA: 2s - loss: 2.7742 - accuracy: 0.37 - ETA: 1s - loss: 2.7401 - accuracy: 0.37 - ETA: 1s - loss: 2.7055 - accuracy: 0.38 - ETA: 0s - loss: 2.6750 - accuracy: 0.38 - 43s 7ms/sample - loss: 2.6694 - accuracy: 0.3823 - val_loss: 1.4302 - val_accuracy: 0.2984\n"
     ]
    },
    {
     "name": "stderr",
     "output_type": "stream",
     "text": [
      "\u001b[32m[I 2021-01-14 17:28:04,503]\u001b[0m Trial 12 finished with value: 0.2983761727809906 and parameters: {'filters': 64, 'kernel_size': 3, 'strides': 1, 'activation': 'relu', 'padding': 'same', 'lr': 0.00457028528840714}. Best is trial 8 with value: 0.4905277490615845.\u001b[0m\n"
     ]
    },
    {
     "name": "stdout",
     "output_type": "stream",
     "text": [
      "Train on 5912 samples, validate on 1478 samples\n",
      "5912/5912 [==============================] - ETA: 1:27 - loss: 1.6287 - accuracy: 0.22 - ETA: 1:01 - loss: 1.7366 - accuracy: 0.25 - ETA: 51s - loss: 1.6902 - accuracy: 0.2682 - ETA: 46s - loss: 1.6481 - accuracy: 0.271 - ETA: 42s - loss: 1.6004 - accuracy: 0.315 - ETA: 40s - loss: 1.5588 - accuracy: 0.328 - ETA: 38s - loss: 1.5354 - accuracy: 0.330 - ETA: 36s - loss: 1.5460 - accuracy: 0.320 - ETA: 35s - loss: 1.5198 - accuracy: 0.335 - ETA: 33s - loss: 1.5048 - accuracy: 0.344 - ETA: 32s - loss: 1.4869 - accuracy: 0.353 - ETA: 31s - loss: 1.4764 - accuracy: 0.361 - ETA: 30s - loss: 1.4650 - accuracy: 0.362 - ETA: 28s - loss: 1.4534 - accuracy: 0.367 - ETA: 27s - loss: 1.4488 - accuracy: 0.368 - ETA: 26s - loss: 1.4412 - accuracy: 0.370 - ETA: 25s - loss: 1.4289 - accuracy: 0.374 - ETA: 25s - loss: 1.4209 - accuracy: 0.376 - ETA: 24s - loss: 1.4104 - accuracy: 0.382 - ETA: 23s - loss: 1.4028 - accuracy: 0.386 - ETA: 22s - loss: 1.3924 - accuracy: 0.392 - ETA: 21s - loss: 1.3845 - accuracy: 0.395 - ETA: 20s - loss: 1.3812 - accuracy: 0.395 - ETA: 19s - loss: 1.3721 - accuracy: 0.399 - ETA: 18s - loss: 1.3638 - accuracy: 0.404 - ETA: 17s - loss: 1.3588 - accuracy: 0.405 - ETA: 16s - loss: 1.3546 - accuracy: 0.405 - ETA: 15s - loss: 1.3474 - accuracy: 0.409 - ETA: 15s - loss: 1.3411 - accuracy: 0.411 - ETA: 14s - loss: 1.3369 - accuracy: 0.412 - ETA: 13s - loss: 1.3334 - accuracy: 0.412 - ETA: 12s - loss: 1.3324 - accuracy: 0.413 - ETA: 11s - loss: 1.3309 - accuracy: 0.413 - ETA: 10s - loss: 1.3233 - accuracy: 0.417 - ETA: 9s - loss: 1.3188 - accuracy: 0.418 - ETA: 8s - loss: 1.3142 - accuracy: 0.41 - ETA: 8s - loss: 1.3069 - accuracy: 0.42 - ETA: 7s - loss: 1.3084 - accuracy: 0.42 - ETA: 6s - loss: 1.3067 - accuracy: 0.42 - ETA: 5s - loss: 1.3074 - accuracy: 0.42 - ETA: 4s - loss: 1.3040 - accuracy: 0.42 - ETA: 3s - loss: 1.2994 - accuracy: 0.42 - ETA: 2s - loss: 1.2987 - accuracy: 0.42 - ETA: 1s - loss: 1.2934 - accuracy: 0.42 - ETA: 1s - loss: 1.2887 - accuracy: 0.43 - ETA: 0s - loss: 1.2850 - accuracy: 0.43 - 45s 8ms/sample - loss: 1.2860 - accuracy: 0.4318 - val_loss: 1.2274 - val_accuracy: 0.4526\n"
     ]
    },
    {
     "name": "stderr",
     "output_type": "stream",
     "text": [
      "\u001b[32m[I 2021-01-14 17:28:53,134]\u001b[0m Trial 13 finished with value: 0.4526387155056 and parameters: {'filters': 64, 'kernel_size': 3, 'strides': 1, 'activation': 'relu', 'padding': 'same', 'lr': 0.00023728535901056352}. Best is trial 8 with value: 0.4905277490615845.\u001b[0m\n"
     ]
    },
    {
     "name": "stdout",
     "output_type": "stream",
     "text": [
      "Train on 5912 samples, validate on 1478 samples\n",
      "5912/5912 [==============================] - ETA: 1:05 - loss: 1.6144 - accuracy: 0.26 - ETA: 40s - loss: 21120964.8072 - accuracy: 0.25 - ETA: 31s - loss: 14082103.6840 - accuracy: 0.23 - ETA: 26s - loss: 10563791.0818 - accuracy: 0.21 - ETA: 23s - loss: 8451036.0237 - accuracy: 0.2141 - ETA: 21s - loss: 7042530.4284 - accuracy: 0.201 - ETA: 20s - loss: 6036454.9149 - accuracy: 0.206 - ETA: 18s - loss: 5281898.3339 - accuracy: 0.204 - ETA: 17s - loss: 4695020.9476 - accuracy: 0.200 - ETA: 16s - loss: 4225519.0315 - accuracy: 0.200 - ETA: 15s - loss: 3841381.1481 - accuracy: 0.200 - ETA: 15s - loss: 3521266.1973 - accuracy: 0.197 - ETA: 14s - loss: 3250399.7225 - accuracy: 0.194 - ETA: 13s - loss: 3018228.4426 - accuracy: 0.194 - ETA: 13s - loss: 2817013.3297 - accuracy: 0.195 - ETA: 12s - loss: 2640950.1142 - accuracy: 0.197 - ETA: 12s - loss: 2485600.2106 - accuracy: 0.198 - ETA: 11s - loss: 2347511.4030 - accuracy: 0.199 - ETA: 11s - loss: 2223958.2804 - accuracy: 0.197 - ETA: 10s - loss: 2112760.4505 - accuracy: 0.198 - ETA: 10s - loss: 2012152.9479 - accuracy: 0.198 - ETA: 9s - loss: 1920691.5292 - accuracy: 0.199 - ETA: 9s - loss: 1837183.2783 - accuracy: 0.20 - ETA: 8s - loss: 1760634.0645 - accuracy: 0.20 - ETA: 8s - loss: 1690208.7679 - accuracy: 0.20 - ETA: 7s - loss: 1625200.8197 - accuracy: 0.20 - ETA: 7s - loss: 1565008.2567 - accuracy: 0.20 - ETA: 7s - loss: 1509115.1753 - accuracy: 0.20 - ETA: 6s - loss: 1457076.7948 - accuracy: 0.20 - ETA: 6s - loss: 1408507.6221 - accuracy: 0.20 - ETA: 5s - loss: 1363071.9491 - accuracy: 0.20 - ETA: 5s - loss: 1320476.0114 - accuracy: 0.20 - ETA: 5s - loss: 1280461.6409 - accuracy: 0.19 - ETA: 4s - loss: 1242801.0522 - accuracy: 0.19 - ETA: 4s - loss: 1207292.4981 - accuracy: 0.19 - ETA: 3s - loss: 1173756.6417 - accuracy: 0.19 - ETA: 3s - loss: 1142033.5444 - accuracy: 0.19 - ETA: 3s - loss: 1111980.0817 - accuracy: 0.19 - ETA: 2s - loss: 1083467.8165 - accuracy: 0.19 - ETA: 2s - loss: 1056381.1663 - accuracy: 0.19 - ETA: 1s - loss: 1030615.8111 - accuracy: 0.19 - ETA: 1s - loss: 1006077.3784 - accuracy: 0.19 - ETA: 1s - loss: 982680.2680 - accuracy: 0.1948 - ETA: 0s - loss: 960346.6629 - accuracy: 0.193 - ETA: 0s - loss: 939005.6635 - accuracy: 0.193 - ETA: 0s - loss: 918592.5325 - accuracy: 0.193 - 18s 3ms/sample - loss: 914863.4759 - accuracy: 0.1932 - val_loss: 1.6262 - val_accuracy: 0.2165\n"
     ]
    },
    {
     "name": "stderr",
     "output_type": "stream",
     "text": [
      "\u001b[32m[I 2021-01-14 17:29:12,903]\u001b[0m Trial 14 finished with value: 0.21650879085063934 and parameters: {'filters': 32, 'kernel_size': 3, 'strides': 1, 'activation': 'relu', 'padding': 'same', 'lr': 0.08925768831706396}. Best is trial 8 with value: 0.4905277490615845.\u001b[0m\n"
     ]
    },
    {
     "name": "stdout",
     "output_type": "stream",
     "text": [
      "Train on 5912 samples, validate on 1478 samples\n",
      "5912/5912 [==============================] - ETA: 1:27 - loss: 1.6541 - accuracy: 0.13 - ETA: 1:02 - loss: 4.4533 - accuracy: 0.16 - ETA: 53s - loss: 3.5284 - accuracy: 0.1641 - ETA: 49s - loss: 3.0474 - accuracy: 0.191 - ETA: 45s - loss: 2.7547 - accuracy: 0.209 - ETA: 43s - loss: 2.5358 - accuracy: 0.251 - ETA: 41s - loss: 2.4929 - accuracy: 0.279 - ETA: 39s - loss: 2.3728 - accuracy: 0.291 - ETA: 38s - loss: 2.2713 - accuracy: 0.309 - ETA: 36s - loss: 2.1826 - accuracy: 0.316 - ETA: 35s - loss: 2.1090 - accuracy: 0.325 - ETA: 33s - loss: 2.0503 - accuracy: 0.330 - ETA: 32s - loss: 1.9979 - accuracy: 0.334 - ETA: 31s - loss: 1.9439 - accuracy: 0.349 - ETA: 30s - loss: 1.9316 - accuracy: 0.350 - ETA: 29s - loss: 1.9061 - accuracy: 0.354 - ETA: 28s - loss: 1.8740 - accuracy: 0.358 - ETA: 27s - loss: 1.8453 - accuracy: 0.362 - ETA: 26s - loss: 1.8105 - accuracy: 0.370 - ETA: 25s - loss: 1.7841 - accuracy: 0.376 - ETA: 24s - loss: 1.7642 - accuracy: 0.376 - ETA: 23s - loss: 1.7409 - accuracy: 0.380 - ETA: 22s - loss: 1.7156 - accuracy: 0.384 - ETA: 21s - loss: 1.6931 - accuracy: 0.388 - ETA: 20s - loss: 1.6904 - accuracy: 0.388 - ETA: 19s - loss: 1.6808 - accuracy: 0.387 - ETA: 18s - loss: 1.6682 - accuracy: 0.389 - ETA: 17s - loss: 1.6506 - accuracy: 0.393 - ETA: 16s - loss: 1.6369 - accuracy: 0.394 - ETA: 15s - loss: 1.6269 - accuracy: 0.393 - ETA: 14s - loss: 1.6167 - accuracy: 0.393 - ETA: 13s - loss: 1.6038 - accuracy: 0.395 - ETA: 12s - loss: 1.5978 - accuracy: 0.394 - ETA: 11s - loss: 1.5889 - accuracy: 0.397 - ETA: 10s - loss: 1.5801 - accuracy: 0.397 - ETA: 9s - loss: 1.5717 - accuracy: 0.398 - ETA: 8s - loss: 1.5620 - accuracy: 0.39 - ETA: 7s - loss: 1.5533 - accuracy: 0.40 - ETA: 6s - loss: 1.5435 - accuracy: 0.40 - ETA: 5s - loss: 1.5354 - accuracy: 0.40 - ETA: 4s - loss: 1.5277 - accuracy: 0.40 - ETA: 3s - loss: 1.5205 - accuracy: 0.40 - ETA: 3s - loss: 1.5130 - accuracy: 0.40 - ETA: 2s - loss: 1.5076 - accuracy: 0.41 - ETA: 1s - loss: 1.5019 - accuracy: 0.41 - ETA: 0s - loss: 1.4947 - accuracy: 0.41 - 47s 8ms/sample - loss: 1.4939 - accuracy: 0.4127 - val_loss: 1.2294 - val_accuracy: 0.4696\n"
     ]
    },
    {
     "name": "stderr",
     "output_type": "stream",
     "text": [
      "\u001b[32m[I 2021-01-14 17:30:03,816]\u001b[0m Trial 15 finished with value: 0.4695534408092499 and parameters: {'filters': 64, 'kernel_size': 3, 'strides': 1, 'activation': 'relu', 'padding': 'same', 'lr': 0.0015772255652082986}. Best is trial 8 with value: 0.4905277490615845.\u001b[0m\n"
     ]
    },
    {
     "name": "stdout",
     "output_type": "stream",
     "text": [
      "Train on 5912 samples, validate on 1478 samples\n",
      "5912/5912 [==============================] - ETA: 1:39 - loss: 1.6381 - accuracy: 0.16 - ETA: 1:09 - loss: 186.5419 - accuracy: 0.17 - ETA: 58s - loss: 125.0455 - accuracy: 0.1771 - ETA: 52s - loss: 94.1874 - accuracy: 0.185 - ETA: 48s - loss: 75.6666 - accuracy: 0.19 - ETA: 45s - loss: 63.7466 - accuracy: 0.20 - ETA: 42s - loss: 54.8704 - accuracy: 0.20 - ETA: 40s - loss: 48.2120 - accuracy: 0.21 - ETA: 39s - loss: 43.0343 - accuracy: 0.21 - ETA: 37s - loss: 38.8890 - accuracy: 0.22 - ETA: 36s - loss: 35.5067 - accuracy: 0.22 - ETA: 34s - loss: 32.6802 - accuracy: 0.22 - ETA: 33s - loss: 30.2888 - accuracy: 0.22 - ETA: 32s - loss: 28.2380 - accuracy: 0.23 - ETA: 31s - loss: 26.4563 - accuracy: 0.23 - ETA: 29s - loss: 24.8941 - accuracy: 0.25 - ETA: 28s - loss: 23.5084 - accuracy: 0.26 - ETA: 27s - loss: 22.3100 - accuracy: 0.27 - ETA: 26s - loss: 21.2157 - accuracy: 0.27 - ETA: 25s - loss: 20.2260 - accuracy: 0.28 - ETA: 24s - loss: 19.3276 - accuracy: 0.29 - ETA: 23s - loss: 18.5113 - accuracy: 0.29 - ETA: 22s - loss: 17.7675 - accuracy: 0.29 - ETA: 21s - loss: 17.0958 - accuracy: 0.30 - ETA: 20s - loss: 16.4731 - accuracy: 0.30 - ETA: 19s - loss: 15.8944 - accuracy: 0.30 - ETA: 18s - loss: 15.3563 - accuracy: 0.30 - ETA: 17s - loss: 14.8561 - accuracy: 0.31 - ETA: 16s - loss: 14.3904 - accuracy: 0.31 - ETA: 15s - loss: 13.9559 - accuracy: 0.31 - ETA: 14s - loss: 13.5477 - accuracy: 0.32 - ETA: 13s - loss: 13.1657 - accuracy: 0.32 - ETA: 12s - loss: 12.8097 - accuracy: 0.32 - ETA: 11s - loss: 12.4711 - accuracy: 0.33 - ETA: 10s - loss: 12.1517 - accuracy: 0.33 - ETA: 9s - loss: 11.8504 - accuracy: 0.3385 - ETA: 8s - loss: 11.5620 - accuracy: 0.342 - ETA: 7s - loss: 11.2891 - accuracy: 0.344 - ETA: 6s - loss: 11.0322 - accuracy: 0.346 - ETA: 5s - loss: 10.7868 - accuracy: 0.349 - ETA: 4s - loss: 10.5531 - accuracy: 0.351 - ETA: 3s - loss: 10.3337 - accuracy: 0.353 - ETA: 3s - loss: 10.1311 - accuracy: 0.352 - ETA: 2s - loss: 9.9358 - accuracy: 0.350 - ETA: 1s - loss: 9.7448 - accuracy: 0.35 - ETA: 0s - loss: 9.5614 - accuracy: 0.35 - 48s 8ms/sample - loss: 9.5277 - accuracy: 0.3555 - val_loss: 1.3092 - val_accuracy: 0.4161\n"
     ]
    },
    {
     "name": "stderr",
     "output_type": "stream",
     "text": [
      "\u001b[32m[I 2021-01-14 17:30:55,405]\u001b[0m Trial 16 finished with value: 0.4161028563976288 and parameters: {'filters': 64, 'kernel_size': 3, 'strides': 1, 'activation': 'relu', 'padding': 'same', 'lr': 0.006469555767516358}. Best is trial 8 with value: 0.4905277490615845.\u001b[0m\n"
     ]
    },
    {
     "name": "stdout",
     "output_type": "stream",
     "text": [
      "Train on 5912 samples, validate on 1478 samples\n",
      "5912/5912 [==============================] - ETA: 1:03 - loss: 1.6426 - accuracy: 0.21 - ETA: 38s - loss: 2.4243 - accuracy: 0.2266 - ETA: 30s - loss: 2.1695 - accuracy: 0.216 - ETA: 26s - loss: 2.0313 - accuracy: 0.209 - ETA: 23s - loss: 1.9388 - accuracy: 0.228 - ETA: 21s - loss: 1.8769 - accuracy: 0.225 - ETA: 19s - loss: 1.8260 - accuracy: 0.229 - ETA: 18s - loss: 1.7866 - accuracy: 0.238 - ETA: 17s - loss: 1.7512 - accuracy: 0.243 - ETA: 16s - loss: 1.7274 - accuracy: 0.250 - ETA: 15s - loss: 1.6978 - accuracy: 0.266 - ETA: 15s - loss: 1.6656 - accuracy: 0.277 - ETA: 14s - loss: 1.6924 - accuracy: 0.276 - ETA: 13s - loss: 1.6739 - accuracy: 0.289 - ETA: 13s - loss: 1.6577 - accuracy: 0.294 - ETA: 12s - loss: 1.6402 - accuracy: 0.303 - ETA: 12s - loss: 1.6200 - accuracy: 0.310 - ETA: 11s - loss: 1.6027 - accuracy: 0.315 - ETA: 11s - loss: 1.5778 - accuracy: 0.325 - ETA: 10s - loss: 1.5686 - accuracy: 0.327 - ETA: 10s - loss: 1.5582 - accuracy: 0.332 - ETA: 9s - loss: 1.5456 - accuracy: 0.336 - ETA: 9s - loss: 1.5312 - accuracy: 0.34 - ETA: 8s - loss: 1.5183 - accuracy: 0.34 - ETA: 8s - loss: 1.5091 - accuracy: 0.34 - ETA: 7s - loss: 1.5017 - accuracy: 0.35 - ETA: 7s - loss: 1.4913 - accuracy: 0.35 - ETA: 7s - loss: 1.4873 - accuracy: 0.35 - ETA: 6s - loss: 1.4820 - accuracy: 0.35 - ETA: 6s - loss: 1.4713 - accuracy: 0.36 - ETA: 5s - loss: 1.4624 - accuracy: 0.36 - ETA: 5s - loss: 1.4555 - accuracy: 0.37 - ETA: 5s - loss: 1.4486 - accuracy: 0.37 - ETA: 4s - loss: 1.4409 - accuracy: 0.37 - ETA: 4s - loss: 1.4358 - accuracy: 0.37 - ETA: 3s - loss: 1.4303 - accuracy: 0.38 - ETA: 3s - loss: 1.4232 - accuracy: 0.38 - ETA: 3s - loss: 1.4190 - accuracy: 0.38 - ETA: 2s - loss: 1.4123 - accuracy: 0.38 - ETA: 2s - loss: 1.4050 - accuracy: 0.39 - ETA: 1s - loss: 1.3999 - accuracy: 0.39 - ETA: 1s - loss: 1.3972 - accuracy: 0.39 - ETA: 1s - loss: 1.3931 - accuracy: 0.39 - ETA: 0s - loss: 1.3872 - accuracy: 0.39 - ETA: 0s - loss: 1.3835 - accuracy: 0.39 - ETA: 0s - loss: 1.3809 - accuracy: 0.40 - 19s 3ms/sample - loss: 1.3797 - accuracy: 0.4012 - val_loss: 1.3908 - val_accuracy: 0.3667\n"
     ]
    },
    {
     "name": "stderr",
     "output_type": "stream",
     "text": [
      "\u001b[32m[I 2021-01-14 17:31:15,318]\u001b[0m Trial 17 finished with value: 0.3667117655277252 and parameters: {'filters': 32, 'kernel_size': 3, 'strides': 1, 'activation': 'relu', 'padding': 'same', 'lr': 0.001133029286886631}. Best is trial 8 with value: 0.4905277490615845.\u001b[0m\n"
     ]
    },
    {
     "name": "stdout",
     "output_type": "stream",
     "text": [
      "Number of finished trials: 18\n",
      "Best trial:\n",
      "  Value: 0.4905277490615845\n",
      "  Params: \n",
      "    filters: 64\n",
      "    kernel_size: 3\n",
      "    strides: 1\n",
      "    activation: relu\n",
      "    padding: same\n",
      "    lr: 0.0008465448849043298\n"
     ]
    }
   ],
   "source": [
    "study = optuna.create_study(direction=\"maximize\")\n",
    "study.optimize(objective, n_trials=100, timeout=600)\n",
    "print(\"Number of finished trials: {}\".format(len(study.trials)))\n",
    "print(\"Best trial:\")\n",
    "trial = study.best_trial\n",
    "print(\"  Value: {}\".format(trial.value))\n",
    "print(\"  Params: \")\n",
    "for key, value in trial.params.items():\n",
    "    print(\"    {}: {}\".format(key, value))"
   ]
  },
  {
   "cell_type": "code",
   "execution_count": 49,
   "metadata": {},
   "outputs": [
    {
     "name": "stdout",
     "output_type": "stream",
     "text": [
      "Number of finished trials: 1\n"
     ]
    }
   ],
   "source": [
    "print(\"Number of finished trials: {}\".format(len(study.trials)))"
   ]
  },
  {
   "cell_type": "code",
   "execution_count": 53,
   "metadata": {},
   "outputs": [
    {
     "name": "stdout",
     "output_type": "stream",
     "text": [
      "Best trial:\n",
      "  Value: 0.332882285118103\n"
     ]
    }
   ],
   "source": [
    "print(\"Best trial:\")\n",
    "trial = study.best_trial\n",
    "print(\"  Value: {}\".format(trial.value))"
   ]
  },
  {
   "cell_type": "code",
   "execution_count": null,
   "metadata": {},
   "outputs": [],
   "source": [
    "print(\"  Params: \")\n",
    "for key, value in trial.params.items():\n",
    "    print(\"    {}: {}\".format(key, value))"
   ]
  },
  {
   "cell_type": "code",
   "execution_count": null,
   "metadata": {},
   "outputs": [],
   "source": []
  },
  {
   "cell_type": "code",
   "execution_count": null,
   "metadata": {},
   "outputs": [],
   "source": []
  },
  {
   "cell_type": "code",
   "execution_count": null,
   "metadata": {},
   "outputs": [],
   "source": []
  },
  {
   "cell_type": "code",
   "execution_count": null,
   "metadata": {},
   "outputs": [],
   "source": []
  },
  {
   "cell_type": "code",
   "execution_count": 14,
   "metadata": {},
   "outputs": [],
   "source": [
    "def calcSTFT_norm(inputSignal, samplingFreq, window='hann', nperseg=225, figsize=(9,5), cmap='magma', ylim_max=None):\n",
    "\n",
    "    ##Calculating STFT\n",
    "    f, t, Zxx = signal.stft(inputSignal, samplingFreq, window=window, nperseg=nperseg)\n",
    "    ##Plotting STFT\n",
    "    fig = plt.figure(figsize=figsize)\n",
    "    ### Different methods can be chosen for normalization: PowerNorm; LogNorm; SymLogNorm.\n",
    "    ### Reference: https://matplotlib.org/tutorials/colors/colormapnorms.html\n",
    "    spec = plt.pcolormesh(t, f, np.abs(Zxx), \n",
    "                          norm=matplotlib.colors.PowerNorm(gamma=1./8.),\n",
    "                          #norm=colors.LogNorm(vmin=np.abs(Zxx).min(), vmax=np.abs(Zxx).max()),\n",
    "                          #norm=colors.SymLogNorm(linthresh=0.13, linscale=1,\n",
    "                          #                       vmin=-1.0, vmax=1.0),\n",
    "                          cmap=plt.get_cmap(cmap))\n",
    "    cbar = plt.colorbar(spec)\n",
    "    ##Plot adjustments\n",
    "    plt.title('STFT Spectrogram')\n",
    "    ax = fig.axes[0]\n",
    "    ax.grid(True)\n",
    "    ax.set_title('STFT Magnitude')\n",
    "    if ylim_max:\n",
    "        ax.set_ylim(0,ylim_max)\n",
    "    ax.set_ylabel('Frequency [Hz]')\n",
    "    ax.set_xlabel('Time [sec]')\n",
    "    fig.show\n",
    "    return t,f,Zxx"
   ]
  },
  {
   "cell_type": "code",
   "execution_count": 25,
   "metadata": {},
   "outputs": [
    {
     "data": {
      "text/plain": [
       "0.38136974"
      ]
     },
     "execution_count": 25,
     "metadata": {},
     "output_type": "execute_result"
    }
   ],
   "source": [
    "X[0][1][0]"
   ]
  },
  {
   "cell_type": "code",
   "execution_count": 26,
   "metadata": {},
   "outputs": [
    {
     "data": {
      "text/plain": [
       "[0.3405087, 8.308413, 4.1405845]"
      ]
     },
     "execution_count": 26,
     "metadata": {},
     "output_type": "execute_result"
    }
   ],
   "source": [
    "X[0][0]"
   ]
  },
  {
   "cell_type": "code",
   "execution_count": 6,
   "metadata": {},
   "outputs": [
    {
     "data": {
      "text/plain": [
       "(225,)"
      ]
     },
     "execution_count": 6,
     "metadata": {},
     "output_type": "execute_result"
    }
   ],
   "source": [
    "x=[]\n",
    "for i in range(225):\n",
    "    tee = X[0][i][0]\n",
    "    x.append(tee)\n",
    "x = np.array(x)\n",
    "x.shape"
   ]
  },
  {
   "cell_type": "code",
   "execution_count": 37,
   "metadata": {},
   "outputs": [
    {
     "data": {
      "image/png": "[encoded data removed]",
      "text/plain": [
       "<Figure size 648x360 with 2 Axes>"
      ]
     },
     "metadata": {
      "needs_background": "light"
     },
     "output_type": "display_data"
    }
   ],
   "source": [
    "y = calcSTFT_norm(x,5,nperseg=10)\n"
   ]
  },
  {
   "cell_type": "code",
   "execution_count": 36,
   "metadata": {},
   "outputs": [
    {
     "data": {
      "text/plain": [
       "(3, 76)"
      ]
     },
     "execution_count": 36,
     "metadata": {},
     "output_type": "execute_result"
    }
   ],
   "source": [
    "y = np.array(y)\n",
    "y[2].shape"
   ]
  },
  {
   "cell_type": "code",
   "execution_count": 46,
   "metadata": {},
   "outputs": [
    {
     "data": {
      "text/plain": [
       "<matplotlib.colorbar.Colorbar at 0x1e73a2a4808>"
      ]
     },
     "execution_count": 46,
     "metadata": {},
     "output_type": "execute_result"
    },
    {
     "data": {
      "image/png": "[encoded data removed]",
      "text/plain": [
       "<Figure size 1008x360 with 2 Axes>"
      ]
     },
     "metadata": {
      "needs_background": "light"
     },
     "output_type": "display_data"
    }
   ],
   "source": [
    "import librosa\n",
    "import librosa.display\n",
    "#display Spectrogram\n",
    "d = librosa.stft(x)\n",
    "Xdb = librosa.amplitude_to_db(abs(d))\n",
    "plt.figure(figsize=(14, 5))\n",
    "librosa.display.specshow(Xdb,sr = 5, x_axis='time', y_axis='hz') \n",
    "#If to pring log of frequencies  \n",
    "#librosa.display.specshow(Xdb, sr=sr, x_axis='time', y_axis='log')\n",
    "plt.colorbar()"
   ]
  },
  {
   "cell_type": "code",
   "execution_count": 47,
   "metadata": {},
   "outputs": [
    {
     "name": "stdout",
     "output_type": "stream",
     "text": [
      "(20, 1)\n"
     ]
    },
    {
     "data": {
      "text/plain": [
       "<matplotlib.colorbar.Colorbar at 0x1e73a315dc8>"
      ]
     },
     "execution_count": 47,
     "metadata": {},
     "output_type": "execute_result"
    },
    {
     "data": {
      "image/png": "[encoded data removed]",
      "text/plain": [
       "<Figure size 432x288 with 2 Axes>"
      ]
     },
     "metadata": {
      "needs_background": "light"
     },
     "output_type": "display_data"
    }
   ],
   "source": [
    "mfccs = librosa.feature.mfcc(x, sr=5)\n",
    "print(mfccs.shape)\n",
    "#Displaying  the MFCCs:\n",
    "librosa.display.specshow(mfccs, sr=5, x_axis='time', y_axis='hz')\n",
    "plt.colorbar()"
   ]
  },
  {
   "cell_type": "code",
   "execution_count": 51,
   "metadata": {},
   "outputs": [
    {
     "ename": "NameError",
     "evalue": "name 'f' is not defined",
     "output_type": "error",
     "traceback": [
      "\u001b[1;31m---------------------------------------------------------------------------\u001b[0m",
      "\u001b[1;31mNameError\u001b[0m                                 Traceback (most recent call last)",
      "\u001b[1;32m<ipython-input-51-5055b10066d3>\u001b[0m in \u001b[0;36m<module>\u001b[1;34m\u001b[0m\n\u001b[1;32m----> 1\u001b[1;33m \u001b[0mplt\u001b[0m\u001b[1;33m.\u001b[0m\u001b[0mpcolormesh\u001b[0m\u001b[1;33m(\u001b[0m\u001b[0mt\u001b[0m\u001b[1;33m,\u001b[0m\u001b[0mf\u001b[0m\u001b[1;33m,\u001b[0m\u001b[0mXdb\u001b[0m\u001b[1;33m)\u001b[0m\u001b[1;33m\u001b[0m\u001b[1;33m\u001b[0m\u001b[0m\n\u001b[0m",
      "\u001b[1;31mNameError\u001b[0m: name 'f' is not defined"
     ]
    }
   ],
   "source": [
    "plt.pcolormesh(t,f,Xdb)"
   ]
  },
  {
   "cell_type": "code",
   "execution_count": 40,
   "metadata": {},
   "outputs": [],
   "source": [
    "f,t,Zxx = signal.stft(x,5,nperseg=10)"
   ]
  },
  {
   "cell_type": "code",
   "execution_count": 43,
   "metadata": {},
   "outputs": [
    {
     "data": {
      "text/plain": [
       "(6, 46)"
      ]
     },
     "execution_count": 43,
     "metadata": {},
     "output_type": "execute_result"
    }
   ],
   "source": [
    "abs(Zxx).shape"
   ]
  },
  {
   "cell_type": "code",
   "execution_count": 45,
   "metadata": {},
   "outputs": [
    {
     "data": {
      "text/plain": [
       "(0.18830579161680117+0j)"
      ]
     },
     "execution_count": 45,
     "metadata": {},
     "output_type": "execute_result"
    }
   ],
   "source": [
    "Zxx[0,0]"
   ]
  },
  {
   "cell_type": "code",
   "execution_count": null,
   "metadata": {},
   "outputs": [],
   "source": []
  }
 ],
 "metadata": {
  "celltoolbar": "Raw Cell Format",
  "kernelspec": {
   "display_name": "Python 3",
   "language": "python",
   "name": "python3"
  },
  "language_info": {
   "codemirror_mode": {
    "name": "ipython",
    "version": 3
   },
   "file_extension": ".py",
   "mimetype": "text/x-python",
   "name": "python",
   "nbconvert_exporter": "python",
   "pygments_lexer": "ipython3",
   "version": "3.7.4"
  }
 },
 "nbformat": 4,
 "nbformat_minor": 2
}
